{
  "cells": [
    {
      "cell_type": "markdown",
      "metadata": {
        "_uuid": "401abc6e974ba9e33a7fb989e4f418788c2a6e11",
        "id": "PfDhHcwFLTbx"
      },
      "source": [
        "# How To Recommend Anything?\n",
        "\n",
        "**To support people best possible on their way through life, it is necessary to have an optimal recommendation on hand.**<br>\n",
        "Whether you want to introduce people among themselves in your social network, try to recommend a suitable supplement for the shopping basket of your customers or need a hint for yourself which movie to watch in the evening, there are unlimited possibilities to apply recommendation engines/systems around us.\n",
        "\n",
        "In this notebook I will explore and compare different algorithms and approaches to recommend anything. I am using the **[netflix movie-dataset](https://www.kaggle.com/netflix-inc/netflix-prize-data/home)** and the **[movies-dataset](https://www.kaggle.com/rounakbanik/the-movies-dataset/home)** for this purpose.\n",
        "\n",
        "Feel free to suggest suggestions or to comment comments.\n",
        "\n",
        "+ [1. Import Libraries](#1)<br>\n",
        "+ [2. Load Movie-Data](#2)<br>\n",
        "+ [2.1. Load Movie-Data](#2.1)<br>\n",
        "+ [2.2. Process Data](#2.2)<br>\n",
        "+ [3. Load User-Data And Preprocess Data-Structure](#3)<br>\n",
        "+ [4. When Were The Movies Released?](#4)<br>\n",
        "+ [5. How Are The Ratings Distributed?](#5)<br>\n",
        "+ [6. When Have The Movies Been Rated?](#6)<br>\n",
        "+ [7. How Are The Number Of Ratings Distributed For The Movies And The Users?](#7)<br>\n",
        "+ [8. Filter Sparse Movies And Users](#8)<br>\n",
        "+ [9. Create Train- And Testset](#9)<br>\n",
        "+ [10. Transform The User-Ratings To User-Movie-Matrix](#10)<br>\n",
        "+ [11. Recommendation Engines](#11)<br>\n",
        " + [11.1. Mean Rating](#11.1)<br>\n",
        " + [11.2. Weighted Mean Rating](#11.2)<br>\n",
        " + [11.3. Cosine User-User Similarity](#11.3)<br>\n",
        " + [11.4. Cosine TFIDF Movie Description Similarity](#11.4)<br>\n",
        " + [11.5. Matrix Factorisation With Keras And Gradient Descent](#11.5)<br>\n",
        " + [11.6. Deep Learning With Keras](#11.6)<br>\n",
        " + [11.7. Deep Hybrid System With Metadata And Keras](#11.7)<br>\n",
        "+ [12. Exploring Python Libraries](#12)<br>\n",
        " + [12.1. Surprise Library](#12.1)<br>\n",
        " + [12.2. Lightfm Library](#12.2)<br>\n",
        "+ [13. Conclusion](#13)<br>\n",
        "\n",
        "***\n",
        "## <a id=1>1. Import Libraries</a>"
      ]
    },
    {
      "cell_type": "code",
      "execution_count": 42,
      "metadata": {
        "id": "i2rrcfh-MvID"
      },
      "outputs": [
        {
          "name": "stdout",
          "output_type": "stream",
          "text": [
            "Requirement already satisfied: lightfm in c:\\users\\jsbreite\\anaconda3\\lib\\site-packages (1.16)\n",
            "Requirement already satisfied: numpy in c:\\users\\jsbreite\\anaconda3\\lib\\site-packages (from lightfm) (1.21.5)\n",
            "Requirement already satisfied: scikit-learn in c:\\users\\jsbreite\\anaconda3\\lib\\site-packages (from lightfm) (1.0.2)\n",
            "Requirement already satisfied: scipy>=0.17.0 in c:\\users\\jsbreite\\anaconda3\\lib\\site-packages (from lightfm) (1.7.3)\n",
            "Requirement already satisfied: requests in c:\\users\\jsbreite\\anaconda3\\lib\\site-packages (from lightfm) (2.27.1)\n",
            "Requirement already satisfied: charset-normalizer~=2.0.0 in c:\\users\\jsbreite\\anaconda3\\lib\\site-packages (from requests->lightfm) (2.0.4)\n",
            "Requirement already satisfied: certifi>=2017.4.17 in c:\\users\\jsbreite\\anaconda3\\lib\\site-packages (from requests->lightfm) (2021.10.8)\n",
            "Requirement already satisfied: urllib3<1.27,>=1.21.1 in c:\\users\\jsbreite\\anaconda3\\lib\\site-packages (from requests->lightfm) (1.26.9)\n",
            "Requirement already satisfied: idna<4,>=2.5 in c:\\users\\jsbreite\\anaconda3\\lib\\site-packages (from requests->lightfm) (3.3)\n",
            "Requirement already satisfied: joblib>=0.11 in c:\\users\\jsbreite\\anaconda3\\lib\\site-packages (from scikit-learn->lightfm) (1.1.0)\n",
            "Requirement already satisfied: threadpoolctl>=2.0.0 in c:\\users\\jsbreite\\anaconda3\\lib\\site-packages (from scikit-learn->lightfm) (2.2.0)\n",
            "Requirement already satisfied: pandas in c:\\users\\jsbreite\\anaconda3\\lib\\site-packages (1.4.2)\n",
            "Requirement already satisfied: numpy>=1.18.5 in c:\\users\\jsbreite\\anaconda3\\lib\\site-packages (from pandas) (1.21.5)\n",
            "Requirement already satisfied: python-dateutil>=2.8.1 in c:\\users\\jsbreite\\anaconda3\\lib\\site-packages (from pandas) (2.8.2)\n",
            "Requirement already satisfied: pytz>=2020.1 in c:\\users\\jsbreite\\anaconda3\\lib\\site-packages (from pandas) (2021.3)\n",
            "Requirement already satisfied: six>=1.5 in c:\\users\\jsbreite\\anaconda3\\lib\\site-packages (from python-dateutil>=2.8.1->pandas) (1.16.0)\n",
            "Requirement already satisfied: surprise in c:\\users\\jsbreite\\anaconda3\\lib\\site-packages (0.1)\n",
            "Requirement already satisfied: scikit-surprise in c:\\users\\jsbreite\\anaconda3\\lib\\site-packages (from surprise) (1.1.2)\n",
            "Requirement already satisfied: numpy>=1.17.3 in c:\\users\\jsbreite\\anaconda3\\lib\\site-packages (from scikit-surprise->surprise) (1.21.5)\n",
            "Requirement already satisfied: scipy>=1.3.2 in c:\\users\\jsbreite\\anaconda3\\lib\\site-packages (from scikit-surprise->surprise) (1.7.3)\n",
            "Requirement already satisfied: joblib>=1.0.0 in c:\\users\\jsbreite\\anaconda3\\lib\\site-packages (from scikit-surprise->surprise) (1.1.0)\n",
            "Requirement already satisfied: keras in c:\\users\\jsbreite\\anaconda3\\lib\\site-packages (2.10.0)\n",
            "Requirement already satisfied: scikit-surprise in c:\\users\\jsbreite\\anaconda3\\lib\\site-packages (1.1.2)\n",
            "Requirement already satisfied: numpy>=1.17.3 in c:\\users\\jsbreite\\anaconda3\\lib\\site-packages (from scikit-surprise) (1.21.5)\n",
            "Requirement already satisfied: scipy>=1.3.2 in c:\\users\\jsbreite\\anaconda3\\lib\\site-packages (from scikit-surprise) (1.7.3)\n",
            "Requirement already satisfied: joblib>=1.0.0 in c:\\users\\jsbreite\\anaconda3\\lib\\site-packages (from scikit-surprise) (1.1.0)\n",
            "Requirement already satisfied: tensorflow in c:\\users\\jsbreite\\anaconda3\\lib\\site-packages (2.10.0)\n",
            "Requirement already satisfied: termcolor>=1.1.0 in c:\\users\\jsbreite\\anaconda3\\lib\\site-packages (from tensorflow) (2.0.1)\n",
            "Requirement already satisfied: astunparse>=1.6.0 in c:\\users\\jsbreite\\anaconda3\\lib\\site-packages (from tensorflow) (1.6.3)\n",
            "Requirement already satisfied: keras-preprocessing>=1.1.1 in c:\\users\\jsbreite\\anaconda3\\lib\\site-packages (from tensorflow) (1.1.2)\n",
            "Requirement already satisfied: gast<=0.4.0,>=0.2.1 in c:\\users\\jsbreite\\anaconda3\\lib\\site-packages (from tensorflow) (0.4.0)\n",
            "Requirement already satisfied: opt-einsum>=2.3.2 in c:\\users\\jsbreite\\anaconda3\\lib\\site-packages (from tensorflow) (3.3.0)\n",
            "Requirement already satisfied: setuptools in c:\\users\\jsbreite\\anaconda3\\lib\\site-packages (from tensorflow) (65.3.0)\n",
            "Requirement already satisfied: tensorflow-io-gcs-filesystem>=0.23.1 in c:\\users\\jsbreite\\anaconda3\\lib\\site-packages (from tensorflow) (0.27.0)\n",
            "Requirement already satisfied: packaging in c:\\users\\jsbreite\\anaconda3\\lib\\site-packages (from tensorflow) (21.3)\n",
            "Requirement already satisfied: h5py>=2.9.0 in c:\\users\\jsbreite\\anaconda3\\lib\\site-packages (from tensorflow) (3.6.0)\n",
            "Requirement already satisfied: tensorflow-estimator<2.11,>=2.10.0 in c:\\users\\jsbreite\\anaconda3\\lib\\site-packages (from tensorflow) (2.10.0)\n",
            "Requirement already satisfied: grpcio<2.0,>=1.24.3 in c:\\users\\jsbreite\\anaconda3\\lib\\site-packages (from tensorflow) (1.42.0)\n",
            "Requirement already satisfied: google-pasta>=0.1.1 in c:\\users\\jsbreite\\anaconda3\\lib\\site-packages (from tensorflow) (0.2.0)\n",
            "Requirement already satisfied: libclang>=13.0.0 in c:\\users\\jsbreite\\anaconda3\\lib\\site-packages (from tensorflow) (14.0.6)\n",
            "Requirement already satisfied: wrapt>=1.11.0 in c:\\users\\jsbreite\\anaconda3\\lib\\site-packages (from tensorflow) (1.12.1)\n",
            "Requirement already satisfied: typing-extensions>=3.6.6 in c:\\users\\jsbreite\\anaconda3\\lib\\site-packages (from tensorflow) (4.1.1)\n",
            "Requirement already satisfied: keras<2.11,>=2.10.0 in c:\\users\\jsbreite\\anaconda3\\lib\\site-packages (from tensorflow) (2.10.0)\n",
            "Requirement already satisfied: flatbuffers>=2.0 in c:\\users\\jsbreite\\anaconda3\\lib\\site-packages (from tensorflow) (2.0.7)\n",
            "Requirement already satisfied: numpy>=1.20 in c:\\users\\jsbreite\\anaconda3\\lib\\site-packages (from tensorflow) (1.21.5)\n",
            "Requirement already satisfied: absl-py>=1.0.0 in c:\\users\\jsbreite\\anaconda3\\lib\\site-packages (from tensorflow) (1.2.0)\n",
            "Requirement already satisfied: tensorboard<2.11,>=2.10 in c:\\users\\jsbreite\\anaconda3\\lib\\site-packages (from tensorflow) (2.10.0)\n",
            "Requirement already satisfied: six>=1.12.0 in c:\\users\\jsbreite\\anaconda3\\lib\\site-packages (from tensorflow) (1.16.0)\n",
            "Requirement already satisfied: protobuf<3.20,>=3.9.2 in c:\\users\\jsbreite\\anaconda3\\lib\\site-packages (from tensorflow) (3.19.1)\n",
            "Requirement already satisfied: wheel<1.0,>=0.23.0 in c:\\users\\jsbreite\\anaconda3\\lib\\site-packages (from astunparse>=1.6.0->tensorflow) (0.37.1)\n",
            "Requirement already satisfied: google-auth-oauthlib<0.5,>=0.4.1 in c:\\users\\jsbreite\\anaconda3\\lib\\site-packages (from tensorboard<2.11,>=2.10->tensorflow) (0.4.6)\n",
            "Requirement already satisfied: requests<3,>=2.21.0 in c:\\users\\jsbreite\\anaconda3\\lib\\site-packages (from tensorboard<2.11,>=2.10->tensorflow) (2.27.1)\n",
            "Requirement already satisfied: google-auth<3,>=1.6.3 in c:\\users\\jsbreite\\anaconda3\\lib\\site-packages (from tensorboard<2.11,>=2.10->tensorflow) (1.33.0)\n",
            "Requirement already satisfied: tensorboard-plugin-wit>=1.6.0 in c:\\users\\jsbreite\\anaconda3\\lib\\site-packages (from tensorboard<2.11,>=2.10->tensorflow) (1.8.1)\n",
            "Requirement already satisfied: markdown>=2.6.8 in c:\\users\\jsbreite\\anaconda3\\lib\\site-packages (from tensorboard<2.11,>=2.10->tensorflow) (3.3.4)\n",
            "Requirement already satisfied: werkzeug>=1.0.1 in c:\\users\\jsbreite\\anaconda3\\lib\\site-packages (from tensorboard<2.11,>=2.10->tensorflow) (2.0.3)\n",
            "Requirement already satisfied: tensorboard-data-server<0.7.0,>=0.6.0 in c:\\users\\jsbreite\\anaconda3\\lib\\site-packages (from tensorboard<2.11,>=2.10->tensorflow) (0.6.1)\n",
            "Requirement already satisfied: pyasn1-modules>=0.2.1 in c:\\users\\jsbreite\\anaconda3\\lib\\site-packages (from google-auth<3,>=1.6.3->tensorboard<2.11,>=2.10->tensorflow) (0.2.8)\n",
            "Requirement already satisfied: cachetools<5.0,>=2.0.0 in c:\\users\\jsbreite\\anaconda3\\lib\\site-packages (from google-auth<3,>=1.6.3->tensorboard<2.11,>=2.10->tensorflow) (4.2.2)\n",
            "Requirement already satisfied: rsa<5,>=3.1.4 in c:\\users\\jsbreite\\anaconda3\\lib\\site-packages (from google-auth<3,>=1.6.3->tensorboard<2.11,>=2.10->tensorflow) (4.7.2)\n",
            "Requirement already satisfied: requests-oauthlib>=0.7.0 in c:\\users\\jsbreite\\anaconda3\\lib\\site-packages (from google-auth-oauthlib<0.5,>=0.4.1->tensorboard<2.11,>=2.10->tensorflow) (1.3.1)\n",
            "Requirement already satisfied: pyasn1<0.5.0,>=0.4.6 in c:\\users\\jsbreite\\anaconda3\\lib\\site-packages (from pyasn1-modules>=0.2.1->google-auth<3,>=1.6.3->tensorboard<2.11,>=2.10->tensorflow) (0.4.8)\n",
            "Requirement already satisfied: idna<4,>=2.5 in c:\\users\\jsbreite\\anaconda3\\lib\\site-packages (from requests<3,>=2.21.0->tensorboard<2.11,>=2.10->tensorflow) (3.3)\n",
            "Requirement already satisfied: certifi>=2017.4.17 in c:\\users\\jsbreite\\anaconda3\\lib\\site-packages (from requests<3,>=2.21.0->tensorboard<2.11,>=2.10->tensorflow) (2021.10.8)\n",
            "Requirement already satisfied: urllib3<1.27,>=1.21.1 in c:\\users\\jsbreite\\anaconda3\\lib\\site-packages (from requests<3,>=2.21.0->tensorboard<2.11,>=2.10->tensorflow) (1.26.9)\n",
            "Requirement already satisfied: charset-normalizer~=2.0.0 in c:\\users\\jsbreite\\anaconda3\\lib\\site-packages (from requests<3,>=2.21.0->tensorboard<2.11,>=2.10->tensorflow) (2.0.4)\n",
            "Requirement already satisfied: oauthlib>=3.0.0 in c:\\users\\jsbreite\\anaconda3\\lib\\site-packages (from requests-oauthlib>=0.7.0->google-auth-oauthlib<0.5,>=0.4.1->tensorboard<2.11,>=2.10->tensorflow) (3.2.1)\n",
            "Requirement already satisfied: pyparsing!=3.0.5,>=2.0.2 in c:\\users\\jsbreite\\anaconda3\\lib\\site-packages (from packaging->tensorflow) (3.0.4)\n",
            "Requirement already satisfied: pandas in c:\\users\\jsbreite\\anaconda3\\lib\\site-packages (1.4.2)\n",
            "Requirement already satisfied: pytz>=2020.1 in c:\\users\\jsbreite\\anaconda3\\lib\\site-packages (from pandas) (2021.3)\n",
            "Requirement already satisfied: python-dateutil>=2.8.1 in c:\\users\\jsbreite\\anaconda3\\lib\\site-packages (from pandas) (2.8.2)\n",
            "Requirement already satisfied: numpy>=1.18.5 in c:\\users\\jsbreite\\anaconda3\\lib\\site-packages (from pandas) (1.21.5)\n",
            "Requirement already satisfied: six>=1.5 in c:\\users\\jsbreite\\anaconda3\\lib\\site-packages (from python-dateutil>=2.8.1->pandas) (1.16.0)\n",
            "Collecting google.colab\n",
            "  Downloading google-colab-1.0.0.tar.gz (72 kB)\n",
            "Collecting google-auth~=1.4.0\n",
            "  Downloading google_auth-1.4.2-py2.py3-none-any.whl (64 kB)\n",
            "Collecting ipykernel~=4.6.0\n",
            "  Downloading ipykernel-4.6.1-py3-none-any.whl (104 kB)\n",
            "Collecting ipython~=5.5.0\n",
            "  Downloading ipython-5.5.0-py3-none-any.whl (758 kB)\n",
            "Collecting notebook~=5.2.0\n",
            "  Downloading notebook-5.2.2-py2.py3-none-any.whl (8.0 MB)\n",
            "Collecting six~=1.12.0\n",
            "  Downloading six-1.12.0-py2.py3-none-any.whl (10 kB)\n",
            "Collecting pandas~=0.24.0\n",
            "  Downloading pandas-0.24.2.tar.gz (11.8 MB)\n",
            "Collecting portpicker~=1.2.0\n",
            "  Downloading portpicker-1.2.0.tar.gz (17 kB)\n",
            "Collecting requests~=2.21.0\n",
            "  Downloading requests-2.21.0-py2.py3-none-any.whl (57 kB)\n",
            "Collecting tornado~=4.5.0\n",
            "  Downloading tornado-4.5.3.tar.gz (484 kB)\n",
            "Requirement already satisfied: cachetools>=2.0.0 in c:\\users\\jsbreite\\anaconda3\\lib\\site-packages (from google-auth~=1.4.0->google.colab) (4.2.2)\n",
            "Requirement already satisfied: pyasn1-modules>=0.2.1 in c:\\users\\jsbreite\\anaconda3\\lib\\site-packages (from google-auth~=1.4.0->google.colab) (0.2.8)\n",
            "Requirement already satisfied: rsa>=3.1.4 in c:\\users\\jsbreite\\anaconda3\\lib\\site-packages (from google-auth~=1.4.0->google.colab) (4.7.2)\n",
            "Requirement already satisfied: jupyter-client in c:\\users\\jsbreite\\anaconda3\\lib\\site-packages (from ipykernel~=4.6.0->google.colab) (6.1.12)\n",
            "Requirement already satisfied: traitlets>=4.1.0 in c:\\users\\jsbreite\\anaconda3\\lib\\site-packages (from ipykernel~=4.6.0->google.colab) (5.1.1)\n",
            "Requirement already satisfied: colorama in c:\\users\\jsbreite\\anaconda3\\lib\\site-packages (from ipython~=5.5.0->google.colab) (0.4.4)\n",
            "Requirement already satisfied: setuptools>=18.5 in c:\\users\\jsbreite\\anaconda3\\lib\\site-packages (from ipython~=5.5.0->google.colab) (65.3.0)\n",
            "Requirement already satisfied: pygments in c:\\users\\jsbreite\\anaconda3\\lib\\site-packages (from ipython~=5.5.0->google.colab) (2.11.2)\n",
            "Collecting prompt-toolkit<2.0.0,>=1.0.4\n",
            "  Downloading prompt_toolkit-1.0.18-py3-none-any.whl (245 kB)\n",
            "Requirement already satisfied: decorator in c:\\users\\jsbreite\\anaconda3\\lib\\site-packages (from ipython~=5.5.0->google.colab) (5.1.1)\n",
            "Collecting simplegeneric>0.8\n",
            "  Downloading simplegeneric-0.8.1.zip (12 kB)\n",
            "Requirement already satisfied: pickleshare in c:\\users\\jsbreite\\anaconda3\\lib\\site-packages (from ipython~=5.5.0->google.colab) (0.7.5)\n",
            "Requirement already satisfied: ipython-genutils in c:\\users\\jsbreite\\anaconda3\\lib\\site-packages (from notebook~=5.2.0->google.colab) (0.2.0)\n",
            "Requirement already satisfied: jupyter-core in c:\\users\\jsbreite\\anaconda3\\lib\\site-packages (from notebook~=5.2.0->google.colab) (4.9.2)\n",
            "Requirement already satisfied: nbformat in c:\\users\\jsbreite\\anaconda3\\lib\\site-packages (from notebook~=5.2.0->google.colab) (5.3.0)\n",
            "Requirement already satisfied: jinja2 in c:\\users\\jsbreite\\anaconda3\\lib\\site-packages (from notebook~=5.2.0->google.colab) (2.11.3)\n",
            "Requirement already satisfied: nbconvert in c:\\users\\jsbreite\\anaconda3\\lib\\site-packages (from notebook~=5.2.0->google.colab) (6.4.4)\n",
            "Requirement already satisfied: python-dateutil>=2.5.0 in c:\\users\\jsbreite\\anaconda3\\lib\\site-packages (from pandas~=0.24.0->google.colab) (2.8.2)"
          ]
        },
        {
          "name": "stderr",
          "output_type": "stream",
          "text": [
            "  ERROR: Command errored out with exit status 1:\n",
            "   command: 'c:\\Users\\jsbreite\\Anaconda3\\python.exe' -u -c 'import io, os, sys, setuptools, tokenize; sys.argv[0] = '\"'\"'C:\\\\Users\\\\jsbreite\\\\AppData\\\\Local\\\\Temp\\\\pip-install-cujfncp8\\\\pandas_a2748f7c9fdc40b282d2d35b4ffbb3bf\\\\setup.py'\"'\"'; __file__='\"'\"'C:\\\\Users\\\\jsbreite\\\\AppData\\\\Local\\\\Temp\\\\pip-install-cujfncp8\\\\pandas_a2748f7c9fdc40b282d2d35b4ffbb3bf\\\\setup.py'\"'\"';f = getattr(tokenize, '\"'\"'open'\"'\"', open)(__file__) if os.path.exists(__file__) else io.StringIO('\"'\"'from setuptools import setup; setup()'\"'\"');code = f.read().replace('\"'\"'\\r\\n'\"'\"', '\"'\"'\\n'\"'\"');f.close();exec(compile(code, __file__, '\"'\"'exec'\"'\"'))' bdist_wheel -d 'C:\\Users\\jsbreite\\AppData\\Local\\Temp\\pip-wheel-snhc0g0a'\n",
            "       cwd: C:\\Users\\jsbreite\\AppData\\Local\\Temp\\pip-install-cujfncp8\\pandas_a2748f7c9fdc40b282d2d35b4ffbb3bf\\\n",
            "  Complete output (1130 lines):\n",
            "  C:\\Users\\jsbreite\\AppData\\Local\\Temp\\pip-install-cujfncp8\\pandas_a2748f7c9fdc40b282d2d35b4ffbb3bf\\setup.py:50: DeprecationWarning: distutils Version classes are deprecated. Use packaging.version instead.\n",
            "    _CYTHON_INSTALLED = ver >= LooseVersion(min_cython_ver)\n",
            "  running bdist_wheel\n",
            "  running build\n",
            "  running build_py\n",
            "  creating build\n",
            "  creating build\\lib.win-amd64-cpython-39\n",
            "  creating build\\lib.win-amd64-cpython-39\\pandas\n",
            "  copying pandas\\conftest.py -> build\\lib.win-amd64-cpython-39\\pandas\n",
            "  copying pandas\\testing.py -> build\\lib.win-amd64-cpython-39\\pandas\n",
            "  copying pandas\\_version.py -> build\\lib.win-amd64-cpython-39\\pandas\n",
            "  copying pandas\\__init__.py -> build\\lib.win-amd64-cpython-39\\pandas\n",
            "  creating build\\lib.win-amd64-cpython-39\\pandas\\api\n",
            "  copying pandas\\api\\__init__.py -> build\\lib.win-amd64-cpython-39\\pandas\\api\n",
            "  creating build\\lib.win-amd64-cpython-39\\pandas\\arrays\n",
            "  copying pandas\\arrays\\__init__.py -> build\\lib.win-amd64-cpython-39\\pandas\\arrays\n",
            "  creating build\\lib.win-amd64-cpython-39\\pandas\\compat\n",
            "  copying pandas\\compat\\chainmap.py -> build\\lib.win-amd64-cpython-39\\pandas\\compat\n",
            "  copying pandas\\compat\\chainmap_impl.py -> build\\lib.win-amd64-cpython-39\\pandas\\compat\n",
            "  copying pandas\\compat\\pickle_compat.py -> build\\lib.win-amd64-cpython-39\\pandas\\compat\n",
            "  copying pandas\\compat\\__init__.py -> build\\lib.win-amd64-cpython-39\\pandas\\compat\n",
            "  creating build\\lib.win-amd64-cpython-39\\pandas\\core\n",
            "  copying pandas\\core\\accessor.py -> build\\lib.win-amd64-cpython-39\\pandas\\core\n",
            "  copying pandas\\core\\algorithms.py -> build\\lib.win-amd64-cpython-39\\pandas\\core\n",
            "  copying pandas\\core\\api.py -> build\\lib.win-amd64-cpython-39\\pandas\\core\n",
            "  copying pandas\\core\\apply.py -> build\\lib.win-amd64-cpython-39\\pandas\\core\n",
            "  copying pandas\\core\\base.py -> build\\lib.win-amd64-cpython-39\\pandas\\core\n",
            "  copying pandas\\core\\categorical.py -> build\\lib.win-amd64-cpython-39\\pandas\\core\n",
            "  copying pandas\\core\\common.py -> build\\lib.win-amd64-cpython-39\\pandas\\core\n",
            "  copying pandas\\core\\config.py -> build\\lib.win-amd64-cpython-39\\pandas\\core\n",
            "  copying pandas\\core\\config_init.py -> build\\lib.win-amd64-cpython-39\\pandas\\core\n",
            "  copying pandas\\core\\frame.py -> build\\lib.win-amd64-cpython-39\\pandas\\core\n",
            "  copying pandas\\core\\generic.py -> build\\lib.win-amd64-cpython-39\\pandas\\core\n",
            "  copying pandas\\core\\index.py -> build\\lib.win-amd64-cpython-39\\pandas\\core\n",
            "  copying pandas\\core\\indexing.py -> build\\lib.win-amd64-cpython-39\\pandas\\core\n",
            "  copying pandas\\core\\missing.py -> build\\lib.win-amd64-cpython-39\\pandas\\core\n",
            "  copying pandas\\core\\nanops.py -> build\\lib.win-amd64-cpython-39\\pandas\\core\n",
            "  copying pandas\\core\\ops.py -> build\\lib.win-amd64-cpython-39\\pandas\\core\n",
            "  copying pandas\\core\\panel.py -> build\\lib.win-amd64-cpython-39\\pandas\\core\n",
            "  copying pandas\\core\\resample.py -> build\\lib.win-amd64-cpython-39\\pandas\\core\n",
            "  copying pandas\\core\\series.py -> build\\lib.win-amd64-cpython-39\\pandas\\core\n",
            "  copying pandas\\core\\sorting.py -> build\\lib.win-amd64-cpython-39\\pandas\\core\n",
            "  copying pandas\\core\\strings.py -> build\\lib.win-amd64-cpython-39\\pandas\\core\n",
            "  copying pandas\\core\\window.py -> build\\lib.win-amd64-cpython-39\\pandas\\core"
          ]
        },
        {
          "name": "stdout",
          "output_type": "stream",
          "text": [
            "\n",
            "Requirement already satisfied: pytz>=2011k in c:\\users\\jsbreite\\anaconda3\\lib\\site-packages (from pandas~=0.24.0->google.colab) (2021.3)\n",
            "Requirement already satisfied: numpy>=1.12.0 in c:\\users\\jsbreite\\anaconda3\\lib\\site-packages (from pandas~=0.24.0->google.colab) (1.21.5)\n",
            "Requirement already satisfied: wcwidth in c:\\users\\jsbreite\\anaconda3\\lib\\site-packages (from prompt-toolkit<2.0.0,>=1.0.4->ipython~=5.5.0->google.colab) (0.2.5)\n",
            "Requirement already satisfied: pyasn1<0.5.0,>=0.4.6 in c:\\users\\jsbreite\\anaconda3\\lib\\site-packages (from pyasn1-modules>=0.2.1->google-auth~=1.4.0->google.colab) (0.4.8)\n",
            "Requirement already satisfied: certifi>=2017.4.17 in c:\\users\\jsbreite\\anaconda3\\lib\\site-packages (from requests~=2.21.0->google.colab) (2021.10.8)\n",
            "Collecting idna<2.9,>=2.5\n",
            "  Downloading idna-2.8-py2.py3-none-any.whl (58 kB)\n",
            "Collecting urllib3<1.25,>=1.21.1\n",
            "  Downloading urllib3-1.24.3-py2.py3-none-any.whl (118 kB)\n",
            "Collecting chardet<3.1.0,>=3.0.2\n",
            "  Downloading chardet-3.0.4-py2.py3-none-any.whl (133 kB)\n",
            "Requirement already satisfied: MarkupSafe>=0.23 in c:\\users\\jsbreite\\anaconda3\\lib\\site-packages (from jinja2->notebook~=5.2.0->google.colab) (2.0.1)\n",
            "Requirement already satisfied: pyzmq>=13 in c:\\users\\jsbreite\\anaconda3\\lib\\site-packages (from jupyter-client->ipykernel~=4.6.0->google.colab) (22.3.0)\n",
            "Requirement already satisfied: pywin32>=1.0 in c:\\users\\jsbreite\\anaconda3\\lib\\site-packages (from jupyter-core->notebook~=5.2.0->google.colab) (302)\n",
            "Requirement already satisfied: pandocfilters>=1.4.1 in c:\\users\\jsbreite\\anaconda3\\lib\\site-packages (from nbconvert->notebook~=5.2.0->google.colab) (1.5.0)\n",
            "Requirement already satisfied: bleach in c:\\users\\jsbreite\\anaconda3\\lib\\site-packages (from nbconvert->notebook~=5.2.0->google.colab) (4.1.0)\n",
            "Requirement already satisfied: testpath in c:\\users\\jsbreite\\anaconda3\\lib\\site-packages (from nbconvert->notebook~=5.2.0->google.colab) (0.5.0)\n",
            "Requirement already satisfied: mistune<2,>=0.8.1 in c:\\users\\jsbreite\\anaconda3\\lib\\site-packages (from nbconvert->notebook~=5.2.0->google.colab) (0.8.4)\n",
            "Requirement already satisfied: entrypoints>=0.2.2 in c:\\users\\jsbreite\\anaconda3\\lib\\site-packages (from nbconvert->notebook~=5.2.0->google.colab) (0.4)\n",
            "Requirement already satisfied: defusedxml in c:\\users\\jsbreite\\anaconda3\\lib\\site-packages (from nbconvert->notebook~=5.2.0->google.colab) (0.7.1)\n",
            "Requirement already satisfied: beautifulsoup4 in c:\\users\\jsbreite\\anaconda3\\lib\\site-packages (from nbconvert->notebook~=5.2.0->google.colab) (4.11.1)\n",
            "Requirement already satisfied: nbclient<0.6.0,>=0.5.0 in c:\\users\\jsbreite\\anaconda3\\lib\\site-packages (from nbconvert->notebook~=5.2.0->google.colab) (0.5.13)\n",
            "Requirement already satisfied: jupyterlab-pygments in c:\\users\\jsbreite\\anaconda3\\lib\\site-packages (from nbconvert->notebook~=5.2.0->google.colab) (0.1.2)\n",
            "Requirement already satisfied: nest-asyncio in c:\\users\\jsbreite\\anaconda3\\lib\\site-packages (from nbclient<0.6.0,>=0.5.0->nbconvert->notebook~=5.2.0->google.colab) (1.5.5)\n",
            "Requirement already satisfied: jsonschema>=2.6 in c:\\users\\jsbreite\\anaconda3\\lib\\site-packages (from nbformat->notebook~=5.2.0->google.colab) (4.4.0)\n",
            "Requirement already satisfied: fastjsonschema in c:\\users\\jsbreite\\anaconda3\\lib\\site-packages (from nbformat->notebook~=5.2.0->google.colab) (2.15.1)\n",
            "Requirement already satisfied: pyrsistent!=0.17.0,!=0.17.1,!=0.17.2,>=0.14.0 in c:\\users\\jsbreite\\anaconda3\\lib\\site-packages (from jsonschema>=2.6->nbformat->notebook~=5.2.0->google.colab) (0.18.0)\n",
            "Requirement already satisfied: attrs>=17.4.0 in c:\\users\\jsbreite\\anaconda3\\lib\\site-packages (from jsonschema>=2.6->nbformat->notebook~=5.2.0->google.colab) (21.4.0)\n",
            "Requirement already satisfied: soupsieve>1.2 in c:\\users\\jsbreite\\anaconda3\\lib\\site-packages (from beautifulsoup4->nbconvert->notebook~=5.2.0->google.colab) (2.3.1)\n",
            "Requirement already satisfied: packaging in c:\\users\\jsbreite\\anaconda3\\lib\\site-packages (from bleach->nbconvert->notebook~=5.2.0->google.colab) (21.3)\n",
            "Requirement already satisfied: webencodings in c:\\users\\jsbreite\\anaconda3\\lib\\site-packages (from bleach->nbconvert->notebook~=5.2.0->google.colab) (0.5.1)\n",
            "Requirement already satisfied: pyparsing!=3.0.5,>=2.0.2 in c:\\users\\jsbreite\\anaconda3\\lib\\site-packages (from packaging->bleach->nbconvert->notebook~=5.2.0->google.colab) (3.0.4)\n",
            "Building wheels for collected packages: google.colab, pandas, portpicker, simplegeneric, tornado\n",
            "  Building wheel for google.colab (setup.py): started\n",
            "  Building wheel for google.colab (setup.py): finished with status 'done'\n",
            "  Created wheel for google.colab: filename=google_colab-1.0.0-py2.py3-none-any.whl size=102276 sha256=621a76ff53ad6a3d7bd39b9ad775401e2111b123dd54fcc62c6018b51746e4ba\n",
            "  Stored in directory: c:\\users\\jsbreite\\appdata\\local\\pip\\cache\\wheels\\a8\\c1\\f9\\565bc1832dda03cc21db8c8751487357f616112b6113bbf9bb\n",
            "  Building wheel for pandas (setup.py): started\n",
            "  Building wheel for pandas (setup.py): still running...\n",
            "  Building wheel for pandas (setup.py): finished with status 'error'\n",
            "  Running setup.py clean for pandas\n",
            "  Building wheel for portpicker (setup.py): started\n",
            "  Building wheel for portpicker (setup.py): finished with status 'done'\n",
            "  Created wheel for portpicker: filename=portpicker-1.2.0-py3-none-any.whl size=13408 sha256=756d3beecfc3c8c7eaa905e1ad0c9fc3ef836c5de684d1bc93e6911c1ae3d4c4\n",
            "  Stored in directory: c:\\users\\jsbreite\\appdata\\local\\pip\\cache\\wheels\\79\\f4\\2b\\306dbe0f6b429a1ccb56aef907984a2f21bd6cb7f702b65d05\n",
            "  Building wheel for simplegeneric (setup.py): started\n",
            "  Building wheel for simplegeneric (setup.py): finished with status 'done'\n",
            "  Created wheel for simplegeneric: filename=simplegeneric-0.8.1-py3-none-any.whl size=5059 sha256=0e9603b08a74b07fe998565aef9166416d6d00985f3f70eb1f4f52d186e66828\n",
            "  Stored in directory: c:\\users\\jsbreite\\appdata\\local\\pip\\cache\\wheels\\a7\\bd\\0d\\d95b629ee4a7368830202858e45ac76cd837a42cafa50da81e\n",
            "  Building wheel for tornado (setup.py): started\n",
            "  Building wheel for tornado (setup.py): finished with status 'done'\n",
            "  Created wheel for tornado: filename=tornado-4.5.3-cp39-cp39-win_amd64.whl size=425776 sha256=20ce30f2ef97b07fae352557f61dc3a152af867bdbec658aace823556b34dc46\n",
            "  Stored in directory: c:\\users\\jsbreite\\appdata\\local\\pip\\cache\\wheels\\83\\38\\94\\6e1e08dd9ed83e2fc92914d24bf950c39e622dfbb12bf753d8\n",
            "Successfully built google.colab portpicker simplegeneric tornado\n",
            "Failed to build pandas\n",
            "Installing collected packages: six, tornado, simplegeneric, prompt-toolkit, ipython, urllib3, ipykernel, idna, chardet, requests, portpicker, pandas, notebook, google-auth, google.colab\n",
            "  Attempting uninstall: six\n",
            "    Found existing installation: six 1.16.0\n",
            "    Uninstalling six-1.16.0:\n",
            "      Successfully uninstalled six-1.16.0\n",
            "  Attempting uninstall: tornado\n",
            "    Found existing installation: tornado 6.1\n",
            "    Uninstalling tornado-6.1:\n",
            "      Successfully uninstalled tornado-6.1\n"
          ]
        },
        {
          "name": "stderr",
          "output_type": "stream",
          "text": [
            "\n",
            "  copying pandas\\core\\__init__.py -> build\\lib.win-amd64-cpython-39\\pandas\\core\n",
            "  creating build\\lib.win-amd64-cpython-39\\pandas\\errors\n",
            "  copying pandas\\errors\\__init__.py -> build\\lib.win-amd64-cpython-39\\pandas\\errors\n",
            "  creating build\\lib.win-amd64-cpython-39\\pandas\\io\n",
            "  copying pandas\\io\\api.py -> build\\lib.win-amd64-cpython-39\\pandas\\io\n",
            "  copying pandas\\io\\clipboards.py -> build\\lib.win-amd64-cpython-39\\pandas\\io\n",
            "  copying pandas\\io\\common.py -> build\\lib.win-amd64-cpython-39\\pandas\\io\n",
            "  copying pandas\\io\\date_converters.py -> build\\lib.win-amd64-cpython-39\\pandas\\io\n",
            "  copying pandas\\io\\excel.py -> build\\lib.win-amd64-cpython-39\\pandas\\io\n",
            "  copying pandas\\io\\feather_format.py -> build\\lib.win-amd64-cpython-39\\pandas\\io\n",
            "  copying pandas\\io\\gbq.py -> build\\lib.win-amd64-cpython-39\\pandas\\io\n",
            "  copying pandas\\io\\gcs.py -> build\\lib.win-amd64-cpython-39\\pandas\\io\n",
            "  copying pandas\\io\\html.py -> build\\lib.win-amd64-cpython-39\\pandas\\io\n",
            "  copying pandas\\io\\packers.py -> build\\lib.win-amd64-cpython-39\\pandas\\io\n",
            "  copying pandas\\io\\parquet.py -> build\\lib.win-amd64-cpython-39\\pandas\\io\n",
            "  copying pandas\\io\\parsers.py -> build\\lib.win-amd64-cpython-39\\pandas\\io\n",
            "  copying pandas\\io\\pickle.py -> build\\lib.win-amd64-cpython-39\\pandas\\io\n",
            "  copying pandas\\io\\pytables.py -> build\\lib.win-amd64-cpython-39\\pandas\\io\n",
            "  copying pandas\\io\\s3.py -> build\\lib.win-amd64-cpython-39\\pandas\\io\n",
            "  copying pandas\\io\\sql.py -> build\\lib.win-amd64-cpython-39\\pandas\\io\n",
            "  copying pandas\\io\\stata.py -> build\\lib.win-amd64-cpython-39\\pandas\\io\n",
            "  copying pandas\\io\\__init__.py -> build\\lib.win-amd64-cpython-39\\pandas\\io\n",
            "  creating build\\lib.win-amd64-cpython-39\\pandas\\plotting\n",
            "  copying pandas\\plotting\\_compat.py -> build\\lib.win-amd64-cpython-39\\pandas\\plotting\n",
            "  copying pandas\\plotting\\_converter.py -> build\\lib.win-amd64-cpython-39\\pandas\\plotting\n",
            "  copying pandas\\plotting\\_core.py -> build\\lib.win-amd64-cpython-39\\pandas\\plotting\n",
            "  copying pandas\\plotting\\_misc.py -> build\\lib.win-amd64-cpython-39\\pandas\\plotting\n",
            "  copying pandas\\plotting\\_style.py -> build\\lib.win-amd64-cpython-39\\pandas\\plotting\n",
            "  copying pandas\\plotting\\_timeseries.py -> build\\lib.win-amd64-cpython-39\\pandas\\plotting\n",
            "  copying pandas\\plotting\\_tools.py -> build\\lib.win-amd64-cpython-39\\pandas\\plotting\n",
            "  copying pandas\\plotting\\__init__.py -> build\\lib.win-amd64-cpython-39\\pandas\\plotting\n",
            "  creating build\\lib.win-amd64-cpython-39\\pandas\\tests\n",
            "  copying pandas\\tests\\test_algos.py -> build\\lib.win-amd64-cpython-39\\pandas\\tests\n",
            "  copying pandas\\tests\\test_base.py -> build\\lib.win-amd64-cpython-39\\pandas\\tests\n",
            "  copying pandas\\tests\\test_common.py -> build\\lib.win-amd64-cpython-39\\pandas\\tests\n",
            "  copying pandas\\tests\\test_compat.py -> build\\lib.win-amd64-cpython-39\\pandas\\tests\n",
            "  copying pandas\\tests\\test_config.py -> build\\lib.win-amd64-cpython-39\\pandas\\tests\n",
            "  copying pandas\\tests\\test_downstream.py -> build\\lib.win-amd64-cpython-39\\pandas\\tests\n",
            "  copying pandas\\tests\\test_errors.py -> build\\lib.win-amd64-cpython-39\\pandas\\tests\n",
            "  copying pandas\\tests\\test_expressions.py -> build\\lib.win-amd64-cpython-39\\pandas\\tests\n",
            "  copying pandas\\tests\\test_join.py -> build\\lib.win-amd64-cpython-39\\pandas\\tests\n",
            "  copying pandas\\tests\\test_lib.py -> build\\lib.win-amd64-cpython-39\\pandas\\tests\n",
            "  copying pandas\\tests\\test_multilevel.py -> build\\lib.win-amd64-cpython-39\\pandas\\tests\n",
            "  copying pandas\\tests\\test_nanops.py -> build\\lib.win-amd64-cpython-39\\pandas\\tests\n",
            "  copying pandas\\tests\\test_panel.py -> build\\lib.win-amd64-cpython-39\\pandas\\tests\n",
            "  copying pandas\\tests\\test_register_accessor.py -> build\\lib.win-amd64-cpython-39\\pandas\\tests\n",
            "  copying pandas\\tests\\test_sorting.py -> build\\lib.win-amd64-cpython-39\\pandas\\tests\n",
            "  copying pandas\\tests\\test_strings.py -> build\\lib.win-amd64-cpython-39\\pandas\\tests\n",
            "  copying pandas\\tests\\test_take.py -> build\\lib.win-amd64-cpython-39\\pandas\\tests\n",
            "  copying pandas\\tests\\test_window.py -> build\\lib.win-amd64-cpython-39\\pandas\\tests\n",
            "  copying pandas\\tests\\__init__.py -> build\\lib.win-amd64-cpython-39\\pandas\\tests\n",
            "  creating build\\lib.win-amd64-cpython-39\\pandas\\tseries\n",
            "  copying pandas\\tseries\\api.py -> build\\lib.win-amd64-cpython-39\\pandas\\tseries\n",
            "  copying pandas\\tseries\\converter.py -> build\\lib.win-amd64-cpython-39\\pandas\\tseries\n",
            "  copying pandas\\tseries\\frequencies.py -> build\\lib.win-amd64-cpython-39\\pandas\\tseries\n",
            "  copying pandas\\tseries\\holiday.py -> build\\lib.win-amd64-cpython-39\\pandas\\tseries\n",
            "  copying pandas\\tseries\\offsets.py -> build\\lib.win-amd64-cpython-39\\pandas\\tseries\n",
            "  copying pandas\\tseries\\plotting.py -> build\\lib.win-amd64-cpython-39\\pandas\\tseries\n",
            "  copying pandas\\tseries\\__init__.py -> build\\lib.win-amd64-cpython-39\\pandas\\tseries\n",
            "  creating build\\lib.win-amd64-cpython-39\\pandas\\util\n",
            "  copying pandas\\util\\testing.py -> build\\lib.win-amd64-cpython-39\\pandas\\util\n",
            "  copying pandas\\util\\_decorators.py -> build\\lib.win-amd64-cpython-39\\pandas\\util\n",
            "  copying pandas\\util\\_depr_module.py -> build\\lib.win-amd64-cpython-39\\pandas\\util\n",
            "  copying pandas\\util\\_doctools.py -> build\\lib.win-amd64-cpython-39\\pandas\\util\n",
            "  copying pandas\\util\\_exceptions.py -> build\\lib.win-amd64-cpython-39\\pandas\\util\n",
            "  copying pandas\\util\\_print_versions.py -> build\\lib.win-amd64-cpython-39\\pandas\\util\n",
            "  copying pandas\\util\\_tester.py -> build\\lib.win-amd64-cpython-39\\pandas\\util\n",
            "  copying pandas\\util\\_test_decorators.py -> build\\lib.win-amd64-cpython-39\\pandas\\util\n",
            "  copying pandas\\util\\_validators.py -> build\\lib.win-amd64-cpython-39\\pandas\\util\n",
            "  copying pandas\\util\\__init__.py -> build\\lib.win-amd64-cpython-39\\pandas\\util\n",
            "  creating build\\lib.win-amd64-cpython-39\\pandas\\_libs\n",
            "  copying pandas\\_libs\\__init__.py -> build\\lib.win-amd64-cpython-39\\pandas\\_libs\n",
            "  creating build\\lib.win-amd64-cpython-39\\pandas\\api\\extensions\n",
            "  copying pandas\\api\\extensions\\__init__.py -> build\\lib.win-amd64-cpython-39\\pandas\\api\\extensions\n",
            "  creating build\\lib.win-amd64-cpython-39\\pandas\\api\\types\n",
            "  copying pandas\\api\\types\\__init__.py -> build\\lib.win-amd64-cpython-39\\pandas\\api\\types\n",
            "  creating build\\lib.win-amd64-cpython-39\\pandas\\compat\\numpy\n",
            "  copying pandas\\compat\\numpy\\function.py -> build\\lib.win-amd64-cpython-39\\pandas\\compat\\numpy\n",
            "  copying pandas\\compat\\numpy\\__init__.py -> build\\lib.win-amd64-cpython-39\\pandas\\compat\\numpy\n",
            "  creating build\\lib.win-amd64-cpython-39\\pandas\\core\\arrays\n",
            "  copying pandas\\core\\arrays\\array_.py -> build\\lib.win-amd64-cpython-39\\pandas\\core\\arrays\n",
            "  copying pandas\\core\\arrays\\base.py -> build\\lib.win-amd64-cpython-39\\pandas\\core\\arrays\n",
            "  copying pandas\\core\\arrays\\categorical.py -> build\\lib.win-amd64-cpython-39\\pandas\\core\\arrays\n",
            "  copying pandas\\core\\arrays\\datetimelike.py -> build\\lib.win-amd64-cpython-39\\pandas\\core\\arrays\n",
            "  copying pandas\\core\\arrays\\datetimes.py -> build\\lib.win-amd64-cpython-39\\pandas\\core\\arrays\n",
            "  copying pandas\\core\\arrays\\integer.py -> build\\lib.win-amd64-cpython-39\\pandas\\core\\arrays\n",
            "  copying pandas\\core\\arrays\\interval.py -> build\\lib.win-amd64-cpython-39\\pandas\\core\\arrays\n",
            "  copying pandas\\core\\arrays\\numpy_.py -> build\\lib.win-amd64-cpython-39\\pandas\\core\\arrays\n",
            "  copying pandas\\core\\arrays\\period.py -> build\\lib.win-amd64-cpython-39\\pandas\\core\\arrays\n",
            "  copying pandas\\core\\arrays\\sparse.py -> build\\lib.win-amd64-cpython-39\\pandas\\core\\arrays\n",
            "  copying pandas\\core\\arrays\\timedeltas.py -> build\\lib.win-amd64-cpython-39\\pandas\\core\\arrays\n",
            "  copying pandas\\core\\arrays\\_ranges.py -> build\\lib.win-amd64-cpython-39\\pandas\\core\\arrays\n",
            "  copying pandas\\core\\arrays\\__init__.py -> build\\lib.win-amd64-cpython-39\\pandas\\core\\arrays\n",
            "  creating build\\lib.win-amd64-cpython-39\\pandas\\core\\computation\n",
            "  copying pandas\\core\\computation\\align.py -> build\\lib.win-amd64-cpython-39\\pandas\\core\\computation\n",
            "  copying pandas\\core\\computation\\api.py -> build\\lib.win-amd64-cpython-39\\pandas\\core\\computation\n",
            "  copying pandas\\core\\computation\\check.py -> build\\lib.win-amd64-cpython-39\\pandas\\core\\computation\n",
            "  copying pandas\\core\\computation\\common.py -> build\\lib.win-amd64-cpython-39\\pandas\\core\\computation\n",
            "  copying pandas\\core\\computation\\engines.py -> build\\lib.win-amd64-cpython-39\\pandas\\core\\computation\n",
            "  copying pandas\\core\\computation\\eval.py -> build\\lib.win-amd64-cpython-39\\pandas\\core\\computation\n",
            "  copying pandas\\core\\computation\\expr.py -> build\\lib.win-amd64-cpython-39\\pandas\\core\\computation\n",
            "  copying pandas\\core\\computation\\expressions.py -> build\\lib.win-amd64-cpython-39\\pandas\\core\\computation\n",
            "  copying pandas\\core\\computation\\ops.py -> build\\lib.win-amd64-cpython-39\\pandas\\core\\computation\n",
            "  copying pandas\\core\\computation\\pytables.py -> build\\lib.win-amd64-cpython-39\\pandas\\core\\computation\n",
            "  copying pandas\\core\\computation\\scope.py -> build\\lib.win-amd64-cpython-39\\pandas\\core\\computation\n",
            "  copying pandas\\core\\computation\\__init__.py -> build\\lib.win-amd64-cpython-39\\pandas\\core\\computation\n",
            "  creating build\\lib.win-amd64-cpython-39\\pandas\\core\\dtypes\n",
            "  copying pandas\\core\\dtypes\\api.py -> build\\lib.win-amd64-cpython-39\\pandas\\core\\dtypes\n",
            "  copying pandas\\core\\dtypes\\base.py -> build\\lib.win-amd64-cpython-39\\pandas\\core\\dtypes\n",
            "  copying pandas\\core\\dtypes\\cast.py -> build\\lib.win-amd64-cpython-39\\pandas\\core\\dtypes\n",
            "  copying pandas\\core\\dtypes\\common.py -> build\\lib.win-amd64-cpython-39\\pandas\\core\\dtypes\n",
            "  copying pandas\\core\\dtypes\\concat.py -> build\\lib.win-amd64-cpython-39\\pandas\\core\\dtypes\n",
            "  copying pandas\\core\\dtypes\\dtypes.py -> build\\lib.win-amd64-cpython-39\\pandas\\core\\dtypes\n",
            "  copying pandas\\core\\dtypes\\generic.py -> build\\lib.win-amd64-cpython-39\\pandas\\core\\dtypes\n",
            "  copying pandas\\core\\dtypes\\inference.py -> build\\lib.win-amd64-cpython-39\\pandas\\core\\dtypes\n",
            "  copying pandas\\core\\dtypes\\missing.py -> build\\lib.win-amd64-cpython-39\\pandas\\core\\dtypes\n",
            "  copying pandas\\core\\dtypes\\__init__.py -> build\\lib.win-amd64-cpython-39\\pandas\\core\\dtypes\n",
            "  creating build\\lib.win-amd64-cpython-39\\pandas\\core\\groupby\n",
            "  copying pandas\\core\\groupby\\base.py -> build\\lib.win-amd64-cpython-39\\pandas\\core\\groupby\n",
            "  copying pandas\\core\\groupby\\categorical.py -> build\\lib.win-amd64-cpython-39\\pandas\\core\\groupby\n",
            "  copying pandas\\core\\groupby\\generic.py -> build\\lib.win-amd64-cpython-39\\pandas\\core\\groupby\n",
            "  copying pandas\\core\\groupby\\groupby.py -> build\\lib.win-amd64-cpython-39\\pandas\\core\\groupby\n",
            "  copying pandas\\core\\groupby\\grouper.py -> build\\lib.win-amd64-cpython-39\\pandas\\core\\groupby\n",
            "  copying pandas\\core\\groupby\\ops.py -> build\\lib.win-amd64-cpython-39\\pandas\\core\\groupby\n",
            "  copying pandas\\core\\groupby\\__init__.py -> build\\lib.win-amd64-cpython-39\\pandas\\core\\groupby\n",
            "  creating build\\lib.win-amd64-cpython-39\\pandas\\core\\indexes\n",
            "  copying pandas\\core\\indexes\\accessors.py -> build\\lib.win-amd64-cpython-39\\pandas\\core\\indexes\n",
            "  copying pandas\\core\\indexes\\api.py -> build\\lib.win-amd64-cpython-39\\pandas\\core\\indexes\n",
            "  copying pandas\\core\\indexes\\base.py -> build\\lib.win-amd64-cpython-39\\pandas\\core\\indexes\n",
            "  copying pandas\\core\\indexes\\category.py -> build\\lib.win-amd64-cpython-39\\pandas\\core\\indexes\n",
            "  copying pandas\\core\\indexes\\datetimelike.py -> build\\lib.win-amd64-cpython-39\\pandas\\core\\indexes\n",
            "  copying pandas\\core\\indexes\\datetimes.py -> build\\lib.win-amd64-cpython-39\\pandas\\core\\indexes\n",
            "  copying pandas\\core\\indexes\\frozen.py -> build\\lib.win-amd64-cpython-39\\pandas\\core\\indexes\n",
            "  copying pandas\\core\\indexes\\interval.py -> build\\lib.win-amd64-cpython-39\\pandas\\core\\indexes\n",
            "  copying pandas\\core\\indexes\\multi.py -> build\\lib.win-amd64-cpython-39\\pandas\\core\\indexes\n",
            "  copying pandas\\core\\indexes\\numeric.py -> build\\lib.win-amd64-cpython-39\\pandas\\core\\indexes\n",
            "  copying pandas\\core\\indexes\\period.py -> build\\lib.win-amd64-cpython-39\\pandas\\core\\indexes\n",
            "  copying pandas\\core\\indexes\\range.py -> build\\lib.win-amd64-cpython-39\\pandas\\core\\indexes\n",
            "  copying pandas\\core\\indexes\\timedeltas.py -> build\\lib.win-amd64-cpython-39\\pandas\\core\\indexes\n",
            "  copying pandas\\core\\indexes\\__init__.py -> build\\lib.win-amd64-cpython-39\\pandas\\core\\indexes\n",
            "  creating build\\lib.win-amd64-cpython-39\\pandas\\core\\internals\n",
            "  copying pandas\\core\\internals\\arrays.py -> build\\lib.win-amd64-cpython-39\\pandas\\core\\internals\n",
            "  copying pandas\\core\\internals\\blocks.py -> build\\lib.win-amd64-cpython-39\\pandas\\core\\internals\n",
            "  copying pandas\\core\\internals\\concat.py -> build\\lib.win-amd64-cpython-39\\pandas\\core\\internals\n",
            "  copying pandas\\core\\internals\\construction.py -> build\\lib.win-amd64-cpython-39\\pandas\\core\\internals\n",
            "  copying pandas\\core\\internals\\managers.py -> build\\lib.win-amd64-cpython-39\\pandas\\core\\internals\n",
            "  copying pandas\\core\\internals\\__init__.py -> build\\lib.win-amd64-cpython-39\\pandas\\core\\internals\n",
            "  creating build\\lib.win-amd64-cpython-39\\pandas\\core\\reshape\n",
            "  copying pandas\\core\\reshape\\api.py -> build\\lib.win-amd64-cpython-39\\pandas\\core\\reshape\n",
            "  copying pandas\\core\\reshape\\concat.py -> build\\lib.win-amd64-cpython-39\\pandas\\core\\reshape\n",
            "  copying pandas\\core\\reshape\\melt.py -> build\\lib.win-amd64-cpython-39\\pandas\\core\\reshape\n",
            "  copying pandas\\core\\reshape\\merge.py -> build\\lib.win-amd64-cpython-39\\pandas\\core\\reshape\n",
            "  copying pandas\\core\\reshape\\pivot.py -> build\\lib.win-amd64-cpython-39\\pandas\\core\\reshape\n",
            "  copying pandas\\core\\reshape\\reshape.py -> build\\lib.win-amd64-cpython-39\\pandas\\core\\reshape\n",
            "  copying pandas\\core\\reshape\\tile.py -> build\\lib.win-amd64-cpython-39\\pandas\\core\\reshape\n",
            "  copying pandas\\core\\reshape\\util.py -> build\\lib.win-amd64-cpython-39\\pandas\\core\\reshape\n",
            "  copying pandas\\core\\reshape\\__init__.py -> build\\lib.win-amd64-cpython-39\\pandas\\core\\reshape\n",
            "  creating build\\lib.win-amd64-cpython-39\\pandas\\core\\sparse\n",
            "  copying pandas\\core\\sparse\\api.py -> build\\lib.win-amd64-cpython-39\\pandas\\core\\sparse\n",
            "  copying pandas\\core\\sparse\\frame.py -> build\\lib.win-amd64-cpython-39\\pandas\\core\\sparse\n",
            "  copying pandas\\core\\sparse\\scipy_sparse.py -> build\\lib.win-amd64-cpython-39\\pandas\\core\\sparse\n",
            "  copying pandas\\core\\sparse\\series.py -> build\\lib.win-amd64-cpython-39\\pandas\\core\\sparse\n",
            "  copying pandas\\core\\sparse\\__init__.py -> build\\lib.win-amd64-cpython-39\\pandas\\core\\sparse\n",
            "  creating build\\lib.win-amd64-cpython-39\\pandas\\core\\tools\n",
            "  copying pandas\\core\\tools\\datetimes.py -> build\\lib.win-amd64-cpython-39\\pandas\\core\\tools\n",
            "  copying pandas\\core\\tools\\numeric.py -> build\\lib.win-amd64-cpython-39\\pandas\\core\\tools\n",
            "  copying pandas\\core\\tools\\timedeltas.py -> build\\lib.win-amd64-cpython-39\\pandas\\core\\tools\n",
            "  copying pandas\\core\\tools\\__init__.py -> build\\lib.win-amd64-cpython-39\\pandas\\core\\tools\n",
            "  creating build\\lib.win-amd64-cpython-39\\pandas\\core\\util\n",
            "  copying pandas\\core\\util\\hashing.py -> build\\lib.win-amd64-cpython-39\\pandas\\core\\util\n",
            "  copying pandas\\core\\util\\__init__.py -> build\\lib.win-amd64-cpython-39\\pandas\\core\\util\n",
            "  creating build\\lib.win-amd64-cpython-39\\pandas\\io\\clipboard\n",
            "  copying pandas\\io\\clipboard\\clipboards.py -> build\\lib.win-amd64-cpython-39\\pandas\\io\\clipboard\n",
            "  copying pandas\\io\\clipboard\\exceptions.py -> build\\lib.win-amd64-cpython-39\\pandas\\io\\clipboard\n",
            "  copying pandas\\io\\clipboard\\windows.py -> build\\lib.win-amd64-cpython-39\\pandas\\io\\clipboard\n",
            "  copying pandas\\io\\clipboard\\__init__.py -> build\\lib.win-amd64-cpython-39\\pandas\\io\\clipboard\n",
            "  creating build\\lib.win-amd64-cpython-39\\pandas\\io\\formats\n",
            "  copying pandas\\io\\formats\\console.py -> build\\lib.win-amd64-cpython-39\\pandas\\io\\formats\n",
            "  copying pandas\\io\\formats\\css.py -> build\\lib.win-amd64-cpython-39\\pandas\\io\\formats\n",
            "  copying pandas\\io\\formats\\csvs.py -> build\\lib.win-amd64-cpython-39\\pandas\\io\\formats\n",
            "  copying pandas\\io\\formats\\excel.py -> build\\lib.win-amd64-cpython-39\\pandas\\io\\formats\n",
            "  copying pandas\\io\\formats\\format.py -> build\\lib.win-amd64-cpython-39\\pandas\\io\\formats\n",
            "  copying pandas\\io\\formats\\html.py -> build\\lib.win-amd64-cpython-39\\pandas\\io\\formats\n",
            "  copying pandas\\io\\formats\\latex.py -> build\\lib.win-amd64-cpython-39\\pandas\\io\\formats\n",
            "  copying pandas\\io\\formats\\printing.py -> build\\lib.win-amd64-cpython-39\\pandas\\io\\formats\n",
            "  copying pandas\\io\\formats\\style.py -> build\\lib.win-amd64-cpython-39\\pandas\\io\\formats\n",
            "  copying pandas\\io\\formats\\terminal.py -> build\\lib.win-amd64-cpython-39\\pandas\\io\\formats\n",
            "  copying pandas\\io\\formats\\__init__.py -> build\\lib.win-amd64-cpython-39\\pandas\\io\\formats\n",
            "  creating build\\lib.win-amd64-cpython-39\\pandas\\io\\json\n",
            "  copying pandas\\io\\json\\json.py -> build\\lib.win-amd64-cpython-39\\pandas\\io\\json\n",
            "  copying pandas\\io\\json\\normalize.py -> build\\lib.win-amd64-cpython-39\\pandas\\io\\json\n",
            "  copying pandas\\io\\json\\table_schema.py -> build\\lib.win-amd64-cpython-39\\pandas\\io\\json\n",
            "  copying pandas\\io\\json\\__init__.py -> build\\lib.win-amd64-cpython-39\\pandas\\io\\json\n",
            "  creating build\\lib.win-amd64-cpython-39\\pandas\\io\\msgpack\n",
            "  copying pandas\\io\\msgpack\\exceptions.py -> build\\lib.win-amd64-cpython-39\\pandas\\io\\msgpack\n",
            "  copying pandas\\io\\msgpack\\_version.py -> build\\lib.win-amd64-cpython-39\\pandas\\io\\msgpack\n",
            "  copying pandas\\io\\msgpack\\__init__.py -> build\\lib.win-amd64-cpython-39\\pandas\\io\\msgpack\n",
            "  creating build\\lib.win-amd64-cpython-39\\pandas\\io\\sas\n",
            "  copying pandas\\io\\sas\\sas7bdat.py -> build\\lib.win-amd64-cpython-39\\pandas\\io\\sas\n",
            "  copying pandas\\io\\sas\\sasreader.py -> build\\lib.win-amd64-cpython-39\\pandas\\io\\sas\n",
            "  copying pandas\\io\\sas\\sas_constants.py -> build\\lib.win-amd64-cpython-39\\pandas\\io\\sas\n",
            "  copying pandas\\io\\sas\\sas_xport.py -> build\\lib.win-amd64-cpython-39\\pandas\\io\\sas\n",
            "  copying pandas\\io\\sas\\__init__.py -> build\\lib.win-amd64-cpython-39\\pandas\\io\\sas\n",
            "  creating build\\lib.win-amd64-cpython-39\\pandas\\tests\\api\n",
            "  copying pandas\\tests\\api\\test_api.py -> build\\lib.win-amd64-cpython-39\\pandas\\tests\\api\n",
            "  copying pandas\\tests\\api\\test_types.py -> build\\lib.win-amd64-cpython-39\\pandas\\tests\\api\n",
            "  copying pandas\\tests\\api\\__init__.py -> build\\lib.win-amd64-cpython-39\\pandas\\tests\\api\n",
            "  creating build\\lib.win-amd64-cpython-39\\pandas\\tests\\arithmetic\n",
            "  copying pandas\\tests\\arithmetic\\conftest.py -> build\\lib.win-amd64-cpython-39\\pandas\\tests\\arithmetic\n",
            "  copying pandas\\tests\\arithmetic\\test_datetime64.py -> build\\lib.win-amd64-cpython-39\\pandas\\tests\\arithmetic\n",
            "  copying pandas\\tests\\arithmetic\\test_numeric.py -> build\\lib.win-amd64-cpython-39\\pandas\\tests\\arithmetic\n",
            "  copying pandas\\tests\\arithmetic\\test_object.py -> build\\lib.win-amd64-cpython-39\\pandas\\tests\\arithmetic\n",
            "  copying pandas\\tests\\arithmetic\\test_period.py -> build\\lib.win-amd64-cpython-39\\pandas\\tests\\arithmetic\n",
            "  copying pandas\\tests\\arithmetic\\test_timedelta64.py -> build\\lib.win-amd64-cpython-39\\pandas\\tests\\arithmetic\n",
            "  copying pandas\\tests\\arithmetic\\__init__.py -> build\\lib.win-amd64-cpython-39\\pandas\\tests\\arithmetic\n",
            "  creating build\\lib.win-amd64-cpython-39\\pandas\\tests\\arrays\n",
            "  copying pandas\\tests\\arrays\\test_array.py -> build\\lib.win-amd64-cpython-39\\pandas\\tests\\arrays\n",
            "  copying pandas\\tests\\arrays\\test_datetimelike.py -> build\\lib.win-amd64-cpython-39\\pandas\\tests\\arrays\n",
            "  copying pandas\\tests\\arrays\\test_datetimes.py -> build\\lib.win-amd64-cpython-39\\pandas\\tests\\arrays\n",
            "  copying pandas\\tests\\arrays\\test_integer.py -> build\\lib.win-amd64-cpython-39\\pandas\\tests\\arrays\n",
            "  copying pandas\\tests\\arrays\\test_numpy.py -> build\\lib.win-amd64-cpython-39\\pandas\\tests\\arrays\n",
            "  copying pandas\\tests\\arrays\\test_period.py -> build\\lib.win-amd64-cpython-39\\pandas\\tests\\arrays\n",
            "  copying pandas\\tests\\arrays\\test_timedeltas.py -> build\\lib.win-amd64-cpython-39\\pandas\\tests\\arrays\n",
            "  copying pandas\\tests\\arrays\\__init__.py -> build\\lib.win-amd64-cpython-39\\pandas\\tests\\arrays\n",
            "  creating build\\lib.win-amd64-cpython-39\\pandas\\tests\\computation\n",
            "  copying pandas\\tests\\computation\\test_compat.py -> build\\lib.win-amd64-cpython-39\\pandas\\tests\\computation\n",
            "  copying pandas\\tests\\computation\\test_eval.py -> build\\lib.win-amd64-cpython-39\\pandas\\tests\\computation\n",
            "  copying pandas\\tests\\computation\\__init__.py -> build\\lib.win-amd64-cpython-39\\pandas\\tests\\computation\n",
            "  creating build\\lib.win-amd64-cpython-39\\pandas\\tests\\dtypes\n",
            "  copying pandas\\tests\\dtypes\\test_common.py -> build\\lib.win-amd64-cpython-39\\pandas\\tests\\dtypes\n",
            "  copying pandas\\tests\\dtypes\\test_concat.py -> build\\lib.win-amd64-cpython-39\\pandas\\tests\\dtypes\n",
            "  copying pandas\\tests\\dtypes\\test_dtypes.py -> build\\lib.win-amd64-cpython-39\\pandas\\tests\\dtypes\n",
            "  copying pandas\\tests\\dtypes\\test_generic.py -> build\\lib.win-amd64-cpython-39\\pandas\\tests\\dtypes\n",
            "  copying pandas\\tests\\dtypes\\test_inference.py -> build\\lib.win-amd64-cpython-39\\pandas\\tests\\dtypes\n",
            "  copying pandas\\tests\\dtypes\\test_missing.py -> build\\lib.win-amd64-cpython-39\\pandas\\tests\\dtypes\n",
            "  copying pandas\\tests\\dtypes\\__init__.py -> build\\lib.win-amd64-cpython-39\\pandas\\tests\\dtypes\n",
            "  creating build\\lib.win-amd64-cpython-39\\pandas\\tests\\extension\n",
            "  copying pandas\\tests\\extension\\conftest.py -> build\\lib.win-amd64-cpython-39\\pandas\\tests\\extension\n",
            "  copying pandas\\tests\\extension\\test_categorical.py -> build\\lib.win-amd64-cpython-39\\pandas\\tests\\extension\n",
            "  copying pandas\\tests\\extension\\test_common.py -> build\\lib.win-amd64-cpython-39\\pandas\\tests\\extension\n",
            "  copying pandas\\tests\\extension\\test_datetime.py -> build\\lib.win-amd64-cpython-39\\pandas\\tests\\extension\n",
            "  copying pandas\\tests\\extension\\test_external_block.py -> build\\lib.win-amd64-cpython-39\\pandas\\tests\\extension\n",
            "  copying pandas\\tests\\extension\\test_integer.py -> build\\lib.win-amd64-cpython-39\\pandas\\tests\\extension\n",
            "  copying pandas\\tests\\extension\\test_interval.py -> build\\lib.win-amd64-cpython-39\\pandas\\tests\\extension\n",
            "  copying pandas\\tests\\extension\\test_period.py -> build\\lib.win-amd64-cpython-39\\pandas\\tests\\extension\n",
            "  copying pandas\\tests\\extension\\test_sparse.py -> build\\lib.win-amd64-cpython-39\\pandas\\tests\\extension\n",
            "  copying pandas\\tests\\extension\\__init__.py -> build\\lib.win-amd64-cpython-39\\pandas\\tests\\extension\n",
            "  creating build\\lib.win-amd64-cpython-39\\pandas\\tests\\frame\n",
            "  copying pandas\\tests\\frame\\common.py -> build\\lib.win-amd64-cpython-39\\pandas\\tests\\frame\n",
            "  copying pandas\\tests\\frame\\conftest.py -> build\\lib.win-amd64-cpython-39\\pandas\\tests\\frame\n",
            "  copying pandas\\tests\\frame\\test_alter_axes.py -> build\\lib.win-amd64-cpython-39\\pandas\\tests\\frame\n",
            "  copying pandas\\tests\\frame\\test_analytics.py -> build\\lib.win-amd64-cpython-39\\pandas\\tests\\frame\n",
            "  copying pandas\\tests\\frame\\test_api.py -> build\\lib.win-amd64-cpython-39\\pandas\\tests\\frame\n",
            "  copying pandas\\tests\\frame\\test_apply.py -> build\\lib.win-amd64-cpython-39\\pandas\\tests\\frame\n",
            "  copying pandas\\tests\\frame\\test_arithmetic.py -> build\\lib.win-amd64-cpython-39\\pandas\\tests\\frame\n",
            "  copying pandas\\tests\\frame\\test_asof.py -> build\\lib.win-amd64-cpython-39\\pandas\\tests\\frame\n",
            "  copying pandas\\tests\\frame\\test_axis_select_reindex.py -> build\\lib.win-amd64-cpython-39\\pandas\\tests\\frame\n",
            "  copying pandas\\tests\\frame\\test_block_internals.py -> build\\lib.win-amd64-cpython-39\\pandas\\tests\\frame\n",
            "  copying pandas\\tests\\frame\\test_combine_concat.py -> build\\lib.win-amd64-cpython-39\\pandas\\tests\\frame\n",
            "  copying pandas\\tests\\frame\\test_constructors.py -> build\\lib.win-amd64-cpython-39\\pandas\\tests\\frame\n",
            "  copying pandas\\tests\\frame\\test_convert_to.py -> build\\lib.win-amd64-cpython-39\\pandas\\tests\\frame\n",
            "  copying pandas\\tests\\frame\\test_dtypes.py -> build\\lib.win-amd64-cpython-39\\pandas\\tests\\frame\n",
            "  copying pandas\\tests\\frame\\test_duplicates.py -> build\\lib.win-amd64-cpython-39\\pandas\\tests\\frame\n",
            "  copying pandas\\tests\\frame\\test_indexing.py -> build\\lib.win-amd64-cpython-39\\pandas\\tests\\frame\n",
            "  copying pandas\\tests\\frame\\test_join.py -> build\\lib.win-amd64-cpython-39\\pandas\\tests\\frame\n",
            "  copying pandas\\tests\\frame\\test_missing.py -> build\\lib.win-amd64-cpython-39\\pandas\\tests\\frame\n",
            "  copying pandas\\tests\\frame\\test_mutate_columns.py -> build\\lib.win-amd64-cpython-39\\pandas\\tests\\frame\n",
            "  copying pandas\\tests\\frame\\test_nonunique_indexes.py -> build\\lib.win-amd64-cpython-39\\pandas\\tests\\frame\n",
            "  copying pandas\\tests\\frame\\test_operators.py -> build\\lib.win-amd64-cpython-39\\pandas\\tests\\frame\n",
            "  copying pandas\\tests\\frame\\test_period.py -> build\\lib.win-amd64-cpython-39\\pandas\\tests\\frame\n",
            "  copying pandas\\tests\\frame\\test_quantile.py -> build\\lib.win-amd64-cpython-39\\pandas\\tests\\frame\n",
            "  copying pandas\\tests\\frame\\test_query_eval.py -> build\\lib.win-amd64-cpython-39\\pandas\\tests\\frame\n",
            "  copying pandas\\tests\\frame\\test_rank.py -> build\\lib.win-amd64-cpython-39\\pandas\\tests\\frame\n",
            "  copying pandas\\tests\\frame\\test_replace.py -> build\\lib.win-amd64-cpython-39\\pandas\\tests\\frame\n",
            "  copying pandas\\tests\\frame\\test_repr_info.py -> build\\lib.win-amd64-cpython-39\\pandas\\tests\\frame\n",
            "  copying pandas\\tests\\frame\\test_reshape.py -> build\\lib.win-amd64-cpython-39\\pandas\\tests\\frame\n",
            "  copying pandas\\tests\\frame\\test_sorting.py -> build\\lib.win-amd64-cpython-39\\pandas\\tests\\frame\n",
            "  copying pandas\\tests\\frame\\test_sort_values_level_as_str.py -> build\\lib.win-amd64-cpython-39\\pandas\\tests\\frame\n",
            "  copying pandas\\tests\\frame\\test_subclass.py -> build\\lib.win-amd64-cpython-39\\pandas\\tests\\frame\n",
            "  copying pandas\\tests\\frame\\test_timeseries.py -> build\\lib.win-amd64-cpython-39\\pandas\\tests\\frame\n",
            "  copying pandas\\tests\\frame\\test_timezones.py -> build\\lib.win-amd64-cpython-39\\pandas\\tests\\frame\n",
            "  copying pandas\\tests\\frame\\test_to_csv.py -> build\\lib.win-amd64-cpython-39\\pandas\\tests\\frame\n",
            "  copying pandas\\tests\\frame\\test_validate.py -> build\\lib.win-amd64-cpython-39\\pandas\\tests\\frame\n",
            "  copying pandas\\tests\\frame\\__init__.py -> build\\lib.win-amd64-cpython-39\\pandas\\tests\\frame\n",
            "  creating build\\lib.win-amd64-cpython-39\\pandas\\tests\\generic\n",
            "  copying pandas\\tests\\generic\\test_frame.py -> build\\lib.win-amd64-cpython-39\\pandas\\tests\\generic\n",
            "  copying pandas\\tests\\generic\\test_generic.py -> build\\lib.win-amd64-cpython-39\\pandas\\tests\\generic\n",
            "  copying pandas\\tests\\generic\\test_label_or_level_utils.py -> build\\lib.win-amd64-cpython-39\\pandas\\tests\\generic\n",
            "  copying pandas\\tests\\generic\\test_panel.py -> build\\lib.win-amd64-cpython-39\\pandas\\tests\\generic\n",
            "  copying pandas\\tests\\generic\\test_series.py -> build\\lib.win-amd64-cpython-39\\pandas\\tests\\generic\n",
            "  copying pandas\\tests\\generic\\__init__.py -> build\\lib.win-amd64-cpython-39\\pandas\\tests\\generic\n",
            "  creating build\\lib.win-amd64-cpython-39\\pandas\\tests\\groupby\n",
            "  copying pandas\\tests\\groupby\\conftest.py -> build\\lib.win-amd64-cpython-39\\pandas\\tests\\groupby\n",
            "  copying pandas\\tests\\groupby\\test_apply.py -> build\\lib.win-amd64-cpython-39\\pandas\\tests\\groupby\n",
            "  copying pandas\\tests\\groupby\\test_bin_groupby.py -> build\\lib.win-amd64-cpython-39\\pandas\\tests\\groupby\n",
            "  copying pandas\\tests\\groupby\\test_categorical.py -> build\\lib.win-amd64-cpython-39\\pandas\\tests\\groupby\n",
            "  copying pandas\\tests\\groupby\\test_counting.py -> build\\lib.win-amd64-cpython-39\\pandas\\tests\\groupby\n",
            "  copying pandas\\tests\\groupby\\test_filters.py -> build\\lib.win-amd64-cpython-39\\pandas\\tests\\groupby\n",
            "  copying pandas\\tests\\groupby\\test_function.py -> build\\lib.win-amd64-cpython-39\\pandas\\tests\\groupby\n",
            "  copying pandas\\tests\\groupby\\test_groupby.py -> build\\lib.win-amd64-cpython-39\\pandas\\tests\\groupby\n",
            "  copying pandas\\tests\\groupby\\test_grouping.py -> build\\lib.win-amd64-cpython-39\\pandas\\tests\\groupby\n",
            "  copying pandas\\tests\\groupby\\test_index_as_string.py -> build\\lib.win-amd64-cpython-39\\pandas\\tests\\groupby\n",
            "  copying pandas\\tests\\groupby\\test_nth.py -> build\\lib.win-amd64-cpython-39\\pandas\\tests\\groupby\n",
            "  copying pandas\\tests\\groupby\\test_rank.py -> build\\lib.win-amd64-cpython-39\\pandas\\tests\\groupby\n",
            "  copying pandas\\tests\\groupby\\test_timegrouper.py -> build\\lib.win-amd64-cpython-39\\pandas\\tests\\groupby\n",
            "  copying pandas\\tests\\groupby\\test_transform.py -> build\\lib.win-amd64-cpython-39\\pandas\\tests\\groupby\n",
            "  copying pandas\\tests\\groupby\\test_value_counts.py -> build\\lib.win-amd64-cpython-39\\pandas\\tests\\groupby\n",
            "  copying pandas\\tests\\groupby\\test_whitelist.py -> build\\lib.win-amd64-cpython-39\\pandas\\tests\\groupby\n",
            "  copying pandas\\tests\\groupby\\__init__.py -> build\\lib.win-amd64-cpython-39\\pandas\\tests\\groupby\n",
            "  creating build\\lib.win-amd64-cpython-39\\pandas\\tests\\indexes\n",
            "  copying pandas\\tests\\indexes\\common.py -> build\\lib.win-amd64-cpython-39\\pandas\\tests\\indexes\n",
            "  copying pandas\\tests\\indexes\\conftest.py -> build\\lib.win-amd64-cpython-39\\pandas\\tests\\indexes\n",
            "  copying pandas\\tests\\indexes\\datetimelike.py -> build\\lib.win-amd64-cpython-39\\pandas\\tests\\indexes\n",
            "  copying pandas\\tests\\indexes\\test_base.py -> build\\lib.win-amd64-cpython-39\\pandas\\tests\\indexes\n",
            "  copying pandas\\tests\\indexes\\test_category.py -> build\\lib.win-amd64-cpython-39\\pandas\\tests\\indexes\n",
            "  copying pandas\\tests\\indexes\\test_common.py -> build\\lib.win-amd64-cpython-39\\pandas\\tests\\indexes\n",
            "  copying pandas\\tests\\indexes\\test_frozen.py -> build\\lib.win-amd64-cpython-39\\pandas\\tests\\indexes\n",
            "  copying pandas\\tests\\indexes\\test_numeric.py -> build\\lib.win-amd64-cpython-39\\pandas\\tests\\indexes\n",
            "  copying pandas\\tests\\indexes\\test_range.py -> build\\lib.win-amd64-cpython-39\\pandas\\tests\\indexes\n",
            "  copying pandas\\tests\\indexes\\__init__.py -> build\\lib.win-amd64-cpython-39\\pandas\\tests\\indexes\n",
            "  creating build\\lib.win-amd64-cpython-39\\pandas\\tests\\indexing\n",
            "  copying pandas\\tests\\indexing\\common.py -> build\\lib.win-amd64-cpython-39\\pandas\\tests\\indexing\n",
            "  copying pandas\\tests\\indexing\\conftest.py -> build\\lib.win-amd64-cpython-39\\pandas\\tests\\indexing\n",
            "  copying pandas\\tests\\indexing\\test_callable.py -> build\\lib.win-amd64-cpython-39\\pandas\\tests\\indexing\n",
            "  copying pandas\\tests\\indexing\\test_categorical.py -> build\\lib.win-amd64-cpython-39\\pandas\\tests\\indexing\n",
            "  copying pandas\\tests\\indexing\\test_chaining_and_caching.py -> build\\lib.win-amd64-cpython-39\\pandas\\tests\\indexing\n",
            "  copying pandas\\tests\\indexing\\test_coercion.py -> build\\lib.win-amd64-cpython-39\\pandas\\tests\\indexing\n",
            "  copying pandas\\tests\\indexing\\test_datetime.py -> build\\lib.win-amd64-cpython-39\\pandas\\tests\\indexing\n",
            "  copying pandas\\tests\\indexing\\test_floats.py -> build\\lib.win-amd64-cpython-39\\pandas\\tests\\indexing\n",
            "  copying pandas\\tests\\indexing\\test_iloc.py -> build\\lib.win-amd64-cpython-39\\pandas\\tests\\indexing\n",
            "  copying pandas\\tests\\indexing\\test_indexing.py -> build\\lib.win-amd64-cpython-39\\pandas\\tests\\indexing\n",
            "  copying pandas\\tests\\indexing\\test_indexing_engines.py -> build\\lib.win-amd64-cpython-39\\pandas\\tests\\indexing\n",
            "  copying pandas\\tests\\indexing\\test_indexing_slow.py -> build\\lib.win-amd64-cpython-39\\pandas\\tests\\indexing\n",
            "  copying pandas\\tests\\indexing\\test_ix.py -> build\\lib.win-amd64-cpython-39\\pandas\\tests\\indexing\n",
            "  copying pandas\\tests\\indexing\\test_loc.py -> build\\lib.win-amd64-cpython-39\\pandas\\tests\\indexing\n",
            "  copying pandas\\tests\\indexing\\test_panel.py -> build\\lib.win-amd64-cpython-39\\pandas\\tests\\indexing\n",
            "  copying pandas\\tests\\indexing\\test_partial.py -> build\\lib.win-amd64-cpython-39\\pandas\\tests\\indexing\n",
            "  copying pandas\\tests\\indexing\\test_scalar.py -> build\\lib.win-amd64-cpython-39\\pandas\\tests\\indexing\n",
            "  copying pandas\\tests\\indexing\\test_timedelta.py -> build\\lib.win-amd64-cpython-39\\pandas\\tests\\indexing\n",
            "  copying pandas\\tests\\indexing\\__init__.py -> build\\lib.win-amd64-cpython-39\\pandas\\tests\\indexing\n",
            "  creating build\\lib.win-amd64-cpython-39\\pandas\\tests\\internals\n",
            "  copying pandas\\tests\\internals\\test_internals.py -> build\\lib.win-amd64-cpython-39\\pandas\\tests\\internals\n",
            "  copying pandas\\tests\\internals\\__init__.py -> build\\lib.win-amd64-cpython-39\\pandas\\tests\\internals\n",
            "  creating build\\lib.win-amd64-cpython-39\\pandas\\tests\\io\n",
            "  copying pandas\\tests\\io\\conftest.py -> build\\lib.win-amd64-cpython-39\\pandas\\tests\\io\n",
            "  copying pandas\\tests\\io\\generate_legacy_storage_files.py -> build\\lib.win-amd64-cpython-39\\pandas\\tests\\io\n",
            "  copying pandas\\tests\\io\\test_clipboard.py -> build\\lib.win-amd64-cpython-39\\pandas\\tests\\io\n",
            "  copying pandas\\tests\\io\\test_common.py -> build\\lib.win-amd64-cpython-39\\pandas\\tests\\io\n",
            "  copying pandas\\tests\\io\\test_compression.py -> build\\lib.win-amd64-cpython-39\\pandas\\tests\\io\n",
            "  copying pandas\\tests\\io\\test_date_converters.py -> build\\lib.win-amd64-cpython-39\\pandas\\tests\\io\n",
            "  copying pandas\\tests\\io\\test_excel.py -> build\\lib.win-amd64-cpython-39\\pandas\\tests\\io\n",
            "  copying pandas\\tests\\io\\test_feather.py -> build\\lib.win-amd64-cpython-39\\pandas\\tests\\io\n",
            "  copying pandas\\tests\\io\\test_gbq.py -> build\\lib.win-amd64-cpython-39\\pandas\\tests\\io\n",
            "  copying pandas\\tests\\io\\test_gcs.py -> build\\lib.win-amd64-cpython-39\\pandas\\tests\\io\n",
            "  copying pandas\\tests\\io\\test_html.py -> build\\lib.win-amd64-cpython-39\\pandas\\tests\\io\n",
            "  copying pandas\\tests\\io\\test_packers.py -> build\\lib.win-amd64-cpython-39\\pandas\\tests\\io\n",
            "  copying pandas\\tests\\io\\test_parquet.py -> build\\lib.win-amd64-cpython-39\\pandas\\tests\\io\n",
            "  copying pandas\\tests\\io\\test_pickle.py -> build\\lib.win-amd64-cpython-39\\pandas\\tests\\io\n",
            "  copying pandas\\tests\\io\\test_pytables.py -> build\\lib.win-amd64-cpython-39\\pandas\\tests\\io\n",
            "  copying pandas\\tests\\io\\test_s3.py -> build\\lib.win-amd64-cpython-39\\pandas\\tests\\io\n",
            "  copying pandas\\tests\\io\\test_sql.py -> build\\lib.win-amd64-cpython-39\\pandas\\tests\\io\n",
            "  copying pandas\\tests\\io\\test_stata.py -> build\\lib.win-amd64-cpython-39\\pandas\\tests\\io\n",
            "  copying pandas\\tests\\io\\__init__.py -> build\\lib.win-amd64-cpython-39\\pandas\\tests\\io\n",
            "  creating build\\lib.win-amd64-cpython-39\\pandas\\tests\\plotting\n",
            "  copying pandas\\tests\\plotting\\common.py -> build\\lib.win-amd64-cpython-39\\pandas\\tests\\plotting\n",
            "  copying pandas\\tests\\plotting\\test_boxplot_method.py -> build\\lib.win-amd64-cpython-39\\pandas\\tests\\plotting\n",
            "  copying pandas\\tests\\plotting\\test_converter.py -> build\\lib.win-amd64-cpython-39\\pandas\\tests\\plotting\n",
            "  copying pandas\\tests\\plotting\\test_datetimelike.py -> build\\lib.win-amd64-cpython-39\\pandas\\tests\\plotting\n",
            "  copying pandas\\tests\\plotting\\test_frame.py -> build\\lib.win-amd64-cpython-39\\pandas\\tests\\plotting\n",
            "  copying pandas\\tests\\plotting\\test_groupby.py -> build\\lib.win-amd64-cpython-39\\pandas\\tests\\plotting\n",
            "  copying pandas\\tests\\plotting\\test_hist_method.py -> build\\lib.win-amd64-cpython-39\\pandas\\tests\\plotting\n",
            "  copying pandas\\tests\\plotting\\test_misc.py -> build\\lib.win-amd64-cpython-39\\pandas\\tests\\plotting\n",
            "  copying pandas\\tests\\plotting\\test_series.py -> build\\lib.win-amd64-cpython-39\\pandas\\tests\\plotting\n",
            "  copying pandas\\tests\\plotting\\__init__.py -> build\\lib.win-amd64-cpython-39\\pandas\\tests\\plotting\n",
            "  creating build\\lib.win-amd64-cpython-39\\pandas\\tests\\reductions\n",
            "  copying pandas\\tests\\reductions\\test_reductions.py -> build\\lib.win-amd64-cpython-39\\pandas\\tests\\reductions\n",
            "  copying pandas\\tests\\reductions\\test_stat_reductions.py -> build\\lib.win-amd64-cpython-39\\pandas\\tests\\reductions\n",
            "  copying pandas\\tests\\reductions\\__init__.py -> build\\lib.win-amd64-cpython-39\\pandas\\tests\\reductions\n",
            "  creating build\\lib.win-amd64-cpython-39\\pandas\\tests\\resample\n",
            "  copying pandas\\tests\\resample\\conftest.py -> build\\lib.win-amd64-cpython-39\\pandas\\tests\\resample\n",
            "  copying pandas\\tests\\resample\\test_base.py -> build\\lib.win-amd64-cpython-39\\pandas\\tests\\resample\n",
            "  copying pandas\\tests\\resample\\test_datetime_index.py -> build\\lib.win-amd64-cpython-39\\pandas\\tests\\resample\n",
            "  copying pandas\\tests\\resample\\test_period_index.py -> build\\lib.win-amd64-cpython-39\\pandas\\tests\\resample\n",
            "  copying pandas\\tests\\resample\\test_resampler_grouper.py -> build\\lib.win-amd64-cpython-39\\pandas\\tests\\resample\n",
            "  copying pandas\\tests\\resample\\test_resample_api.py -> build\\lib.win-amd64-cpython-39\\pandas\\tests\\resample\n",
            "  copying pandas\\tests\\resample\\test_timedelta.py -> build\\lib.win-amd64-cpython-39\\pandas\\tests\\resample\n",
            "  copying pandas\\tests\\resample\\test_time_grouper.py -> build\\lib.win-amd64-cpython-39\\pandas\\tests\\resample\n",
            "  copying pandas\\tests\\resample\\__init__.py -> build\\lib.win-amd64-cpython-39\\pandas\\tests\\resample\n",
            "  creating build\\lib.win-amd64-cpython-39\\pandas\\tests\\reshape\n",
            "  copying pandas\\tests\\reshape\\test_concat.py -> build\\lib.win-amd64-cpython-39\\pandas\\tests\\reshape\n",
            "  copying pandas\\tests\\reshape\\test_cut.py -> build\\lib.win-amd64-cpython-39\\pandas\\tests\\reshape\n",
            "  copying pandas\\tests\\reshape\\test_melt.py -> build\\lib.win-amd64-cpython-39\\pandas\\tests\\reshape\n",
            "  copying pandas\\tests\\reshape\\test_pivot.py -> build\\lib.win-amd64-cpython-39\\pandas\\tests\\reshape\n",
            "  copying pandas\\tests\\reshape\\test_qcut.py -> build\\lib.win-amd64-cpython-39\\pandas\\tests\\reshape\n",
            "  copying pandas\\tests\\reshape\\test_reshape.py -> build\\lib.win-amd64-cpython-39\\pandas\\tests\\reshape\n",
            "  copying pandas\\tests\\reshape\\test_union_categoricals.py -> build\\lib.win-amd64-cpython-39\\pandas\\tests\\reshape\n",
            "  copying pandas\\tests\\reshape\\test_util.py -> build\\lib.win-amd64-cpython-39\\pandas\\tests\\reshape\n",
            "  copying pandas\\tests\\reshape\\__init__.py -> build\\lib.win-amd64-cpython-39\\pandas\\tests\\reshape\n",
            "  creating build\\lib.win-amd64-cpython-39\\pandas\\tests\\scalar\n",
            "  copying pandas\\tests\\scalar\\test_nat.py -> build\\lib.win-amd64-cpython-39\\pandas\\tests\\scalar\n",
            "  copying pandas\\tests\\scalar\\__init__.py -> build\\lib.win-amd64-cpython-39\\pandas\\tests\\scalar\n",
            "  creating build\\lib.win-amd64-cpython-39\\pandas\\tests\\series\n",
            "  copying pandas\\tests\\series\\common.py -> build\\lib.win-amd64-cpython-39\\pandas\\tests\\series\n",
            "  copying pandas\\tests\\series\\conftest.py -> build\\lib.win-amd64-cpython-39\\pandas\\tests\\series\n",
            "  copying pandas\\tests\\series\\test_alter_axes.py -> build\\lib.win-amd64-cpython-39\\pandas\\tests\\series\n",
            "  copying pandas\\tests\\series\\test_analytics.py -> build\\lib.win-amd64-cpython-39\\pandas\\tests\\series\n",
            "  copying pandas\\tests\\series\\test_api.py -> build\\lib.win-amd64-cpython-39\\pandas\\tests\\series\n",
            "  copying pandas\\tests\\series\\test_apply.py -> build\\lib.win-amd64-cpython-39\\pandas\\tests\\series\n",
            "  copying pandas\\tests\\series\\test_arithmetic.py -> build\\lib.win-amd64-cpython-39\\pandas\\tests\\series\n",
            "  copying pandas\\tests\\series\\test_asof.py -> build\\lib.win-amd64-cpython-39\\pandas\\tests\\series\n",
            "  copying pandas\\tests\\series\\test_block_internals.py -> build\\lib.win-amd64-cpython-39\\pandas\\tests\\series\n",
            "  copying pandas\\tests\\series\\test_combine_concat.py -> build\\lib.win-amd64-cpython-39\\pandas\\tests\\series\n",
            "  copying pandas\\tests\\series\\test_constructors.py -> build\\lib.win-amd64-cpython-39\\pandas\\tests\\series\n",
            "  copying pandas\\tests\\series\\test_datetime_values.py -> build\\lib.win-amd64-cpython-39\\pandas\\tests\\series\n",
            "  copying pandas\\tests\\series\\test_dtypes.py -> build\\lib.win-amd64-cpython-39\\pandas\\tests\\series\n",
            "  copying pandas\\tests\\series\\test_duplicates.py -> build\\lib.win-amd64-cpython-39\\pandas\\tests\\series\n",
            "  copying pandas\\tests\\series\\test_internals.py -> build\\lib.win-amd64-cpython-39\\pandas\\tests\\series\n",
            "  copying pandas\\tests\\series\\test_io.py -> build\\lib.win-amd64-cpython-39\\pandas\\tests\\series\n",
            "  copying pandas\\tests\\series\\test_missing.py -> build\\lib.win-amd64-cpython-39\\pandas\\tests\\series\n",
            "  copying pandas\\tests\\series\\test_operators.py -> build\\lib.win-amd64-cpython-39\\pandas\\tests\\series\n",
            "  copying pandas\\tests\\series\\test_period.py -> build\\lib.win-amd64-cpython-39\\pandas\\tests\\series\n",
            "  copying pandas\\tests\\series\\test_quantile.py -> build\\lib.win-amd64-cpython-39\\pandas\\tests\\series\n",
            "  copying pandas\\tests\\series\\test_rank.py -> build\\lib.win-amd64-cpython-39\\pandas\\tests\\series\n",
            "  copying pandas\\tests\\series\\test_replace.py -> build\\lib.win-amd64-cpython-39\\pandas\\tests\\series\n",
            "  copying pandas\\tests\\series\\test_repr.py -> build\\lib.win-amd64-cpython-39\\pandas\\tests\\series\n",
            "  copying pandas\\tests\\series\\test_sorting.py -> build\\lib.win-amd64-cpython-39\\pandas\\tests\\series\n",
            "  copying pandas\\tests\\series\\test_subclass.py -> build\\lib.win-amd64-cpython-39\\pandas\\tests\\series\n",
            "  copying pandas\\tests\\series\\test_timeseries.py -> build\\lib.win-amd64-cpython-39\\pandas\\tests\\series\n",
            "  copying pandas\\tests\\series\\test_timezones.py -> build\\lib.win-amd64-cpython-39\\pandas\\tests\\series\n",
            "  copying pandas\\tests\\series\\test_validate.py -> build\\lib.win-amd64-cpython-39\\pandas\\tests\\series\n",
            "  copying pandas\\tests\\series\\__init__.py -> build\\lib.win-amd64-cpython-39\\pandas\\tests\\series\n",
            "  creating build\\lib.win-amd64-cpython-39\\pandas\\tests\\sparse\n",
            "  copying pandas\\tests\\sparse\\common.py -> build\\lib.win-amd64-cpython-39\\pandas\\tests\\sparse\n",
            "  copying pandas\\tests\\sparse\\test_combine_concat.py -> build\\lib.win-amd64-cpython-39\\pandas\\tests\\sparse\n",
            "  copying pandas\\tests\\sparse\\test_format.py -> build\\lib.win-amd64-cpython-39\\pandas\\tests\\sparse\n",
            "  copying pandas\\tests\\sparse\\test_groupby.py -> build\\lib.win-amd64-cpython-39\\pandas\\tests\\sparse\n",
            "  copying pandas\\tests\\sparse\\test_indexing.py -> build\\lib.win-amd64-cpython-39\\pandas\\tests\\sparse\n",
            "  copying pandas\\tests\\sparse\\test_pivot.py -> build\\lib.win-amd64-cpython-39\\pandas\\tests\\sparse\n",
            "  copying pandas\\tests\\sparse\\test_reshape.py -> build\\lib.win-amd64-cpython-39\\pandas\\tests\\sparse\n",
            "  copying pandas\\tests\\sparse\\__init__.py -> build\\lib.win-amd64-cpython-39\\pandas\\tests\\sparse\n",
            "  creating build\\lib.win-amd64-cpython-39\\pandas\\tests\\tools\n",
            "  copying pandas\\tests\\tools\\test_numeric.py -> build\\lib.win-amd64-cpython-39\\pandas\\tests\\tools\n",
            "  copying pandas\\tests\\tools\\__init__.py -> build\\lib.win-amd64-cpython-39\\pandas\\tests\\tools\n",
            "  creating build\\lib.win-amd64-cpython-39\\pandas\\tests\\tseries\n",
            "  copying pandas\\tests\\tseries\\test_frequencies.py -> build\\lib.win-amd64-cpython-39\\pandas\\tests\\tseries\n",
            "  copying pandas\\tests\\tseries\\test_holiday.py -> build\\lib.win-amd64-cpython-39\\pandas\\tests\\tseries\n",
            "  copying pandas\\tests\\tseries\\__init__.py -> build\\lib.win-amd64-cpython-39\\pandas\\tests\\tseries\n",
            "  creating build\\lib.win-amd64-cpython-39\\pandas\\tests\\tslibs\n",
            "  copying pandas\\tests\\tslibs\\test_api.py -> build\\lib.win-amd64-cpython-39\\pandas\\tests\\tslibs\n",
            "  copying pandas\\tests\\tslibs\\test_array_to_datetime.py -> build\\lib.win-amd64-cpython-39\\pandas\\tests\\tslibs\n",
            "  copying pandas\\tests\\tslibs\\test_ccalendar.py -> build\\lib.win-amd64-cpython-39\\pandas\\tests\\tslibs\n",
            "  copying pandas\\tests\\tslibs\\test_conversion.py -> build\\lib.win-amd64-cpython-39\\pandas\\tests\\tslibs\n",
            "  copying pandas\\tests\\tslibs\\test_libfrequencies.py -> build\\lib.win-amd64-cpython-39\\pandas\\tests\\tslibs\n",
            "  copying pandas\\tests\\tslibs\\test_liboffsets.py -> build\\lib.win-amd64-cpython-39\\pandas\\tests\\tslibs\n",
            "  copying pandas\\tests\\tslibs\\test_normalize_date.py -> build\\lib.win-amd64-cpython-39\\pandas\\tests\\tslibs\n",
            "  copying pandas\\tests\\tslibs\\test_parse_iso8601.py -> build\\lib.win-amd64-cpython-39\\pandas\\tests\\tslibs\n",
            "  copying pandas\\tests\\tslibs\\test_parsing.py -> build\\lib.win-amd64-cpython-39\\pandas\\tests\\tslibs\n",
            "  copying pandas\\tests\\tslibs\\test_period_asfreq.py -> build\\lib.win-amd64-cpython-39\\pandas\\tests\\tslibs\n",
            "  copying pandas\\tests\\tslibs\\test_timedeltas.py -> build\\lib.win-amd64-cpython-39\\pandas\\tests\\tslibs\n",
            "  copying pandas\\tests\\tslibs\\test_timezones.py -> build\\lib.win-amd64-cpython-39\\pandas\\tests\\tslibs\n",
            "  copying pandas\\tests\\tslibs\\__init__.py -> build\\lib.win-amd64-cpython-39\\pandas\\tests\\tslibs\n",
            "  creating build\\lib.win-amd64-cpython-39\\pandas\\tests\\util\n",
            "  copying pandas\\tests\\util\\conftest.py -> build\\lib.win-amd64-cpython-39\\pandas\\tests\\util\n",
            "  copying pandas\\tests\\util\\test_assert_almost_equal.py -> build\\lib.win-amd64-cpython-39\\pandas\\tests\\util\n",
            "  copying pandas\\tests\\util\\test_assert_categorical_equal.py -> build\\lib.win-amd64-cpython-39\\pandas\\tests\\util\n",
            "  copying pandas\\tests\\util\\test_assert_extension_array_equal.py -> build\\lib.win-amd64-cpython-39\\pandas\\tests\\util\n",
            "  copying pandas\\tests\\util\\test_assert_frame_equal.py -> build\\lib.win-amd64-cpython-39\\pandas\\tests\\util\n",
            "  copying pandas\\tests\\util\\test_assert_index_equal.py -> build\\lib.win-amd64-cpython-39\\pandas\\tests\\util\n",
            "  copying pandas\\tests\\util\\test_assert_interval_array_equal.py -> build\\lib.win-amd64-cpython-39\\pandas\\tests\\util\n",
            "  copying pandas\\tests\\util\\test_assert_numpy_array_equal.py -> build\\lib.win-amd64-cpython-39\\pandas\\tests\\util\n",
            "  copying pandas\\tests\\util\\test_assert_series_equal.py -> build\\lib.win-amd64-cpython-39\\pandas\\tests\\util\n",
            "  copying pandas\\tests\\util\\test_deprecate.py -> build\\lib.win-amd64-cpython-39\\pandas\\tests\\util\n",
            "  copying pandas\\tests\\util\\test_deprecate_kwarg.py -> build\\lib.win-amd64-cpython-39\\pandas\\tests\\util\n",
            "  copying pandas\\tests\\util\\test_hashing.py -> build\\lib.win-amd64-cpython-39\\pandas\\tests\\util\n",
            "  copying pandas\\tests\\util\\test_locale.py -> build\\lib.win-amd64-cpython-39\\pandas\\tests\\util\n",
            "  copying pandas\\tests\\util\\test_move.py -> build\\lib.win-amd64-cpython-39\\pandas\\tests\\util\n",
            "  copying pandas\\tests\\util\\test_safe_import.py -> build\\lib.win-amd64-cpython-39\\pandas\\tests\\util\n"
          ]
        },
        {
          "name": "stderr",
          "output_type": "stream",
          "text": [
            "  copying pandas\\tests\\util\\test_util.py -> build\\lib.win-amd64-cpython-39\\pandas\\tests\\util\n",
            "  copying pandas\\tests\\util\\test_validate_args.py -> build\\lib.win-amd64-cpython-39\\pandas\\tests\\util\n",
            "  copying pandas\\tests\\util\\test_validate_args_and_kwargs.py -> build\\lib.win-amd64-cpython-39\\pandas\\tests\\util\n",
            "  copying pandas\\tests\\util\\test_validate_kwargs.py -> build\\lib.win-amd64-cpython-39\\pandas\\tests\\util\n",
            "  copying pandas\\tests\\util\\__init__.py -> build\\lib.win-amd64-cpython-39\\pandas\\tests\\util\n",
            "  creating build\\lib.win-amd64-cpython-39\\pandas\\tests\\arrays\\categorical\n",
            "  copying pandas\\tests\\arrays\\categorical\\common.py -> build\\lib.win-amd64-cpython-39\\pandas\\tests\\arrays\\categorical\n",
            "  copying pandas\\tests\\arrays\\categorical\\conftest.py -> build\\lib.win-amd64-cpython-39\\pandas\\tests\\arrays\\categorical\n",
            "  copying pandas\\tests\\arrays\\categorical\\test_algos.py -> build\\lib.win-amd64-cpython-39\\pandas\\tests\\arrays\\categorical\n",
            "  copying pandas\\tests\\arrays\\categorical\\test_analytics.py -> build\\lib.win-amd64-cpython-39\\pandas\\tests\\arrays\\categorical\n",
            "  copying pandas\\tests\\arrays\\categorical\\test_api.py -> build\\lib.win-amd64-cpython-39\\pandas\\tests\\arrays\\categorical\n",
            "  copying pandas\\tests\\arrays\\categorical\\test_constructors.py -> build\\lib.win-amd64-cpython-39\\pandas\\tests\\arrays\\categorical\n",
            "  copying pandas\\tests\\arrays\\categorical\\test_dtypes.py -> build\\lib.win-amd64-cpython-39\\pandas\\tests\\arrays\\categorical\n",
            "  copying pandas\\tests\\arrays\\categorical\\test_indexing.py -> build\\lib.win-amd64-cpython-39\\pandas\\tests\\arrays\\categorical\n",
            "  copying pandas\\tests\\arrays\\categorical\\test_missing.py -> build\\lib.win-amd64-cpython-39\\pandas\\tests\\arrays\\categorical\n",
            "  copying pandas\\tests\\arrays\\categorical\\test_operators.py -> build\\lib.win-amd64-cpython-39\\pandas\\tests\\arrays\\categorical\n",
            "  copying pandas\\tests\\arrays\\categorical\\test_repr.py -> build\\lib.win-amd64-cpython-39\\pandas\\tests\\arrays\\categorical\n",
            "  copying pandas\\tests\\arrays\\categorical\\test_sorting.py -> build\\lib.win-amd64-cpython-39\\pandas\\tests\\arrays\\categorical\n",
            "  copying pandas\\tests\\arrays\\categorical\\test_subclass.py -> build\\lib.win-amd64-cpython-39\\pandas\\tests\\arrays\\categorical\n",
            "  copying pandas\\tests\\arrays\\categorical\\test_warnings.py -> build\\lib.win-amd64-cpython-39\\pandas\\tests\\arrays\\categorical\n",
            "  copying pandas\\tests\\arrays\\categorical\\__init__.py -> build\\lib.win-amd64-cpython-39\\pandas\\tests\\arrays\\categorical\n",
            "  creating build\\lib.win-amd64-cpython-39\\pandas\\tests\\arrays\\interval\n",
            "  copying pandas\\tests\\arrays\\interval\\test_interval.py -> build\\lib.win-amd64-cpython-39\\pandas\\tests\\arrays\\interval\n",
            "  copying pandas\\tests\\arrays\\interval\\test_ops.py -> build\\lib.win-amd64-cpython-39\\pandas\\tests\\arrays\\interval\n",
            "  copying pandas\\tests\\arrays\\interval\\__init__.py -> build\\lib.win-amd64-cpython-39\\pandas\\tests\\arrays\\interval\n",
            "  creating build\\lib.win-amd64-cpython-39\\pandas\\tests\\arrays\\sparse\n",
            "  copying pandas\\tests\\arrays\\sparse\\test_arithmetics.py -> build\\lib.win-amd64-cpython-39\\pandas\\tests\\arrays\\sparse\n",
            "  copying pandas\\tests\\arrays\\sparse\\test_array.py -> build\\lib.win-amd64-cpython-39\\pandas\\tests\\arrays\\sparse\n",
            "  copying pandas\\tests\\arrays\\sparse\\test_dtype.py -> build\\lib.win-amd64-cpython-39\\pandas\\tests\\arrays\\sparse\n",
            "  copying pandas\\tests\\arrays\\sparse\\test_libsparse.py -> build\\lib.win-amd64-cpython-39\\pandas\\tests\\arrays\\sparse\n",
            "  copying pandas\\tests\\arrays\\sparse\\__init__.py -> build\\lib.win-amd64-cpython-39\\pandas\\tests\\arrays\\sparse\n",
            "  creating build\\lib.win-amd64-cpython-39\\pandas\\tests\\dtypes\\cast\n",
            "  copying pandas\\tests\\dtypes\\cast\\test_construct_from_scalar.py -> build\\lib.win-amd64-cpython-39\\pandas\\tests\\dtypes\\cast\n",
            "  copying pandas\\tests\\dtypes\\cast\\test_construct_ndarray.py -> build\\lib.win-amd64-cpython-39\\pandas\\tests\\dtypes\\cast\n",
            "  copying pandas\\tests\\dtypes\\cast\\test_construct_object_arr.py -> build\\lib.win-amd64-cpython-39\\pandas\\tests\\dtypes\\cast\n",
            "  copying pandas\\tests\\dtypes\\cast\\test_convert_objects.py -> build\\lib.win-amd64-cpython-39\\pandas\\tests\\dtypes\\cast\n",
            "  copying pandas\\tests\\dtypes\\cast\\test_downcast.py -> build\\lib.win-amd64-cpython-39\\pandas\\tests\\dtypes\\cast\n",
            "  copying pandas\\tests\\dtypes\\cast\\test_find_common_type.py -> build\\lib.win-amd64-cpython-39\\pandas\\tests\\dtypes\\cast\n",
            "  copying pandas\\tests\\dtypes\\cast\\test_infer_datetimelike.py -> build\\lib.win-amd64-cpython-39\\pandas\\tests\\dtypes\\cast\n",
            "  copying pandas\\tests\\dtypes\\cast\\test_infer_dtype.py -> build\\lib.win-amd64-cpython-39\\pandas\\tests\\dtypes\\cast\n",
            "  copying pandas\\tests\\dtypes\\cast\\__init__.py -> build\\lib.win-amd64-cpython-39\\pandas\\tests\\dtypes\\cast\n",
            "  creating build\\lib.win-amd64-cpython-39\\pandas\\tests\\extension\\arrow\n",
            "  copying pandas\\tests\\extension\\arrow\\bool.py -> build\\lib.win-amd64-cpython-39\\pandas\\tests\\extension\\arrow\n",
            "  copying pandas\\tests\\extension\\arrow\\test_bool.py -> build\\lib.win-amd64-cpython-39\\pandas\\tests\\extension\\arrow\n",
            "  copying pandas\\tests\\extension\\arrow\\__init__.py -> build\\lib.win-amd64-cpython-39\\pandas\\tests\\extension\\arrow\n",
            "  creating build\\lib.win-amd64-cpython-39\\pandas\\tests\\extension\\base\n",
            "  copying pandas\\tests\\extension\\base\\base.py -> build\\lib.win-amd64-cpython-39\\pandas\\tests\\extension\\base\n",
            "  copying pandas\\tests\\extension\\base\\casting.py -> build\\lib.win-amd64-cpython-39\\pandas\\tests\\extension\\base\n",
            "  copying pandas\\tests\\extension\\base\\constructors.py -> build\\lib.win-amd64-cpython-39\\pandas\\tests\\extension\\base\n",
            "  copying pandas\\tests\\extension\\base\\dtype.py -> build\\lib.win-amd64-cpython-39\\pandas\\tests\\extension\\base\n",
            "  copying pandas\\tests\\extension\\base\\getitem.py -> build\\lib.win-amd64-cpython-39\\pandas\\tests\\extension\\base\n",
            "  copying pandas\\tests\\extension\\base\\groupby.py -> build\\lib.win-amd64-cpython-39\\pandas\\tests\\extension\\base\n",
            "  copying pandas\\tests\\extension\\base\\interface.py -> build\\lib.win-amd64-cpython-39\\pandas\\tests\\extension\\base\n",
            "  copying pandas\\tests\\extension\\base\\io.py -> build\\lib.win-amd64-cpython-39\\pandas\\tests\\extension\\base\n",
            "  copying pandas\\tests\\extension\\base\\methods.py -> build\\lib.win-amd64-cpython-39\\pandas\\tests\\extension\\base\n",
            "  copying pandas\\tests\\extension\\base\\missing.py -> build\\lib.win-amd64-cpython-39\\pandas\\tests\\extension\\base\n",
            "  copying pandas\\tests\\extension\\base\\ops.py -> build\\lib.win-amd64-cpython-39\\pandas\\tests\\extension\\base\n",
            "  copying pandas\\tests\\extension\\base\\printing.py -> build\\lib.win-amd64-cpython-39\\pandas\\tests\\extension\\base\n",
            "  copying pandas\\tests\\extension\\base\\reduce.py -> build\\lib.win-amd64-cpython-39\\pandas\\tests\\extension\\base\n",
            "  copying pandas\\tests\\extension\\base\\reshaping.py -> build\\lib.win-amd64-cpython-39\\pandas\\tests\\extension\\base\n",
            "  copying pandas\\tests\\extension\\base\\setitem.py -> build\\lib.win-amd64-cpython-39\\pandas\\tests\\extension\\base\n",
            "  copying pandas\\tests\\extension\\base\\__init__.py -> build\\lib.win-amd64-cpython-39\\pandas\\tests\\extension\\base\n",
            "  creating build\\lib.win-amd64-cpython-39\\pandas\\tests\\extension\\decimal\n",
            "  copying pandas\\tests\\extension\\decimal\\array.py -> build\\lib.win-amd64-cpython-39\\pandas\\tests\\extension\\decimal\n",
            "  copying pandas\\tests\\extension\\decimal\\test_decimal.py -> build\\lib.win-amd64-cpython-39\\pandas\\tests\\extension\\decimal\n",
            "  copying pandas\\tests\\extension\\decimal\\__init__.py -> build\\lib.win-amd64-cpython-39\\pandas\\tests\\extension\\decimal\n",
            "  creating build\\lib.win-amd64-cpython-39\\pandas\\tests\\extension\\json\n",
            "  copying pandas\\tests\\extension\\json\\array.py -> build\\lib.win-amd64-cpython-39\\pandas\\tests\\extension\\json\n",
            "  copying pandas\\tests\\extension\\json\\test_json.py -> build\\lib.win-amd64-cpython-39\\pandas\\tests\\extension\\json\n",
            "  copying pandas\\tests\\extension\\json\\__init__.py -> build\\lib.win-amd64-cpython-39\\pandas\\tests\\extension\\json\n",
            "  creating build\\lib.win-amd64-cpython-39\\pandas\\tests\\extension\\numpy_\n",
            "  copying pandas\\tests\\extension\\numpy_\\conftest.py -> build\\lib.win-amd64-cpython-39\\pandas\\tests\\extension\\numpy_\n",
            "  copying pandas\\tests\\extension\\numpy_\\test_numpy.py -> build\\lib.win-amd64-cpython-39\\pandas\\tests\\extension\\numpy_\n",
            "  copying pandas\\tests\\extension\\numpy_\\test_numpy_nested.py -> build\\lib.win-amd64-cpython-39\\pandas\\tests\\extension\\numpy_\n",
            "  copying pandas\\tests\\extension\\numpy_\\__init__.py -> build\\lib.win-amd64-cpython-39\\pandas\\tests\\extension\\numpy_\n",
            "  creating build\\lib.win-amd64-cpython-39\\pandas\\tests\\groupby\\aggregate\n",
            "  copying pandas\\tests\\groupby\\aggregate\\test_aggregate.py -> build\\lib.win-amd64-cpython-39\\pandas\\tests\\groupby\\aggregate\n",
            "  copying pandas\\tests\\groupby\\aggregate\\test_cython.py -> build\\lib.win-amd64-cpython-39\\pandas\\tests\\groupby\\aggregate\n",
            "  copying pandas\\tests\\groupby\\aggregate\\test_other.py -> build\\lib.win-amd64-cpython-39\\pandas\\tests\\groupby\\aggregate\n",
            "  copying pandas\\tests\\groupby\\aggregate\\__init__.py -> build\\lib.win-amd64-cpython-39\\pandas\\tests\\groupby\\aggregate\n",
            "  creating build\\lib.win-amd64-cpython-39\\pandas\\tests\\indexes\\datetimes\n",
            "  copying pandas\\tests\\indexes\\datetimes\\test_arithmetic.py -> build\\lib.win-amd64-cpython-39\\pandas\\tests\\indexes\\datetimes\n",
            "  copying pandas\\tests\\indexes\\datetimes\\test_astype.py -> build\\lib.win-amd64-cpython-39\\pandas\\tests\\indexes\\datetimes\n",
            "  copying pandas\\tests\\indexes\\datetimes\\test_construction.py -> build\\lib.win-amd64-cpython-39\\pandas\\tests\\indexes\\datetimes\n",
            "  copying pandas\\tests\\indexes\\datetimes\\test_datetime.py -> build\\lib.win-amd64-cpython-39\\pandas\\tests\\indexes\\datetimes\n",
            "  copying pandas\\tests\\indexes\\datetimes\\test_datetimelike.py -> build\\lib.win-amd64-cpython-39\\pandas\\tests\\indexes\\datetimes\n",
            "  copying pandas\\tests\\indexes\\datetimes\\test_date_range.py -> build\\lib.win-amd64-cpython-39\\pandas\\tests\\indexes\\datetimes\n",
            "  copying pandas\\tests\\indexes\\datetimes\\test_formats.py -> build\\lib.win-amd64-cpython-39\\pandas\\tests\\indexes\\datetimes\n",
            "  copying pandas\\tests\\indexes\\datetimes\\test_indexing.py -> build\\lib.win-amd64-cpython-39\\pandas\\tests\\indexes\\datetimes\n",
            "  copying pandas\\tests\\indexes\\datetimes\\test_misc.py -> build\\lib.win-amd64-cpython-39\\pandas\\tests\\indexes\\datetimes\n",
            "  copying pandas\\tests\\indexes\\datetimes\\test_missing.py -> build\\lib.win-amd64-cpython-39\\pandas\\tests\\indexes\\datetimes\n",
            "  copying pandas\\tests\\indexes\\datetimes\\test_ops.py -> build\\lib.win-amd64-cpython-39\\pandas\\tests\\indexes\\datetimes\n",
            "  copying pandas\\tests\\indexes\\datetimes\\test_partial_slicing.py -> build\\lib.win-amd64-cpython-39\\pandas\\tests\\indexes\\datetimes\n",
            "  copying pandas\\tests\\indexes\\datetimes\\test_scalar_compat.py -> build\\lib.win-amd64-cpython-39\\pandas\\tests\\indexes\\datetimes\n",
            "  copying pandas\\tests\\indexes\\datetimes\\test_setops.py -> build\\lib.win-amd64-cpython-39\\pandas\\tests\\indexes\\datetimes\n",
            "  copying pandas\\tests\\indexes\\datetimes\\test_timezones.py -> build\\lib.win-amd64-cpython-39\\pandas\\tests\\indexes\\datetimes\n",
            "  copying pandas\\tests\\indexes\\datetimes\\test_tools.py -> build\\lib.win-amd64-cpython-39\\pandas\\tests\\indexes\\datetimes\n",
            "  copying pandas\\tests\\indexes\\datetimes\\__init__.py -> build\\lib.win-amd64-cpython-39\\pandas\\tests\\indexes\\datetimes\n",
            "  creating build\\lib.win-amd64-cpython-39\\pandas\\tests\\indexes\\interval\n",
            "  copying pandas\\tests\\indexes\\interval\\test_astype.py -> build\\lib.win-amd64-cpython-39\\pandas\\tests\\indexes\\interval\n",
            "  copying pandas\\tests\\indexes\\interval\\test_construction.py -> build\\lib.win-amd64-cpython-39\\pandas\\tests\\indexes\\interval\n",
            "  copying pandas\\tests\\indexes\\interval\\test_interval.py -> build\\lib.win-amd64-cpython-39\\pandas\\tests\\indexes\\interval\n",
            "  copying pandas\\tests\\indexes\\interval\\test_interval_new.py -> build\\lib.win-amd64-cpython-39\\pandas\\tests\\indexes\\interval\n",
            "  copying pandas\\tests\\indexes\\interval\\test_interval_range.py -> build\\lib.win-amd64-cpython-39\\pandas\\tests\\indexes\\interval\n",
            "  copying pandas\\tests\\indexes\\interval\\test_interval_tree.py -> build\\lib.win-amd64-cpython-39\\pandas\\tests\\indexes\\interval\n",
            "  copying pandas\\tests\\indexes\\interval\\__init__.py -> build\\lib.win-amd64-cpython-39\\pandas\\tests\\indexes\\interval\n",
            "  creating build\\lib.win-amd64-cpython-39\\pandas\\tests\\indexes\\multi\n",
            "  copying pandas\\tests\\indexes\\multi\\conftest.py -> build\\lib.win-amd64-cpython-39\\pandas\\tests\\indexes\\multi\n",
            "  copying pandas\\tests\\indexes\\multi\\test_analytics.py -> build\\lib.win-amd64-cpython-39\\pandas\\tests\\indexes\\multi\n",
            "  copying pandas\\tests\\indexes\\multi\\test_astype.py -> build\\lib.win-amd64-cpython-39\\pandas\\tests\\indexes\\multi\n",
            "  copying pandas\\tests\\indexes\\multi\\test_compat.py -> build\\lib.win-amd64-cpython-39\\pandas\\tests\\indexes\\multi\n",
            "  copying pandas\\tests\\indexes\\multi\\test_constructor.py -> build\\lib.win-amd64-cpython-39\\pandas\\tests\\indexes\\multi\n",
            "  copying pandas\\tests\\indexes\\multi\\test_contains.py -> build\\lib.win-amd64-cpython-39\\pandas\\tests\\indexes\\multi\n",
            "  copying pandas\\tests\\indexes\\multi\\test_conversion.py -> build\\lib.win-amd64-cpython-39\\pandas\\tests\\indexes\\multi\n",
            "  copying pandas\\tests\\indexes\\multi\\test_copy.py -> build\\lib.win-amd64-cpython-39\\pandas\\tests\\indexes\\multi\n",
            "  copying pandas\\tests\\indexes\\multi\\test_drop.py -> build\\lib.win-amd64-cpython-39\\pandas\\tests\\indexes\\multi\n",
            "  copying pandas\\tests\\indexes\\multi\\test_duplicates.py -> build\\lib.win-amd64-cpython-39\\pandas\\tests\\indexes\\multi\n",
            "  copying pandas\\tests\\indexes\\multi\\test_equivalence.py -> build\\lib.win-amd64-cpython-39\\pandas\\tests\\indexes\\multi\n",
            "  copying pandas\\tests\\indexes\\multi\\test_format.py -> build\\lib.win-amd64-cpython-39\\pandas\\tests\\indexes\\multi\n",
            "  copying pandas\\tests\\indexes\\multi\\test_get_set.py -> build\\lib.win-amd64-cpython-39\\pandas\\tests\\indexes\\multi\n",
            "  copying pandas\\tests\\indexes\\multi\\test_indexing.py -> build\\lib.win-amd64-cpython-39\\pandas\\tests\\indexes\\multi\n",
            "  copying pandas\\tests\\indexes\\multi\\test_integrity.py -> build\\lib.win-amd64-cpython-39\\pandas\\tests\\indexes\\multi\n",
            "  copying pandas\\tests\\indexes\\multi\\test_join.py -> build\\lib.win-amd64-cpython-39\\pandas\\tests\\indexes\\multi\n",
            "  copying pandas\\tests\\indexes\\multi\\test_missing.py -> build\\lib.win-amd64-cpython-39\\pandas\\tests\\indexes\\multi\n",
            "  copying pandas\\tests\\indexes\\multi\\test_monotonic.py -> build\\lib.win-amd64-cpython-39\\pandas\\tests\\indexes\\multi\n",
            "  copying pandas\\tests\\indexes\\multi\\test_names.py -> build\\lib.win-amd64-cpython-39\\pandas\\tests\\indexes\\multi\n",
            "  copying pandas\\tests\\indexes\\multi\\test_partial_indexing.py -> build\\lib.win-amd64-cpython-39\\pandas\\tests\\indexes\\multi\n",
            "  copying pandas\\tests\\indexes\\multi\\test_reindex.py -> build\\lib.win-amd64-cpython-39\\pandas\\tests\\indexes\\multi\n",
            "  copying pandas\\tests\\indexes\\multi\\test_reshape.py -> build\\lib.win-amd64-cpython-39\\pandas\\tests\\indexes\\multi\n",
            "  copying pandas\\tests\\indexes\\multi\\test_set_ops.py -> build\\lib.win-amd64-cpython-39\\pandas\\tests\\indexes\\multi\n",
            "  copying pandas\\tests\\indexes\\multi\\test_sorting.py -> build\\lib.win-amd64-cpython-39\\pandas\\tests\\indexes\\multi\n",
            "  copying pandas\\tests\\indexes\\multi\\__init__.py -> build\\lib.win-amd64-cpython-39\\pandas\\tests\\indexes\\multi\n",
            "  creating build\\lib.win-amd64-cpython-39\\pandas\\tests\\indexes\\period\n",
            "  copying pandas\\tests\\indexes\\period\\test_arithmetic.py -> build\\lib.win-amd64-cpython-39\\pandas\\tests\\indexes\\period\n",
            "  copying pandas\\tests\\indexes\\period\\test_asfreq.py -> build\\lib.win-amd64-cpython-39\\pandas\\tests\\indexes\\period\n",
            "  copying pandas\\tests\\indexes\\period\\test_astype.py -> build\\lib.win-amd64-cpython-39\\pandas\\tests\\indexes\\period\n",
            "  copying pandas\\tests\\indexes\\period\\test_construction.py -> build\\lib.win-amd64-cpython-39\\pandas\\tests\\indexes\\period\n",
            "  copying pandas\\tests\\indexes\\period\\test_formats.py -> build\\lib.win-amd64-cpython-39\\pandas\\tests\\indexes\\period\n",
            "  copying pandas\\tests\\indexes\\period\\test_indexing.py -> build\\lib.win-amd64-cpython-39\\pandas\\tests\\indexes\\period\n",
            "  copying pandas\\tests\\indexes\\period\\test_ops.py -> build\\lib.win-amd64-cpython-39\\pandas\\tests\\indexes\\period\n",
            "  copying pandas\\tests\\indexes\\period\\test_partial_slicing.py -> build\\lib.win-amd64-cpython-39\\pandas\\tests\\indexes\\period\n",
            "  copying pandas\\tests\\indexes\\period\\test_period.py -> build\\lib.win-amd64-cpython-39\\pandas\\tests\\indexes\\period\n",
            "  copying pandas\\tests\\indexes\\period\\test_period_range.py -> build\\lib.win-amd64-cpython-39\\pandas\\tests\\indexes\\period\n",
            "  copying pandas\\tests\\indexes\\period\\test_scalar_compat.py -> build\\lib.win-amd64-cpython-39\\pandas\\tests\\indexes\\period\n",
            "  copying pandas\\tests\\indexes\\period\\test_setops.py -> build\\lib.win-amd64-cpython-39\\pandas\\tests\\indexes\\period\n",
            "  copying pandas\\tests\\indexes\\period\\test_tools.py -> build\\lib.win-amd64-cpython-39\\pandas\\tests\\indexes\\period\n",
            "  copying pandas\\tests\\indexes\\period\\__init__.py -> build\\lib.win-amd64-cpython-39\\pandas\\tests\\indexes\\period\n",
            "  creating build\\lib.win-amd64-cpython-39\\pandas\\tests\\indexes\\timedeltas\n",
            "  copying pandas\\tests\\indexes\\timedeltas\\test_arithmetic.py -> build\\lib.win-amd64-cpython-39\\pandas\\tests\\indexes\\timedeltas\n",
            "  copying pandas\\tests\\indexes\\timedeltas\\test_astype.py -> build\\lib.win-amd64-cpython-39\\pandas\\tests\\indexes\\timedeltas\n",
            "  copying pandas\\tests\\indexes\\timedeltas\\test_construction.py -> build\\lib.win-amd64-cpython-39\\pandas\\tests\\indexes\\timedeltas\n",
            "  copying pandas\\tests\\indexes\\timedeltas\\test_formats.py -> build\\lib.win-amd64-cpython-39\\pandas\\tests\\indexes\\timedeltas\n",
            "  copying pandas\\tests\\indexes\\timedeltas\\test_indexing.py -> build\\lib.win-amd64-cpython-39\\pandas\\tests\\indexes\\timedeltas\n",
            "  copying pandas\\tests\\indexes\\timedeltas\\test_ops.py -> build\\lib.win-amd64-cpython-39\\pandas\\tests\\indexes\\timedeltas\n",
            "  copying pandas\\tests\\indexes\\timedeltas\\test_partial_slicing.py -> build\\lib.win-amd64-cpython-39\\pandas\\tests\\indexes\\timedeltas\n",
            "  copying pandas\\tests\\indexes\\timedeltas\\test_scalar_compat.py -> build\\lib.win-amd64-cpython-39\\pandas\\tests\\indexes\\timedeltas\n",
            "  copying pandas\\tests\\indexes\\timedeltas\\test_setops.py -> build\\lib.win-amd64-cpython-39\\pandas\\tests\\indexes\\timedeltas\n",
            "  copying pandas\\tests\\indexes\\timedeltas\\test_timedelta.py -> build\\lib.win-amd64-cpython-39\\pandas\\tests\\indexes\\timedeltas\n",
            "  copying pandas\\tests\\indexes\\timedeltas\\test_timedelta_range.py -> build\\lib.win-amd64-cpython-39\\pandas\\tests\\indexes\\timedeltas\n",
            "  copying pandas\\tests\\indexes\\timedeltas\\test_tools.py -> build\\lib.win-amd64-cpython-39\\pandas\\tests\\indexes\\timedeltas\n",
            "  copying pandas\\tests\\indexes\\timedeltas\\__init__.py -> build\\lib.win-amd64-cpython-39\\pandas\\tests\\indexes\\timedeltas\n",
            "  creating build\\lib.win-amd64-cpython-39\\pandas\\tests\\indexing\\interval\n",
            "  copying pandas\\tests\\indexing\\interval\\test_interval.py -> build\\lib.win-amd64-cpython-39\\pandas\\tests\\indexing\\interval\n",
            "  copying pandas\\tests\\indexing\\interval\\test_interval_new.py -> build\\lib.win-amd64-cpython-39\\pandas\\tests\\indexing\\interval\n",
            "  copying pandas\\tests\\indexing\\interval\\__init__.py -> build\\lib.win-amd64-cpython-39\\pandas\\tests\\indexing\\interval\n",
            "  creating build\\lib.win-amd64-cpython-39\\pandas\\tests\\indexing\\multiindex\n",
            "  copying pandas\\tests\\indexing\\multiindex\\conftest.py -> build\\lib.win-amd64-cpython-39\\pandas\\tests\\indexing\\multiindex\n",
            "  copying pandas\\tests\\indexing\\multiindex\\test_chaining_and_caching.py -> build\\lib.win-amd64-cpython-39\\pandas\\tests\\indexing\\multiindex\n",
            "  copying pandas\\tests\\indexing\\multiindex\\test_datetime.py -> build\\lib.win-amd64-cpython-39\\pandas\\tests\\indexing\\multiindex\n",
            "  copying pandas\\tests\\indexing\\multiindex\\test_getitem.py -> build\\lib.win-amd64-cpython-39\\pandas\\tests\\indexing\\multiindex\n",
            "  copying pandas\\tests\\indexing\\multiindex\\test_iloc.py -> build\\lib.win-amd64-cpython-39\\pandas\\tests\\indexing\\multiindex\n",
            "  copying pandas\\tests\\indexing\\multiindex\\test_indexing_slow.py -> build\\lib.win-amd64-cpython-39\\pandas\\tests\\indexing\\multiindex\n",
            "  copying pandas\\tests\\indexing\\multiindex\\test_ix.py -> build\\lib.win-amd64-cpython-39\\pandas\\tests\\indexing\\multiindex\n",
            "  copying pandas\\tests\\indexing\\multiindex\\test_loc.py -> build\\lib.win-amd64-cpython-39\\pandas\\tests\\indexing\\multiindex\n",
            "  copying pandas\\tests\\indexing\\multiindex\\test_multiindex.py -> build\\lib.win-amd64-cpython-39\\pandas\\tests\\indexing\\multiindex\n",
            "  copying pandas\\tests\\indexing\\multiindex\\test_panel.py -> build\\lib.win-amd64-cpython-39\\pandas\\tests\\indexing\\multiindex\n",
            "  copying pandas\\tests\\indexing\\multiindex\\test_partial.py -> build\\lib.win-amd64-cpython-39\\pandas\\tests\\indexing\\multiindex\n",
            "  copying pandas\\tests\\indexing\\multiindex\\test_setitem.py -> build\\lib.win-amd64-cpython-39\\pandas\\tests\\indexing\\multiindex\n",
            "  copying pandas\\tests\\indexing\\multiindex\\test_set_ops.py -> build\\lib.win-amd64-cpython-39\\pandas\\tests\\indexing\\multiindex\n",
            "  copying pandas\\tests\\indexing\\multiindex\\test_slice.py -> build\\lib.win-amd64-cpython-39\\pandas\\tests\\indexing\\multiindex\n",
            "  copying pandas\\tests\\indexing\\multiindex\\test_sorted.py -> build\\lib.win-amd64-cpython-39\\pandas\\tests\\indexing\\multiindex\n",
            "  copying pandas\\tests\\indexing\\multiindex\\test_xs.py -> build\\lib.win-amd64-cpython-39\\pandas\\tests\\indexing\\multiindex\n",
            "  copying pandas\\tests\\indexing\\multiindex\\__init__.py -> build\\lib.win-amd64-cpython-39\\pandas\\tests\\indexing\\multiindex\n",
            "  creating build\\lib.win-amd64-cpython-39\\pandas\\tests\\io\\formats\n",
            "  copying pandas\\tests\\io\\formats\\test_console.py -> build\\lib.win-amd64-cpython-39\\pandas\\tests\\io\\formats\n",
            "  copying pandas\\tests\\io\\formats\\test_css.py -> build\\lib.win-amd64-cpython-39\\pandas\\tests\\io\\formats\n",
            "  copying pandas\\tests\\io\\formats\\test_eng_formatting.py -> build\\lib.win-amd64-cpython-39\\pandas\\tests\\io\\formats\n",
            "  copying pandas\\tests\\io\\formats\\test_format.py -> build\\lib.win-amd64-cpython-39\\pandas\\tests\\io\\formats\n",
            "  copying pandas\\tests\\io\\formats\\test_printing.py -> build\\lib.win-amd64-cpython-39\\pandas\\tests\\io\\formats\n",
            "  copying pandas\\tests\\io\\formats\\test_style.py -> build\\lib.win-amd64-cpython-39\\pandas\\tests\\io\\formats\n",
            "  copying pandas\\tests\\io\\formats\\test_to_csv.py -> build\\lib.win-amd64-cpython-39\\pandas\\tests\\io\\formats\n",
            "  copying pandas\\tests\\io\\formats\\test_to_excel.py -> build\\lib.win-amd64-cpython-39\\pandas\\tests\\io\\formats\n",
            "  copying pandas\\tests\\io\\formats\\test_to_html.py -> build\\lib.win-amd64-cpython-39\\pandas\\tests\\io\\formats\n",
            "  copying pandas\\tests\\io\\formats\\test_to_latex.py -> build\\lib.win-amd64-cpython-39\\pandas\\tests\\io\\formats\n",
            "  copying pandas\\tests\\io\\formats\\__init__.py -> build\\lib.win-amd64-cpython-39\\pandas\\tests\\io\\formats\n",
            "  creating build\\lib.win-amd64-cpython-39\\pandas\\tests\\io\\json\n",
            "  copying pandas\\tests\\io\\json\\test_compression.py -> build\\lib.win-amd64-cpython-39\\pandas\\tests\\io\\json\n",
            "  copying pandas\\tests\\io\\json\\test_json_table_schema.py -> build\\lib.win-amd64-cpython-39\\pandas\\tests\\io\\json\n",
            "  copying pandas\\tests\\io\\json\\test_normalize.py -> build\\lib.win-amd64-cpython-39\\pandas\\tests\\io\\json\n",
            "  copying pandas\\tests\\io\\json\\test_pandas.py -> build\\lib.win-amd64-cpython-39\\pandas\\tests\\io\\json\n",
            "  copying pandas\\tests\\io\\json\\test_readlines.py -> build\\lib.win-amd64-cpython-39\\pandas\\tests\\io\\json\n",
            "  copying pandas\\tests\\io\\json\\test_ujson.py -> build\\lib.win-amd64-cpython-39\\pandas\\tests\\io\\json\n",
            "  copying pandas\\tests\\io\\json\\__init__.py -> build\\lib.win-amd64-cpython-39\\pandas\\tests\\io\\json\n",
            "  creating build\\lib.win-amd64-cpython-39\\pandas\\tests\\io\\msgpack\n",
            "  copying pandas\\tests\\io\\msgpack\\common.py -> build\\lib.win-amd64-cpython-39\\pandas\\tests\\io\\msgpack\n",
            "  copying pandas\\tests\\io\\msgpack\\test_buffer.py -> build\\lib.win-amd64-cpython-39\\pandas\\tests\\io\\msgpack\n",
            "  copying pandas\\tests\\io\\msgpack\\test_case.py -> build\\lib.win-amd64-cpython-39\\pandas\\tests\\io\\msgpack\n",
            "  copying pandas\\tests\\io\\msgpack\\test_except.py -> build\\lib.win-amd64-cpython-39\\pandas\\tests\\io\\msgpack\n",
            "  copying pandas\\tests\\io\\msgpack\\test_extension.py -> build\\lib.win-amd64-cpython-39\\pandas\\tests\\io\\msgpack\n",
            "  copying pandas\\tests\\io\\msgpack\\test_format.py -> build\\lib.win-amd64-cpython-39\\pandas\\tests\\io\\msgpack\n",
            "  copying pandas\\tests\\io\\msgpack\\test_limits.py -> build\\lib.win-amd64-cpython-39\\pandas\\tests\\io\\msgpack\n",
            "  copying pandas\\tests\\io\\msgpack\\test_newspec.py -> build\\lib.win-amd64-cpython-39\\pandas\\tests\\io\\msgpack\n",
            "  copying pandas\\tests\\io\\msgpack\\test_obj.py -> build\\lib.win-amd64-cpython-39\\pandas\\tests\\io\\msgpack\n",
            "  copying pandas\\tests\\io\\msgpack\\test_pack.py -> build\\lib.win-amd64-cpython-39\\pandas\\tests\\io\\msgpack\n",
            "  copying pandas\\tests\\io\\msgpack\\test_read_size.py -> build\\lib.win-amd64-cpython-39\\pandas\\tests\\io\\msgpack\n",
            "  copying pandas\\tests\\io\\msgpack\\test_seq.py -> build\\lib.win-amd64-cpython-39\\pandas\\tests\\io\\msgpack\n",
            "  copying pandas\\tests\\io\\msgpack\\test_sequnpack.py -> build\\lib.win-amd64-cpython-39\\pandas\\tests\\io\\msgpack\n",
            "  copying pandas\\tests\\io\\msgpack\\test_subtype.py -> build\\lib.win-amd64-cpython-39\\pandas\\tests\\io\\msgpack\n",
            "  copying pandas\\tests\\io\\msgpack\\test_unpack.py -> build\\lib.win-amd64-cpython-39\\pandas\\tests\\io\\msgpack\n",
            "  copying pandas\\tests\\io\\msgpack\\test_unpack_raw.py -> build\\lib.win-amd64-cpython-39\\pandas\\tests\\io\\msgpack\n",
            "  copying pandas\\tests\\io\\msgpack\\__init__.py -> build\\lib.win-amd64-cpython-39\\pandas\\tests\\io\\msgpack\n",
            "  creating build\\lib.win-amd64-cpython-39\\pandas\\tests\\io\\parser\n",
            "  copying pandas\\tests\\io\\parser\\conftest.py -> build\\lib.win-amd64-cpython-39\\pandas\\tests\\io\\parser\n",
            "  copying pandas\\tests\\io\\parser\\test_comment.py -> build\\lib.win-amd64-cpython-39\\pandas\\tests\\io\\parser\n",
            "  copying pandas\\tests\\io\\parser\\test_common.py -> build\\lib.win-amd64-cpython-39\\pandas\\tests\\io\\parser\n",
            "  copying pandas\\tests\\io\\parser\\test_compression.py -> build\\lib.win-amd64-cpython-39\\pandas\\tests\\io\\parser\n",
            "  copying pandas\\tests\\io\\parser\\test_converters.py -> build\\lib.win-amd64-cpython-39\\pandas\\tests\\io\\parser\n",
            "  copying pandas\\tests\\io\\parser\\test_c_parser_only.py -> build\\lib.win-amd64-cpython-39\\pandas\\tests\\io\\parser\n",
            "  copying pandas\\tests\\io\\parser\\test_dialect.py -> build\\lib.win-amd64-cpython-39\\pandas\\tests\\io\\parser\n",
            "  copying pandas\\tests\\io\\parser\\test_dtypes.py -> build\\lib.win-amd64-cpython-39\\pandas\\tests\\io\\parser\n",
            "  copying pandas\\tests\\io\\parser\\test_header.py -> build\\lib.win-amd64-cpython-39\\pandas\\tests\\io\\parser\n",
            "  copying pandas\\tests\\io\\parser\\test_index_col.py -> build\\lib.win-amd64-cpython-39\\pandas\\tests\\io\\parser\n",
            "  copying pandas\\tests\\io\\parser\\test_mangle_dupes.py -> build\\lib.win-amd64-cpython-39\\pandas\\tests\\io\\parser\n",
            "  copying pandas\\tests\\io\\parser\\test_multi_thread.py -> build\\lib.win-amd64-cpython-39\\pandas\\tests\\io\\parser\n",
            "  copying pandas\\tests\\io\\parser\\test_na_values.py -> build\\lib.win-amd64-cpython-39\\pandas\\tests\\io\\parser\n",
            "  copying pandas\\tests\\io\\parser\\test_network.py -> build\\lib.win-amd64-cpython-39\\pandas\\tests\\io\\parser\n",
            "  copying pandas\\tests\\io\\parser\\test_parse_dates.py -> build\\lib.win-amd64-cpython-39\\pandas\\tests\\io\\parser\n",
            "  copying pandas\\tests\\io\\parser\\test_python_parser_only.py -> build\\lib.win-amd64-cpython-39\\pandas\\tests\\io\\parser\n",
            "  copying pandas\\tests\\io\\parser\\test_quoting.py -> build\\lib.win-amd64-cpython-39\\pandas\\tests\\io\\parser\n",
            "  copying pandas\\tests\\io\\parser\\test_read_fwf.py -> build\\lib.win-amd64-cpython-39\\pandas\\tests\\io\\parser\n",
            "  copying pandas\\tests\\io\\parser\\test_skiprows.py -> build\\lib.win-amd64-cpython-39\\pandas\\tests\\io\\parser\n",
            "  copying pandas\\tests\\io\\parser\\test_textreader.py -> build\\lib.win-amd64-cpython-39\\pandas\\tests\\io\\parser\n",
            "  copying pandas\\tests\\io\\parser\\test_unsupported.py -> build\\lib.win-amd64-cpython-39\\pandas\\tests\\io\\parser\n",
            "  copying pandas\\tests\\io\\parser\\test_usecols.py -> build\\lib.win-amd64-cpython-39\\pandas\\tests\\io\\parser\n",
            "  copying pandas\\tests\\io\\parser\\__init__.py -> build\\lib.win-amd64-cpython-39\\pandas\\tests\\io\\parser\n",
            "  creating build\\lib.win-amd64-cpython-39\\pandas\\tests\\io\\sas\n",
            "  copying pandas\\tests\\io\\sas\\test_sas.py -> build\\lib.win-amd64-cpython-39\\pandas\\tests\\io\\sas\n",
            "  copying pandas\\tests\\io\\sas\\test_sas7bdat.py -> build\\lib.win-amd64-cpython-39\\pandas\\tests\\io\\sas\n",
            "  copying pandas\\tests\\io\\sas\\test_xport.py -> build\\lib.win-amd64-cpython-39\\pandas\\tests\\io\\sas\n",
            "  copying pandas\\tests\\io\\sas\\__init__.py -> build\\lib.win-amd64-cpython-39\\pandas\\tests\\io\\sas\n",
            "  creating build\\lib.win-amd64-cpython-39\\pandas\\tests\\reshape\\merge\n",
            "  copying pandas\\tests\\reshape\\merge\\test_join.py -> build\\lib.win-amd64-cpython-39\\pandas\\tests\\reshape\\merge\n",
            "  copying pandas\\tests\\reshape\\merge\\test_merge.py -> build\\lib.win-amd64-cpython-39\\pandas\\tests\\reshape\\merge\n",
            "  copying pandas\\tests\\reshape\\merge\\test_merge_asof.py -> build\\lib.win-amd64-cpython-39\\pandas\\tests\\reshape\\merge\n",
            "  copying pandas\\tests\\reshape\\merge\\test_merge_index_as_string.py -> build\\lib.win-amd64-cpython-39\\pandas\\tests\\reshape\\merge\n",
            "  copying pandas\\tests\\reshape\\merge\\test_merge_ordered.py -> build\\lib.win-amd64-cpython-39\\pandas\\tests\\reshape\\merge\n",
            "  copying pandas\\tests\\reshape\\merge\\test_multi.py -> build\\lib.win-amd64-cpython-39\\pandas\\tests\\reshape\\merge\n",
            "  copying pandas\\tests\\reshape\\merge\\__init__.py -> build\\lib.win-amd64-cpython-39\\pandas\\tests\\reshape\\merge\n",
            "  creating build\\lib.win-amd64-cpython-39\\pandas\\tests\\scalar\\interval\n",
            "  copying pandas\\tests\\scalar\\interval\\test_interval.py -> build\\lib.win-amd64-cpython-39\\pandas\\tests\\scalar\\interval\n",
            "  copying pandas\\tests\\scalar\\interval\\test_ops.py -> build\\lib.win-amd64-cpython-39\\pandas\\tests\\scalar\\interval\n",
            "  copying pandas\\tests\\scalar\\interval\\__init__.py -> build\\lib.win-amd64-cpython-39\\pandas\\tests\\scalar\\interval\n",
            "  creating build\\lib.win-amd64-cpython-39\\pandas\\tests\\scalar\\period\n",
            "  copying pandas\\tests\\scalar\\period\\test_asfreq.py -> build\\lib.win-amd64-cpython-39\\pandas\\tests\\scalar\\period\n",
            "  copying pandas\\tests\\scalar\\period\\test_period.py -> build\\lib.win-amd64-cpython-39\\pandas\\tests\\scalar\\period\n",
            "  copying pandas\\tests\\scalar\\period\\__init__.py -> build\\lib.win-amd64-cpython-39\\pandas\\tests\\scalar\\period\n",
            "  creating build\\lib.win-amd64-cpython-39\\pandas\\tests\\scalar\\timedelta\n",
            "  copying pandas\\tests\\scalar\\timedelta\\test_arithmetic.py -> build\\lib.win-amd64-cpython-39\\pandas\\tests\\scalar\\timedelta\n",
            "  copying pandas\\tests\\scalar\\timedelta\\test_construction.py -> build\\lib.win-amd64-cpython-39\\pandas\\tests\\scalar\\timedelta\n",
            "  copying pandas\\tests\\scalar\\timedelta\\test_formats.py -> build\\lib.win-amd64-cpython-39\\pandas\\tests\\scalar\\timedelta\n",
            "  copying pandas\\tests\\scalar\\timedelta\\test_timedelta.py -> build\\lib.win-amd64-cpython-39\\pandas\\tests\\scalar\\timedelta\n",
            "  copying pandas\\tests\\scalar\\timedelta\\__init__.py -> build\\lib.win-amd64-cpython-39\\pandas\\tests\\scalar\\timedelta\n",
            "  creating build\\lib.win-amd64-cpython-39\\pandas\\tests\\scalar\\timestamp\n",
            "  copying pandas\\tests\\scalar\\timestamp\\test_arithmetic.py -> build\\lib.win-amd64-cpython-39\\pandas\\tests\\scalar\\timestamp\n",
            "  copying pandas\\tests\\scalar\\timestamp\\test_comparisons.py -> build\\lib.win-amd64-cpython-39\\pandas\\tests\\scalar\\timestamp\n",
            "  copying pandas\\tests\\scalar\\timestamp\\test_rendering.py -> build\\lib.win-amd64-cpython-39\\pandas\\tests\\scalar\\timestamp\n",
            "  copying pandas\\tests\\scalar\\timestamp\\test_timestamp.py -> build\\lib.win-amd64-cpython-39\\pandas\\tests\\scalar\\timestamp\n",
            "  copying pandas\\tests\\scalar\\timestamp\\test_timezones.py -> build\\lib.win-amd64-cpython-39\\pandas\\tests\\scalar\\timestamp\n",
            "  copying pandas\\tests\\scalar\\timestamp\\test_unary_ops.py -> build\\lib.win-amd64-cpython-39\\pandas\\tests\\scalar\\timestamp\n",
            "  copying pandas\\tests\\scalar\\timestamp\\__init__.py -> build\\lib.win-amd64-cpython-39\\pandas\\tests\\scalar\\timestamp\n",
            "  creating build\\lib.win-amd64-cpython-39\\pandas\\tests\\series\\indexing\n",
            "  copying pandas\\tests\\series\\indexing\\conftest.py -> build\\lib.win-amd64-cpython-39\\pandas\\tests\\series\\indexing\n",
            "  copying pandas\\tests\\series\\indexing\\test_alter_index.py -> build\\lib.win-amd64-cpython-39\\pandas\\tests\\series\\indexing\n",
            "  copying pandas\\tests\\series\\indexing\\test_boolean.py -> build\\lib.win-amd64-cpython-39\\pandas\\tests\\series\\indexing\n",
            "  copying pandas\\tests\\series\\indexing\\test_callable.py -> build\\lib.win-amd64-cpython-39\\pandas\\tests\\series\\indexing\n",
            "  copying pandas\\tests\\series\\indexing\\test_datetime.py -> build\\lib.win-amd64-cpython-39\\pandas\\tests\\series\\indexing\n",
            "  copying pandas\\tests\\series\\indexing\\test_iloc.py -> build\\lib.win-amd64-cpython-39\\pandas\\tests\\series\\indexing\n",
            "  copying pandas\\tests\\series\\indexing\\test_indexing.py -> build\\lib.win-amd64-cpython-39\\pandas\\tests\\series\\indexing\n",
            "  copying pandas\\tests\\series\\indexing\\test_loc.py -> build\\lib.win-amd64-cpython-39\\pandas\\tests\\series\\indexing\n",
            "  copying pandas\\tests\\series\\indexing\\test_numeric.py -> build\\lib.win-amd64-cpython-39\\pandas\\tests\\series\\indexing\n",
            "  copying pandas\\tests\\series\\indexing\\__init__.py -> build\\lib.win-amd64-cpython-39\\pandas\\tests\\series\\indexing\n",
            "  creating build\\lib.win-amd64-cpython-39\\pandas\\tests\\sparse\\frame\n",
            "  copying pandas\\tests\\sparse\\frame\\conftest.py -> build\\lib.win-amd64-cpython-39\\pandas\\tests\\sparse\\frame\n",
            "  copying pandas\\tests\\sparse\\frame\\test_analytics.py -> build\\lib.win-amd64-cpython-39\\pandas\\tests\\sparse\\frame\n",
            "  copying pandas\\tests\\sparse\\frame\\test_apply.py -> build\\lib.win-amd64-cpython-39\\pandas\\tests\\sparse\\frame\n",
            "  copying pandas\\tests\\sparse\\frame\\test_frame.py -> build\\lib.win-amd64-cpython-39\\pandas\\tests\\sparse\\frame\n",
            "  copying pandas\\tests\\sparse\\frame\\test_indexing.py -> build\\lib.win-amd64-cpython-39\\pandas\\tests\\sparse\\frame\n",
            "  copying pandas\\tests\\sparse\\frame\\test_to_csv.py -> build\\lib.win-amd64-cpython-39\\pandas\\tests\\sparse\\frame\n",
            "  copying pandas\\tests\\sparse\\frame\\test_to_from_scipy.py -> build\\lib.win-amd64-cpython-39\\pandas\\tests\\sparse\\frame\n",
            "  copying pandas\\tests\\sparse\\frame\\__init__.py -> build\\lib.win-amd64-cpython-39\\pandas\\tests\\sparse\\frame\n",
            "  creating build\\lib.win-amd64-cpython-39\\pandas\\tests\\sparse\\series\n",
            "  copying pandas\\tests\\sparse\\series\\test_indexing.py -> build\\lib.win-amd64-cpython-39\\pandas\\tests\\sparse\\series\n",
            "  copying pandas\\tests\\sparse\\series\\test_series.py -> build\\lib.win-amd64-cpython-39\\pandas\\tests\\sparse\\series\n",
            "  copying pandas\\tests\\sparse\\series\\__init__.py -> build\\lib.win-amd64-cpython-39\\pandas\\tests\\sparse\\series\n",
            "  creating build\\lib.win-amd64-cpython-39\\pandas\\tests\\tseries\\offsets\n",
            "  copying pandas\\tests\\tseries\\offsets\\common.py -> build\\lib.win-amd64-cpython-39\\pandas\\tests\\tseries\\offsets\n",
            "  copying pandas\\tests\\tseries\\offsets\\conftest.py -> build\\lib.win-amd64-cpython-39\\pandas\\tests\\tseries\\offsets\n",
            "  copying pandas\\tests\\tseries\\offsets\\test_fiscal.py -> build\\lib.win-amd64-cpython-39\\pandas\\tests\\tseries\\offsets\n",
            "  copying pandas\\tests\\tseries\\offsets\\test_offsets.py -> build\\lib.win-amd64-cpython-39\\pandas\\tests\\tseries\\offsets\n",
            "  copying pandas\\tests\\tseries\\offsets\\test_offsets_properties.py -> build\\lib.win-amd64-cpython-39\\pandas\\tests\\tseries\\offsets\n",
            "  copying pandas\\tests\\tseries\\offsets\\test_ticks.py -> build\\lib.win-amd64-cpython-39\\pandas\\tests\\tseries\\offsets\n",
            "  copying pandas\\tests\\tseries\\offsets\\test_yqm_offsets.py -> build\\lib.win-amd64-cpython-39\\pandas\\tests\\tseries\\offsets\n",
            "  copying pandas\\tests\\tseries\\offsets\\__init__.py -> build\\lib.win-amd64-cpython-39\\pandas\\tests\\tseries\\offsets\n",
            "  creating build\\lib.win-amd64-cpython-39\\pandas\\_libs\\tslibs\n",
            "  copying pandas\\_libs\\tslibs\\__init__.py -> build\\lib.win-amd64-cpython-39\\pandas\\_libs\\tslibs\n",
            "  creating build\\lib.win-amd64-cpython-39\\pandas\\io\\formats\\templates\n",
            "  copying pandas\\io\\formats\\templates\\html.tpl -> build\\lib.win-amd64-cpython-39\\pandas\\io\\formats\\templates\n",
            "  UPDATING build\\lib.win-amd64-cpython-39\\pandas/_version.py\n",
            "  set build\\lib.win-amd64-cpython-39\\pandas/_version.py to '0.24.2'\n",
            "  running build_ext\n",
            "  building 'pandas._libs.algos' extension\n",
            "  creating build\\temp.win-amd64-cpython-39\n",
            "  creating build\\temp.win-amd64-cpython-39\\Release\n",
            "  creating build\\temp.win-amd64-cpython-39\\Release\\pandas\n",
            "  creating build\\temp.win-amd64-cpython-39\\Release\\pandas\\_libs\n",
            "  \"C:\\Program Files (x86)\\Microsoft Visual Studio\\2022\\BuildTools\\VC\\Tools\\MSVC\\14.33.31629\\bin\\HostX86\\x64\\cl.exe\" /c /nologo /O2 /W3 /GL /DNDEBUG /MD -I.\\pandas\\_libs -Ipandas/_libs/src/klib -Ipandas/_libs/src -Ic:\\Users\\jsbreite\\Anaconda3\\lib\\site-packages\\numpy\\core\\include -Ic:\\Users\\jsbreite\\Anaconda3\\include -Ic:\\Users\\jsbreite\\Anaconda3\\Include \"-IC:\\Program Files (x86)\\Microsoft Visual Studio\\2022\\BuildTools\\VC\\Tools\\MSVC\\14.33.31629\\include\" \"-IC:\\Program Files (x86)\\Microsoft Visual Studio\\2022\\BuildTools\\VC\\Auxiliary\\VS\\include\" \"-IC:\\Program Files (x86)\\Windows Kits\\10\\include\\10.0.19041.0\\ucrt\" \"-IC:\\Program Files (x86)\\Windows Kits\\10\\\\include\\10.0.19041.0\\\\um\" \"-IC:\\Program Files (x86)\\Windows Kits\\10\\\\include\\10.0.19041.0\\\\shared\" \"-IC:\\Program Files (x86)\\Windows Kits\\10\\\\include\\10.0.19041.0\\\\winrt\" \"-IC:\\Program Files (x86)\\Windows Kits\\10\\\\include\\10.0.19041.0\\\\cppwinrt\" \"-IC:\\Program Files (x86)\\Windows Kits\\NETFXSDK\\4.8\\include\\um\" /Tcpandas\\_libs/algos.c /Fobuild\\temp.win-amd64-cpython-39\\Release\\pandas\\_libs/algos.obj\n",
            "  algos.c\n",
            "  c:\\Users\\jsbreite\\Anaconda3\\lib\\site-packages\\numpy\\core\\include\\numpy\\npy_1_7_deprecated_api.h(14) : Warning Msg: Using deprecated NumPy API, disable it with #define NPY_NO_DEPRECATED_API NPY_1_7_API_VERSION\n",
            "  pandas/_libs/src/klib\\khash_python.h(75): warning C4244: '=': conversion from 'Py_hash_t' to 'khint_t', possible loss of data\n",
            "  pandas/_libs/src/klib\\khash_python.h(81): warning C4244: '=': conversion from 'Py_hash_t' to 'khint_t', possible loss of data\n",
            "  pandas\\_libs/algos.c(8958): warning C4244: '=': conversion from 'long' to 'char', possible loss of data\n",
            "  pandas\\_libs/algos.c(15134): warning C4244: '=': conversion from 'long' to 'char', possible loss of data\n",
            "  pandas\\_libs/algos.c(16064): warning C4244: '=': conversion from 'Py_ssize_t' to 'int', possible loss of data\n",
            "  pandas\\_libs/algos.c(16910): warning C4244: '=': conversion from 'Py_ssize_t' to 'int', possible loss of data\n",
            "  pandas\\_libs/algos.c(17753): warning C4244: '=': conversion from 'Py_ssize_t' to 'int', possible loss of data\n",
            "  pandas\\_libs/algos.c(18640): warning C4244: '=': conversion from 'Py_ssize_t' to 'int', possible loss of data\n",
            "  pandas\\_libs/algos.c(19486): warning C4244: '=': conversion from 'Py_ssize_t' to 'int', possible loss of data\n",
            "  pandas\\_libs/algos.c(20332): warning C4244: '=': conversion from 'Py_ssize_t' to 'int', possible loss of data\n",
            "  pandas\\_libs/algos.c(21178): warning C4244: '=': conversion from 'Py_ssize_t' to 'int', possible loss of data\n",
            "  pandas\\_libs/algos.c(22024): warning C4244: '=': conversion from 'Py_ssize_t' to 'int', possible loss of data\n",
            "  pandas\\_libs/algos.c(22870): warning C4244: '=': conversion from 'Py_ssize_t' to 'int', possible loss of data\n",
            "  pandas\\_libs/algos.c(23716): warning C4244: '=': conversion from 'Py_ssize_t' to 'int', possible loss of data\n",
            "  pandas\\_libs/algos.c(24562): warning C4244: '=': conversion from 'Py_ssize_t' to 'int', possible loss of data\n",
            "  pandas\\_libs/algos.c(25415): warning C4244: '=': conversion from 'long' to 'char', possible loss of data\n",
            "  pandas\\_libs/algos.c(26281): warning C4244: '=': conversion from 'Py_ssize_t' to 'int', possible loss of data\n",
            "  pandas\\_libs/algos.c(26754): warning C4244: '=': conversion from 'Py_ssize_t' to 'int', possible loss of data\n",
            "  pandas\\_libs/algos.c(27228): warning C4244: '=': conversion from 'Py_ssize_t' to 'int', possible loss of data\n",
            "  pandas\\_libs/algos.c(27712): warning C4244: '=': conversion from 'Py_ssize_t' to 'int', possible loss of data\n",
            "  pandas\\_libs/algos.c(28185): warning C4244: '=': conversion from 'Py_ssize_t' to 'int', possible loss of data\n",
            "  pandas\\_libs/algos.c(28658): warning C4244: '=': conversion from 'Py_ssize_t' to 'int', possible loss of data\n",
            "  pandas\\_libs/algos.c(29131): warning C4244: '=': conversion from 'Py_ssize_t' to 'int', possible loss of data\n",
            "  pandas\\_libs/algos.c(29604): warning C4244: '=': conversion from 'Py_ssize_t' to 'int', possible loss of data\n",
            "  pandas\\_libs/algos.c(30077): warning C4244: '=': conversion from 'Py_ssize_t' to 'int', possible loss of data\n",
            "  pandas\\_libs/algos.c(30550): warning C4244: '=': conversion from 'Py_ssize_t' to 'int', possible loss of data\n",
            "  pandas\\_libs/algos.c(31023): warning C4244: '=': conversion from 'Py_ssize_t' to 'int', possible loss of data\n",
            "  pandas\\_libs/algos.c(31567): warning C4244: '=': conversion from 'long' to 'char', possible loss of data\n",
            "  pandas\\_libs/algos.c(32495): warning C4244: '=': conversion from 'Py_ssize_t' to 'int', possible loss of data\n",
            "  pandas\\_libs/algos.c(33059): warning C4244: '=': conversion from 'Py_ssize_t' to 'int', possible loss of data\n",
            "  pandas\\_libs/algos.c(33624): warning C4244: '=': conversion from 'Py_ssize_t' to 'int', possible loss of data\n",
            "  pandas\\_libs/algos.c(34199): warning C4244: '=': conversion from 'Py_ssize_t' to 'int', possible loss of data\n",
            "  pandas\\_libs/algos.c(34763): warning C4244: '=': conversion from 'Py_ssize_t' to 'int', possible loss of data\n",
            "  pandas\\_libs/algos.c(35327): warning C4244: '=': conversion from 'Py_ssize_t' to 'int', possible loss of data\n",
            "  pandas\\_libs/algos.c(35891): warning C4244: '=': conversion from 'Py_ssize_t' to 'int', possible loss of data\n",
            "  pandas\\_libs/algos.c(36455): warning C4244: '=': conversion from 'Py_ssize_t' to 'int', possible loss of data\n",
            "  pandas\\_libs/algos.c(37019): warning C4244: '=': conversion from 'Py_ssize_t' to 'int', possible loss of data\n",
            "  pandas\\_libs/algos.c(37583): warning C4244: '=': conversion from 'Py_ssize_t' to 'int', possible loss of data\n",
            "  pandas\\_libs/algos.c(38147): warning C4244: '=': conversion from 'Py_ssize_t' to 'int', possible loss of data\n",
            "  pandas\\_libs/algos.c(38720): warning C4244: '=': conversion from 'long' to 'char', possible loss of data\n",
            "  pandas\\_libs/algos.c(39650): warning C4244: '=': conversion from 'Py_ssize_t' to 'int', possible loss of data\n",
            "  pandas\\_libs/algos.c(40513): warning C4244: '=': conversion from 'Py_ssize_t' to 'int', possible loss of data\n",
            "  pandas\\_libs/algos.c(41373): warning C4244: '=': conversion from 'Py_ssize_t' to 'int', possible loss of data\n",
            "  pandas\\_libs/algos.c(42282): warning C4244: '=': conversion from 'Py_ssize_t' to 'int', possible loss of data\n",
            "  pandas\\_libs/algos.c(43145): warning C4244: '=': conversion from 'Py_ssize_t' to 'int', possible loss of data\n",
            "  pandas\\_libs/algos.c(44008): warning C4244: '=': conversion from 'Py_ssize_t' to 'int', possible loss of data\n",
            "  pandas\\_libs/algos.c(44871): warning C4244: '=': conversion from 'Py_ssize_t' to 'int', possible loss of data\n",
            "  pandas\\_libs/algos.c(45734): warning C4244: '=': conversion from 'Py_ssize_t' to 'int', possible loss of data\n",
            "  pandas\\_libs/algos.c(46597): warning C4244: '=': conversion from 'Py_ssize_t' to 'int', possible loss of data\n",
            "  pandas\\_libs/algos.c(47460): warning C4244: '=': conversion from 'Py_ssize_t' to 'int', possible loss of data\n",
            "  pandas\\_libs/algos.c(48323): warning C4244: '=': conversion from 'Py_ssize_t' to 'int', possible loss of data\n",
            "  pandas\\_libs/algos.c(49193): warning C4244: '=': conversion from 'long' to 'char', possible loss of data\n",
            "  pandas\\_libs/algos.c(50057): warning C4244: '=': conversion from 'Py_ssize_t' to 'int', possible loss of data\n",
            "  pandas\\_libs/algos.c(50526): warning C4244: '=': conversion from 'Py_ssize_t' to 'int', possible loss of data\n",
            "  pandas\\_libs/algos.c(50996): warning C4244: '=': conversion from 'Py_ssize_t' to 'int', possible loss of data\n",
            "  pandas\\_libs/algos.c(51476): warning C4244: '=': conversion from 'Py_ssize_t' to 'int', possible loss of data\n",
            "  pandas\\_libs/algos.c(51945): warning C4244: '=': conversion from 'Py_ssize_t' to 'int', possible loss of data\n",
            "  pandas\\_libs/algos.c(52414): warning C4244: '=': conversion from 'Py_ssize_t' to 'int', possible loss of data\n",
            "  pandas\\_libs/algos.c(52883): warning C4244: '=': conversion from 'Py_ssize_t' to 'int', possible loss of data\n",
            "  pandas\\_libs/algos.c(53352): warning C4244: '=': conversion from 'Py_ssize_t' to 'int', possible loss of data\n",
            "  pandas\\_libs/algos.c(53821): warning C4244: '=': conversion from 'Py_ssize_t' to 'int', possible loss of data\n",
            "  pandas\\_libs/algos.c(54290): warning C4244: '=': conversion from 'Py_ssize_t' to 'int', possible loss of data\n",
            "  pandas\\_libs/algos.c(54759): warning C4244: '=': conversion from 'Py_ssize_t' to 'int', possible loss of data\n",
            "  pandas\\_libs/algos.c(55301): warning C4244: '=': conversion from 'long' to 'char', possible loss of data\n",
            "  pandas\\_libs/algos.c(56227): warning C4244: '=': conversion from 'Py_ssize_t' to 'int', possible loss of data\n",
            "  pandas\\_libs/algos.c(56787): warning C4244: '=': conversion from 'Py_ssize_t' to 'int', possible loss of data\n",
            "  pandas\\_libs/algos.c(57348): warning C4244: '=': conversion from 'Py_ssize_t' to 'int', possible loss of data\n",
            "  pandas\\_libs/algos.c(57919): warning C4244: '=': conversion from 'Py_ssize_t' to 'int', possible loss of data\n",
            "  pandas\\_libs/algos.c(58479): warning C4244: '=': conversion from 'Py_ssize_t' to 'int', possible loss of data\n",
            "  pandas\\_libs/algos.c(59039): warning C4244: '=': conversion from 'Py_ssize_t' to 'int', possible loss of data\n",
            "  pandas\\_libs/algos.c(59599): warning C4244: '=': conversion from 'Py_ssize_t' to 'int', possible loss of data\n",
            "  pandas\\_libs/algos.c(60159): warning C4244: '=': conversion from 'Py_ssize_t' to 'int', possible loss of data\n",
            "  pandas\\_libs/algos.c(60719): warning C4244: '=': conversion from 'Py_ssize_t' to 'int', possible loss of data\n",
            "  pandas\\_libs/algos.c(61279): warning C4244: '=': conversion from 'Py_ssize_t' to 'int', possible loss of data\n",
            "  pandas\\_libs/algos.c(61839): warning C4244: '=': conversion from 'Py_ssize_t' to 'int', possible loss of data\n",
            "  pandas\\_libs/algos.c(62409): warning C4244: '=': conversion from 'long' to 'char', possible loss of data\n",
            "  pandas\\_libs/algos.c(66745): warning C4244: '=': conversion from 'long' to 'char', possible loss of data\n",
            "  pandas\\_libs/algos.c(76680): warning C4244: '=': conversion from 'int' to '__pyx_t_5numpy_float32_t', possible loss of data\n",
            "  pandas\\_libs/algos.c(76779): warning C4244: '=': conversion from 'int' to '__pyx_t_5numpy_float32_t', possible loss of data\n",
            "  pandas\\_libs/algos.c(76890): warning C4244: '=': conversion from 'int' to '__pyx_t_5numpy_float32_t', possible loss of data\n",
            "  pandas\\_libs/algos.c(76989): warning C4244: '=': conversion from 'int' to '__pyx_t_5numpy_float32_t', possible loss of data\n",
            "  pandas\\_libs/algos.c(77359): warning C4244: '=': conversion from 'int' to '__pyx_t_5numpy_float32_t', possible loss of data\n",
            "  pandas\\_libs/algos.c(77458): warning C4244: '=': conversion from 'int' to '__pyx_t_5numpy_float32_t', possible loss of data\n",
            "  pandas\\_libs/algos.c(77569): warning C4244: '=': conversion from 'int' to '__pyx_t_5numpy_float32_t', possible loss of data\n",
            "  pandas\\_libs/algos.c(77668): warning C4244: '=': conversion from 'int' to '__pyx_t_5numpy_float32_t', possible loss of data\n",
            "  pandas\\_libs/algos.c(78717): warning C4244: '=': conversion from '__pyx_t_5numpy_int64_t' to '__pyx_t_5numpy_float64_t', possible loss of data\n",
            "  pandas\\_libs/algos.c(78816): warning C4244: '=': conversion from '__pyx_t_5numpy_int64_t' to '__pyx_t_5numpy_float64_t', possible loss of data\n",
            "  pandas\\_libs/algos.c(78927): warning C4244: '=': conversion from '__pyx_t_5numpy_int64_t' to '__pyx_t_5numpy_float64_t', possible loss of data\n",
            "  pandas\\_libs/algos.c(79026): warning C4244: '=': conversion from '__pyx_t_5numpy_int64_t' to '__pyx_t_5numpy_float64_t', possible loss of data\n",
            "  pandas\\_libs/algos.c(82931): warning C4244: '=': conversion from 'Py_ssize_t' to '__pyx_t_5numpy_float64_t', possible loss of data\n",
            "  pandas\\_libs/algos.c(82965): warning C4244: '=': conversion from 'Py_ssize_t' to '__pyx_t_5numpy_float64_t', possible loss of data\n",
            "  pandas\\_libs/algos.c(83022): warning C4244: '=': conversion from 'Py_ssize_t' to '__pyx_t_5numpy_float64_t', possible loss of data\n",
            "  pandas\\_libs/algos.c(83065): warning C4244: '=': conversion from 'Py_ssize_t' to '__pyx_t_5numpy_float64_t', possible loss of data\n",
            "  pandas\\_libs/algos.c(84815): warning C4244: '=': conversion from 'Py_ssize_t' to '__pyx_t_5numpy_float64_t', possible loss of data\n",
            "  pandas\\_libs/algos.c(84877): warning C4244: '=': conversion from 'Py_ssize_t' to '__pyx_t_5numpy_float64_t', possible loss of data\n",
            "  pandas\\_libs/algos.c(84962): warning C4244: '=': conversion from 'Py_ssize_t' to '__pyx_t_5numpy_float64_t', possible loss of data\n",
            "  pandas\\_libs/algos.c(85033): warning C4244: '=': conversion from 'Py_ssize_t' to '__pyx_t_5numpy_float64_t', possible loss of data\n",
            "  pandas\\_libs/algos.c(86461): warning C4244: '=': conversion from 'Py_ssize_t' to '__pyx_t_5numpy_float64_t', possible loss of data\n",
            "  pandas\\_libs/algos.c(86495): warning C4244: '=': conversion from 'Py_ssize_t' to '__pyx_t_5numpy_float64_t', possible loss of data\n",
            "  pandas\\_libs/algos.c(86529): warning C4244: '=': conversion from 'Py_ssize_t' to '__pyx_t_5numpy_float64_t', possible loss of data\n",
            "  pandas\\_libs/algos.c(86563): warning C4244: '=': conversion from 'Py_ssize_t' to '__pyx_t_5numpy_float64_t', possible loss of data\n",
            "  pandas\\_libs/algos.c(86606): warning C4244: '=': conversion from 'Py_ssize_t' to '__pyx_t_5numpy_float64_t', possible loss of data\n",
            "  pandas\\_libs/algos.c(88125): warning C4244: '=': conversion from 'Py_ssize_t' to '__pyx_t_5numpy_float64_t', possible loss of data\n",
            "  pandas\\_libs/algos.c(88187): warning C4244: '=': conversion from 'Py_ssize_t' to '__pyx_t_5numpy_float64_t', possible loss of data\n",
            "  pandas\\_libs/algos.c(88249): warning C4244: '=': conversion from 'Py_ssize_t' to '__pyx_t_5numpy_float64_t', possible loss of data\n",
            "  pandas\\_libs/algos.c(88311): warning C4244: '=': conversion from 'Py_ssize_t' to '__pyx_t_5numpy_float64_t', possible loss of data\n",
            "  pandas\\_libs/algos.c(88382): warning C4244: '=': conversion from 'Py_ssize_t' to '__pyx_t_5numpy_float64_t', possible loss of data\n",
            "  pandas\\_libs/algos.c(89576): warning C4244: '=': conversion from 'Py_ssize_t' to '__pyx_t_5numpy_float64_t', possible loss of data\n",
            "  pandas\\_libs/algos.c(89610): warning C4244: '=': conversion from 'Py_ssize_t' to '__pyx_t_5numpy_float64_t', possible loss of data\n",
            "  pandas\\_libs/algos.c(89644): warning C4244: '=': conversion from 'Py_ssize_t' to '__pyx_t_5numpy_float64_t', possible loss of data\n",
            "  pandas\\_libs/algos.c(89678): warning C4244: '=': conversion from 'Py_ssize_t' to '__pyx_t_5numpy_float64_t', possible loss of data\n",
            "  pandas\\_libs/algos.c(89721): warning C4244: '=': conversion from 'Py_ssize_t' to '__pyx_t_5numpy_float64_t', possible loss of data\n",
            "  pandas\\_libs/algos.c(91001): warning C4244: '=': conversion from 'Py_ssize_t' to '__pyx_t_5numpy_float64_t', possible loss of data\n",
            "  pandas\\_libs/algos.c(91063): warning C4244: '=': conversion from 'Py_ssize_t' to '__pyx_t_5numpy_float64_t', possible loss of data\n",
            "  pandas\\_libs/algos.c(91125): warning C4244: '=': conversion from 'Py_ssize_t' to '__pyx_t_5numpy_float64_t', possible loss of data\n",
            "  pandas\\_libs/algos.c(91187): warning C4244: '=': conversion from 'Py_ssize_t' to '__pyx_t_5numpy_float64_t', possible loss of data\n",
            "  pandas\\_libs/algos.c(91258): warning C4244: '=': conversion from 'Py_ssize_t' to '__pyx_t_5numpy_float64_t', possible loss of data\n",
            "  pandas\\_libs/algos.c(92773): warning C4244: '=': conversion from 'Py_ssize_t' to '__pyx_t_5numpy_float64_t', possible loss of data\n",
            "  pandas\\_libs/algos.c(92807): warning C4244: '=': conversion from 'Py_ssize_t' to '__pyx_t_5numpy_float64_t', possible loss of data\n",
            "  pandas\\_libs/algos.c(92841): warning C4244: '=': conversion from 'Py_ssize_t' to '__pyx_t_5numpy_float64_t', possible loss of data\n",
            "  pandas\\_libs/algos.c(92875): warning C4244: '=': conversion from 'Py_ssize_t' to '__pyx_t_5numpy_float64_t', possible loss of data\n",
            "  pandas\\_libs/algos.c(92918): warning C4244: '=': conversion from 'Py_ssize_t' to '__pyx_t_5numpy_float64_t', possible loss of data\n",
            "  pandas\\_libs/algos.c(94465): warning C4244: '=': conversion from 'Py_ssize_t' to '__pyx_t_5numpy_float64_t', possible loss of data\n",
            "  pandas\\_libs/algos.c(94527): warning C4244: '=': conversion from 'Py_ssize_t' to '__pyx_t_5numpy_float64_t', possible loss of data\n",
            "  pandas\\_libs/algos.c(94589): warning C4244: '=': conversion from 'Py_ssize_t' to '__pyx_t_5numpy_float64_t', possible loss of data\n",
            "  pandas\\_libs/algos.c(94651): warning C4244: '=': conversion from 'Py_ssize_t' to '__pyx_t_5numpy_float64_t', possible loss of data\n",
            "  pandas\\_libs/algos.c(94722): warning C4244: '=': conversion from 'Py_ssize_t' to '__pyx_t_5numpy_float64_t', possible loss of data\n",
            "  pandas\\_libs/algos.c(126690): warning C4244: '=': conversion from '__pyx_t_5numpy_int64_t' to '__pyx_t_5numpy_float64_t', possible loss of data\n",
            "  pandas\\_libs/algos.c(127030): warning C4244: '=': conversion from '__pyx_t_5numpy_int64_t' to '__pyx_t_5numpy_float64_t', possible loss of data\n",
            "  pandas\\_libs/algos.c(127249): warning C4244: '=': conversion from '__pyx_t_5numpy_int64_t' to '__pyx_t_5numpy_float64_t', possible loss of data\n",
            "  pandas\\_libs/algos.c(127617): warning C4244: '=': conversion from '__pyx_t_5numpy_int64_t' to '__pyx_t_5numpy_float64_t', possible loss of data\n",
            "  pandas\\_libs/algos.c(127846): warning C4244: '=': conversion from '__pyx_t_5numpy_int64_t' to '__pyx_t_5numpy_float64_t', possible loss of data\n",
            "  pandas\\_libs/algos.c(128241): warning C4244: '=': conversion from '__pyx_t_5numpy_int64_t' to '__pyx_t_5numpy_float64_t', possible loss of data\n",
            "  pandas\\_libs/algos.c(128654): warning C4244: '=': conversion from '__pyx_t_5numpy_int64_t' to '__pyx_t_5numpy_float64_t', possible loss of data\n",
            "  \"C:\\Program Files (x86)\\Microsoft Visual Studio\\2022\\BuildTools\\VC\\Tools\\MSVC\\14.33.31629\\bin\\HostX86\\x64\\link.exe\" /nologo /INCREMENTAL:NO /LTCG /DLL /MANIFEST:EMBED,ID=2 /MANIFESTUAC:NO /LIBPATH:c:\\Users\\jsbreite\\Anaconda3\\libs /LIBPATH:c:\\Users\\jsbreite\\Anaconda3 /LIBPATH:c:\\Users\\jsbreite\\Anaconda3\\PCbuild\\amd64 \"/LIBPATH:C:\\Program Files (x86)\\Microsoft Visual Studio\\2022\\BuildTools\\VC\\Tools\\MSVC\\14.33.31629\\lib\\x64\" \"/LIBPATH:C:\\Program Files (x86)\\Windows Kits\\NETFXSDK\\4.8\\lib\\um\\x64\" \"/LIBPATH:C:\\Program Files (x86)\\Windows Kits\\10\\lib\\10.0.19041.0\\ucrt\\x64\" \"/LIBPATH:C:\\Program Files (x86)\\Windows Kits\\10\\\\lib\\10.0.19041.0\\\\um\\x64\" /EXPORT:PyInit_algos build\\temp.win-amd64-cpython-39\\Release\\pandas\\_libs/algos.obj /OUT:build\\lib.win-amd64-cpython-39\\pandas\\_libs\\algos.cp39-win_amd64.pyd /IMPLIB:build\\temp.win-amd64-cpython-39\\Release\\pandas\\_libs\\algos.cp39-win_amd64.lib\n",
            "     Creating library build\\temp.win-amd64-cpython-39\\Release\\pandas\\_libs\\algos.cp39-win_amd64.lib and object build\\temp.win-amd64-cpython-39\\Release\\pandas\\_libs\\algos.cp39-win_amd64.exp\n",
            "  Generating code\n",
            "  Finished generating code\n",
            "  building 'pandas._libs.groupby' extension\n",
            "  \"C:\\Program Files (x86)\\Microsoft Visual Studio\\2022\\BuildTools\\VC\\Tools\\MSVC\\14.33.31629\\bin\\HostX86\\x64\\cl.exe\" /c /nologo /O2 /W3 /GL /DNDEBUG /MD -I.\\pandas\\_libs -Ipandas/_libs/src/klib -Ipandas/_libs/src -Ic:\\Users\\jsbreite\\Anaconda3\\lib\\site-packages\\numpy\\core\\include -Ic:\\Users\\jsbreite\\Anaconda3\\include -Ic:\\Users\\jsbreite\\Anaconda3\\Include \"-IC:\\Program Files (x86)\\Microsoft Visual Studio\\2022\\BuildTools\\VC\\Tools\\MSVC\\14.33.31629\\include\" \"-IC:\\Program Files (x86)\\Microsoft Visual Studio\\2022\\BuildTools\\VC\\Auxiliary\\VS\\include\" \"-IC:\\Program Files (x86)\\Windows Kits\\10\\include\\10.0.19041.0\\ucrt\" \"-IC:\\Program Files (x86)\\Windows Kits\\10\\\\include\\10.0.19041.0\\\\um\" \"-IC:\\Program Files (x86)\\Windows Kits\\10\\\\include\\10.0.19041.0\\\\shared\" \"-IC:\\Program Files (x86)\\Windows Kits\\10\\\\include\\10.0.19041.0\\\\winrt\" \"-IC:\\Program Files (x86)\\Windows Kits\\10\\\\include\\10.0.19041.0\\\\cppwinrt\" \"-IC:\\Program Files (x86)\\Windows Kits\\NETFXSDK\\4.8\\include\\um\" /Tcpandas\\_libs/groupby.c /Fobuild\\temp.win-amd64-cpython-39\\Release\\pandas\\_libs/groupby.obj\n",
            "  groupby.c\n",
            "  c:\\Users\\jsbreite\\Anaconda3\\lib\\site-packages\\numpy\\core\\include\\numpy\\npy_1_7_deprecated_api.h(14) : Warning Msg: Using deprecated NumPy API, disable it with #define NPY_NO_DEPRECATED_API NPY_1_7_API_VERSION\n",
            "  pandas\\_libs/groupby.c(4816): warning C4244: 'function': conversion from 'Py_ssize_t' to 'int', possible loss of data\n",
            "  pandas\\_libs/groupby.c(5704): warning C4244: '=': conversion from 'long' to 'char', possible loss of data\n",
            "  pandas\\_libs/groupby.c(10286): warning C4244: '=': conversion from '__pyx_t_5numpy_float64_t' to '__pyx_t_5numpy_float32_t', possible loss of data\n",
            "  pandas\\_libs/groupby.c(10307): warning C4244: '=': conversion from '__pyx_t_5numpy_float64_t' to '__pyx_t_5numpy_float32_t', possible loss of data\n",
            "  pandas\\_libs/groupby.c(11148): warning C4244: '=': conversion from 'Py_ssize_t' to 'int', possible loss of data\n",
            "  pandas\\_libs/groupby.c(16770): warning C4244: '=': conversion from 'npy_double' to '__pyx_t_5numpy_float32_t', possible loss of data\n",
            "  pandas\\_libs/groupby.c(17474): warning C4244: '=': conversion from 'npy_double' to '__pyx_t_5numpy_float32_t', possible loss of data\n",
            "  pandas\\_libs/groupby.c(18239): warning C4244: '=': conversion from 'npy_double' to '__pyx_t_5numpy_float32_t', possible loss of data\n",
            "  pandas\\_libs/groupby.c(18261): warning C4244: '/=': conversion from 'double' to '__pyx_t_5numpy_float32_t', possible loss of data\n",
            "  pandas\\_libs/groupby.c(18967): warning C4244: '=': conversion from 'npy_double' to '__pyx_t_5numpy_float32_t', possible loss of data\n",
            "  pandas\\_libs/groupby.c(22370): warning C4244: '=': conversion from 'Py_ssize_t' to '__pyx_t_5numpy_float64_t', possible loss of data\n",
            "  pandas\\_libs/groupby.c(22415): warning C4244: '=': conversion from 'Py_ssize_t' to '__pyx_t_5numpy_float64_t', possible loss of data\n",
            "  pandas\\_libs/groupby.c(22470): warning C4244: '=': conversion from 'Py_ssize_t' to '__pyx_t_5numpy_float64_t', possible loss of data\n",
            "  pandas\\_libs/groupby.c(22493): warning C4244: '=': conversion from 'Py_ssize_t' to '__pyx_t_5numpy_float64_t', possible loss of data\n",
            "  pandas\\_libs/groupby.c(22540): warning C4244: '=': conversion from 'Py_ssize_t' to '__pyx_t_5numpy_float64_t', possible loss of data\n",
            "  pandas\\_libs/groupby.c(22700): warning C4244: '=': conversion from 'Py_ssize_t' to '__pyx_t_5numpy_float64_t', possible loss of data\n",
            "  pandas\\_libs/groupby.c(22736): warning C4244: '=': conversion from 'Py_ssize_t' to '__pyx_t_5numpy_float64_t', possible loss of data\n",
            "  pandas\\_libs/groupby.c(23652): warning C4244: '=': conversion from 'npy_double' to '__pyx_t_5numpy_float32_t', possible loss of data\n",
            "  pandas\\_libs/groupby.c(24422): warning C4244: '=': conversion from 'npy_double' to '__pyx_t_5numpy_float32_t', possible loss of data\n",
            "  pandas\\_libs/groupby.c(25634): warning C4244: '=': conversion from 'Py_ssize_t' to '__pyx_t_5numpy_float64_t', possible loss of data\n",
            "  pandas\\_libs/groupby.c(25679): warning C4244: '=': conversion from 'Py_ssize_t' to '__pyx_t_5numpy_float64_t', possible loss of data\n",
            "  pandas\\_libs/groupby.c(25734): warning C4244: '=': conversion from 'Py_ssize_t' to '__pyx_t_5numpy_float64_t', possible loss of data\n",
            "  pandas\\_libs/groupby.c(25757): warning C4244: '=': conversion from 'Py_ssize_t' to '__pyx_t_5numpy_float64_t', possible loss of data\n",
            "  pandas\\_libs/groupby.c(25804): warning C4244: '=': conversion from 'Py_ssize_t' to '__pyx_t_5numpy_float64_t', possible loss of data\n",
            "  pandas\\_libs/groupby.c(25964): warning C4244: '=': conversion from 'Py_ssize_t' to '__pyx_t_5numpy_float64_t', possible loss of data\n",
            "  pandas\\_libs/groupby.c(26000): warning C4244: '=': conversion from 'Py_ssize_t' to '__pyx_t_5numpy_float64_t', possible loss of data\n",
            "  pandas\\_libs/groupby.c(28926): warning C4244: '=': conversion from 'Py_ssize_t' to '__pyx_t_5numpy_float64_t', possible loss of data\n",
            "  pandas\\_libs/groupby.c(28971): warning C4244: '=': conversion from 'Py_ssize_t' to '__pyx_t_5numpy_float64_t', possible loss of data\n",
            "  pandas\\_libs/groupby.c(29026): warning C4244: '=': conversion from 'Py_ssize_t' to '__pyx_t_5numpy_float64_t', possible loss of data\n",
            "  pandas\\_libs/groupby.c(29049): warning C4244: '=': conversion from 'Py_ssize_t' to '__pyx_t_5numpy_float64_t', possible loss of data\n",
            "  pandas\\_libs/groupby.c(29096): warning C4244: '=': conversion from 'Py_ssize_t' to '__pyx_t_5numpy_float64_t', possible loss of data\n",
            "  pandas\\_libs/groupby.c(29256): warning C4244: '=': conversion from 'Py_ssize_t' to '__pyx_t_5numpy_float64_t', possible loss of data\n",
            "  pandas\\_libs/groupby.c(29292): warning C4244: '=': conversion from 'Py_ssize_t' to '__pyx_t_5numpy_float64_t', possible loss of data\n",
            "  pandas\\_libs/groupby.c(31353): warning C4244: '=': conversion from 'long' to 'char', possible loss of data\n",
            "  pandas\\_libs/groupby.c(32893): warning C4244: '=': conversion from 'npy_double' to '__pyx_t_5numpy_float32_t', possible loss of data\n",
            "  pandas\\_libs/groupby.c(34360): warning C4244: '=': conversion from 'long' to 'char', possible loss of data\n",
            "  pandas\\_libs/groupby.c(35894): warning C4244: '=': conversion from 'npy_double' to '__pyx_t_5numpy_float32_t', possible loss of data\n",
            "  pandas\\_libs/groupby.c(37358): warning C4244: '=': conversion from 'long' to 'char', possible loss of data\n",
            "  pandas\\_libs/groupby.c(39522): warning C4244: '=': conversion from 'long' to 'char', possible loss of data\n",
            "  \"C:\\Program Files (x86)\\Microsoft Visual Studio\\2022\\BuildTools\\VC\\Tools\\MSVC\\14.33.31629\\bin\\HostX86\\x64\\link.exe\" /nologo /INCREMENTAL:NO /LTCG /DLL /MANIFEST:EMBED,ID=2 /MANIFESTUAC:NO /LIBPATH:c:\\Users\\jsbreite\\Anaconda3\\libs /LIBPATH:c:\\Users\\jsbreite\\Anaconda3 /LIBPATH:c:\\Users\\jsbreite\\Anaconda3\\PCbuild\\amd64 \"/LIBPATH:C:\\Program Files (x86)\\Microsoft Visual Studio\\2022\\BuildTools\\VC\\Tools\\MSVC\\14.33.31629\\lib\\x64\" \"/LIBPATH:C:\\Program Files (x86)\\Windows Kits\\NETFXSDK\\4.8\\lib\\um\\x64\" \"/LIBPATH:C:\\Program Files (x86)\\Windows Kits\\10\\lib\\10.0.19041.0\\ucrt\\x64\" \"/LIBPATH:C:\\Program Files (x86)\\Windows Kits\\10\\\\lib\\10.0.19041.0\\\\um\\x64\" /EXPORT:PyInit_groupby build\\temp.win-amd64-cpython-39\\Release\\pandas\\_libs/groupby.obj /OUT:build\\lib.win-amd64-cpython-39\\pandas\\_libs\\groupby.cp39-win_amd64.pyd /IMPLIB:build\\temp.win-amd64-cpython-39\\Release\\pandas\\_libs\\groupby.cp39-win_amd64.lib\n",
            "     Creating library build\\temp.win-amd64-cpython-39\\Release\\pandas\\_libs\\groupby.cp39-win_amd64.lib and object build\\temp.win-amd64-cpython-39\\Release\\pandas\\_libs\\groupby.cp39-win_amd64.exp\n",
            "  Generating code\n",
            "  Finished generating code\n",
            "  building 'pandas._libs.hashing' extension\n",
            "  \"C:\\Program Files (x86)\\Microsoft Visual Studio\\2022\\BuildTools\\VC\\Tools\\MSVC\\14.33.31629\\bin\\HostX86\\x64\\cl.exe\" /c /nologo /O2 /W3 /GL /DNDEBUG /MD -I.\\pandas\\_libs -Ic:\\Users\\jsbreite\\Anaconda3\\lib\\site-packages\\numpy\\core\\include -Ic:\\Users\\jsbreite\\Anaconda3\\include -Ic:\\Users\\jsbreite\\Anaconda3\\Include \"-IC:\\Program Files (x86)\\Microsoft Visual Studio\\2022\\BuildTools\\VC\\Tools\\MSVC\\14.33.31629\\include\" \"-IC:\\Program Files (x86)\\Microsoft Visual Studio\\2022\\BuildTools\\VC\\Auxiliary\\VS\\include\" \"-IC:\\Program Files (x86)\\Windows Kits\\10\\include\\10.0.19041.0\\ucrt\" \"-IC:\\Program Files (x86)\\Windows Kits\\10\\\\include\\10.0.19041.0\\\\um\" \"-IC:\\Program Files (x86)\\Windows Kits\\10\\\\include\\10.0.19041.0\\\\shared\" \"-IC:\\Program Files (x86)\\Windows Kits\\10\\\\include\\10.0.19041.0\\\\winrt\" \"-IC:\\Program Files (x86)\\Windows Kits\\10\\\\include\\10.0.19041.0\\\\cppwinrt\" \"-IC:\\Program Files (x86)\\Windows Kits\\NETFXSDK\\4.8\\include\\um\" /Tcpandas\\_libs/hashing.c /Fobuild\\temp.win-amd64-cpython-39\\Release\\pandas\\_libs/hashing.obj\n",
            "  hashing.c\n",
            "  c:\\Users\\jsbreite\\Anaconda3\\lib\\site-packages\\numpy\\core\\include\\numpy\\npy_1_7_deprecated_api.h(14) : Warning Msg: Using deprecated NumPy API, disable it with #define NPY_NO_DEPRECATED_API NPY_1_7_API_VERSION\n",
            "  \"C:\\Program Files (x86)\\Microsoft Visual Studio\\2022\\BuildTools\\VC\\Tools\\MSVC\\14.33.31629\\bin\\HostX86\\x64\\link.exe\" /nologo /INCREMENTAL:NO /LTCG /DLL /MANIFEST:EMBED,ID=2 /MANIFESTUAC:NO /LIBPATH:c:\\Users\\jsbreite\\Anaconda3\\libs /LIBPATH:c:\\Users\\jsbreite\\Anaconda3 /LIBPATH:c:\\Users\\jsbreite\\Anaconda3\\PCbuild\\amd64 \"/LIBPATH:C:\\Program Files (x86)\\Microsoft Visual Studio\\2022\\BuildTools\\VC\\Tools\\MSVC\\14.33.31629\\lib\\x64\" \"/LIBPATH:C:\\Program Files (x86)\\Windows Kits\\NETFXSDK\\4.8\\lib\\um\\x64\" \"/LIBPATH:C:\\Program Files (x86)\\Windows Kits\\10\\lib\\10.0.19041.0\\ucrt\\x64\" \"/LIBPATH:C:\\Program Files (x86)\\Windows Kits\\10\\\\lib\\10.0.19041.0\\\\um\\x64\" /EXPORT:PyInit_hashing build\\temp.win-amd64-cpython-39\\Release\\pandas\\_libs/hashing.obj /OUT:build\\lib.win-amd64-cpython-39\\pandas\\_libs\\hashing.cp39-win_amd64.pyd /IMPLIB:build\\temp.win-amd64-cpython-39\\Release\\pandas\\_libs\\hashing.cp39-win_amd64.lib\n",
            "     Creating library build\\temp.win-amd64-cpython-39\\Release\\pandas\\_libs\\hashing.cp39-win_amd64.lib and object build\\temp.win-amd64-cpython-39\\Release\\pandas\\_libs\\hashing.cp39-win_amd64.exp\n",
            "  Generating code\n",
            "  Finished generating code\n",
            "  building 'pandas._libs.hashtable' extension\n",
            "  \"C:\\Program Files (x86)\\Microsoft Visual Studio\\2022\\BuildTools\\VC\\Tools\\MSVC\\14.33.31629\\bin\\HostX86\\x64\\cl.exe\" /c /nologo /O2 /W3 /GL /DNDEBUG /MD -I.\\pandas\\_libs -Ipandas/_libs/src/klib -Ipandas/_libs/src -Ic:\\Users\\jsbreite\\Anaconda3\\lib\\site-packages\\numpy\\core\\include -Ic:\\Users\\jsbreite\\Anaconda3\\include -Ic:\\Users\\jsbreite\\Anaconda3\\Include \"-IC:\\Program Files (x86)\\Microsoft Visual Studio\\2022\\BuildTools\\VC\\Tools\\MSVC\\14.33.31629\\include\" \"-IC:\\Program Files (x86)\\Microsoft Visual Studio\\2022\\BuildTools\\VC\\Auxiliary\\VS\\include\" \"-IC:\\Program Files (x86)\\Windows Kits\\10\\include\\10.0.19041.0\\ucrt\" \"-IC:\\Program Files (x86)\\Windows Kits\\10\\\\include\\10.0.19041.0\\\\um\" \"-IC:\\Program Files (x86)\\Windows Kits\\10\\\\include\\10.0.19041.0\\\\shared\" \"-IC:\\Program Files (x86)\\Windows Kits\\10\\\\include\\10.0.19041.0\\\\winrt\" \"-IC:\\Program Files (x86)\\Windows Kits\\10\\\\include\\10.0.19041.0\\\\cppwinrt\" \"-IC:\\Program Files (x86)\\Windows Kits\\NETFXSDK\\4.8\\include\\um\" /Tcpandas\\_libs/hashtable.c /Fobuild\\temp.win-amd64-cpython-39\\Release\\pandas\\_libs/hashtable.obj\n",
            "  hashtable.c\n",
            "  c:\\Users\\jsbreite\\Anaconda3\\lib\\site-packages\\numpy\\core\\include\\numpy\\npy_1_7_deprecated_api.h(14) : Warning Msg: Using deprecated NumPy API, disable it with #define NPY_NO_DEPRECATED_API NPY_1_7_API_VERSION\n",
            "  pandas/_libs/src/klib\\khash_python.h(75): warning C4244: '=': conversion from 'Py_hash_t' to 'khint_t', possible loss of data\n",
            "  pandas/_libs/src/klib\\khash_python.h(81): warning C4244: '=': conversion from 'Py_hash_t' to 'khint_t', possible loss of data\n",
            "  pandas\\_libs/hashtable.c(4209): warning C4018: '>': signed/unsigned mismatch\n",
            "  pandas\\_libs/hashtable.c(5135): warning C4018: '>': signed/unsigned mismatch\n",
            "  pandas\\_libs/hashtable.c(6978): warning C4018: '>': signed/unsigned mismatch\n",
            "  pandas\\_libs/hashtable.c(7913): warning C4018: '>': signed/unsigned mismatch\n",
            "  pandas\\_libs/hashtable.c(8808): warning C4244: 'function': conversion from '__pyx_t_5numpy_int64_t' to 'khint_t', possible loss of data\n",
            "  pandas\\_libs/hashtable.c(12656): warning C4244: 'function': conversion from '__pyx_t_5numpy_int64_t' to 'khint_t', possible loss of data\n",
            "  pandas\\_libs/hashtable.c(16457): warning C4244: 'function': conversion from '__pyx_t_5numpy_int64_t' to 'khint_t', possible loss of data\n",
            "  pandas\\_libs/hashtable.c(20298): warning C4244: 'function': conversion from '__pyx_t_5numpy_int64_t' to 'khint_t', possible loss of data\n",
            "  pandas\\_libs/hashtable.c(21623): warning C4090: '=': different 'const' qualifiers\n",
            "  pandas\\_libs/hashtable.c(24064): warning C4244: 'function': conversion from '__pyx_t_5numpy_int64_t' to 'khint_t', possible loss of data\n",
            "  pandas\\_libs/hashtable.c(27054): warning C4244: 'function': conversion from 'Py_ssize_t' to 'khint_t', possible loss of data\n",
            "  pandas\\_libs/hashtable.c(28418): warning C4018: '<': signed/unsigned mismatch\n",
            "  pandas\\_libs/hashtable.c(28423): warning C4244: 'function': conversion from 'Py_ssize_t' to 'khint_t', possible loss of data\n",
            "  pandas\\_libs/hashtable.c(28771): warning C4244: 'function': conversion from 'Py_ssize_t' to 'khint_t', possible loss of data\n",
            "  pandas\\_libs/hashtable.c(30108): warning C4018: '<': signed/unsigned mismatch\n",
            "  pandas\\_libs/hashtable.c(30113): warning C4244: 'function': conversion from 'Py_ssize_t' to 'khint_t', possible loss of data\n",
            "  pandas\\_libs/hashtable.c(30461): warning C4244: 'function': conversion from 'Py_ssize_t' to 'khint_t', possible loss of data\n",
            "  pandas\\_libs/hashtable.c(31733): warning C4244: 'function': conversion from 'Py_ssize_t' to 'khint_t', possible loss of data\n",
            "  pandas\\_libs/hashtable.c(32020): warning C4244: 'function': conversion from 'Py_ssize_t' to 'khint_t', possible loss of data\n",
            "  pandas\\_libs/hashtable.c(33355): warning C4018: '<': signed/unsigned mismatch\n",
            "  pandas\\_libs/hashtable.c(33360): warning C4244: 'function': conversion from 'Py_ssize_t' to 'khint_t', possible loss of data\n",
            "  pandas\\_libs/hashtable.c(33888): warning C4267: '=': conversion from 'size_t' to 'int', possible loss of data\n",
            "  pandas\\_libs/hashtable.c(34319): warning C4267: '=': conversion from 'size_t' to 'int', possible loss of data\n",
            "  pandas\\_libs/hashtable.c(34750): warning C4267: '=': conversion from 'size_t' to 'int', possible loss of data\n",
            "  pandas\\_libs/hashtable.c(35183): warning C4244: '=': conversion from 'Py_ssize_t' to 'int', possible loss of data\n",
            "  \"C:\\Program Files (x86)\\Microsoft Visual Studio\\2022\\BuildTools\\VC\\Tools\\MSVC\\14.33.31629\\bin\\HostX86\\x64\\link.exe\" /nologo /INCREMENTAL:NO /LTCG /DLL /MANIFEST:EMBED,ID=2 /MANIFESTUAC:NO /LIBPATH:c:\\Users\\jsbreite\\Anaconda3\\libs /LIBPATH:c:\\Users\\jsbreite\\Anaconda3 /LIBPATH:c:\\Users\\jsbreite\\Anaconda3\\PCbuild\\amd64 \"/LIBPATH:C:\\Program Files (x86)\\Microsoft Visual Studio\\2022\\BuildTools\\VC\\Tools\\MSVC\\14.33.31629\\lib\\x64\" \"/LIBPATH:C:\\Program Files (x86)\\Windows Kits\\NETFXSDK\\4.8\\lib\\um\\x64\" \"/LIBPATH:C:\\Program Files (x86)\\Windows Kits\\10\\lib\\10.0.19041.0\\ucrt\\x64\" \"/LIBPATH:C:\\Program Files (x86)\\Windows Kits\\10\\\\lib\\10.0.19041.0\\\\um\\x64\" /EXPORT:PyInit_hashtable build\\temp.win-amd64-cpython-39\\Release\\pandas\\_libs/hashtable.obj /OUT:build\\lib.win-amd64-cpython-39\\pandas\\_libs\\hashtable.cp39-win_amd64.pyd /IMPLIB:build\\temp.win-amd64-cpython-39\\Release\\pandas\\_libs\\hashtable.cp39-win_amd64.lib\n",
            "     Creating library build\\temp.win-amd64-cpython-39\\Release\\pandas\\_libs\\hashtable.cp39-win_amd64.lib and object build\\temp.win-amd64-cpython-39\\Release\\pandas\\_libs\\hashtable.cp39-win_amd64.exp\n",
            "  Generating code\n",
            "  Finished generating code\n",
            "  building 'pandas._libs.index' extension\n",
            "  creating build\\temp.win-amd64-cpython-39\\Release\\pandas\\_libs\\tslibs\n",
            "  creating build\\temp.win-amd64-cpython-39\\Release\\pandas\\_libs\\tslibs\\src\n",
            "  creating build\\temp.win-amd64-cpython-39\\Release\\pandas\\_libs\\tslibs\\src\\datetime\n",
            "  \"C:\\Program Files (x86)\\Microsoft Visual Studio\\2022\\BuildTools\\VC\\Tools\\MSVC\\14.33.31629\\bin\\HostX86\\x64\\cl.exe\" /c /nologo /O2 /W3 /GL /DNDEBUG /MD -I.\\pandas\\_libs -I.\\pandas\\_libs\\tslibs -Ipandas/_libs/src/klib -Ipandas/_libs/src -Ipandas/_libs/tslibs/src -Ipandas/_libs/tslibs -Ic:\\Users\\jsbreite\\Anaconda3\\lib\\site-packages\\numpy\\core\\include -Ic:\\Users\\jsbreite\\Anaconda3\\include -Ic:\\Users\\jsbreite\\Anaconda3\\Include \"-IC:\\Program Files (x86)\\Microsoft Visual Studio\\2022\\BuildTools\\VC\\Tools\\MSVC\\14.33.31629\\include\" \"-IC:\\Program Files (x86)\\Microsoft Visual Studio\\2022\\BuildTools\\VC\\Auxiliary\\VS\\include\" \"-IC:\\Program Files (x86)\\Windows Kits\\10\\include\\10.0.19041.0\\ucrt\" \"-IC:\\Program Files (x86)\\Windows Kits\\10\\\\include\\10.0.19041.0\\\\um\" \"-IC:\\Program Files (x86)\\Windows Kits\\10\\\\include\\10.0.19041.0\\\\shared\" \"-IC:\\Program Files (x86)\\Windows Kits\\10\\\\include\\10.0.19041.0\\\\winrt\" \"-IC:\\Program Files (x86)\\Windows Kits\\10\\\\include\\10.0.19041.0\\\\cppwinrt\" \"-IC:\\Program Files (x86)\\Windows Kits\\NETFXSDK\\4.8\\include\\um\" /Tcpandas/_libs/tslibs/src/datetime/np_datetime.c /Fobuild\\temp.win-amd64-cpython-39\\Release\\pandas/_libs/tslibs/src/datetime/np_datetime.obj\n",
            "  np_datetime.c\n",
            "  pandas/_libs/tslibs/src/datetime/np_datetime.c(240): warning C4244: '=': conversion from 'npy_int64' to 'npy_int32', possible loss of data\n",
            "  pandas/_libs/tslibs/src/datetime/np_datetime.c(554): warning C4244: '=': conversion from 'npy_datetime' to 'npy_int32', possible loss of data\n",
            "  pandas/_libs/tslibs/src/datetime/np_datetime.c(568): warning C4244: '=': conversion from 'npy_datetime' to 'npy_int32', possible loss of data\n",
            "  pandas/_libs/tslibs/src/datetime/np_datetime.c(583): warning C4244: '=': conversion from 'npy_datetime' to 'npy_int32', possible loss of data\n",
            "  pandas/_libs/tslibs/src/datetime/np_datetime.c(599): warning C4244: '=': conversion from '__int64' to 'npy_int32', possible loss of data\n",
            "  pandas/_libs/tslibs/src/datetime/np_datetime.c(616): warning C4244: '=': conversion from '__int64' to 'npy_int32', possible loss of data\n",
            "  pandas/_libs/tslibs/src/datetime/np_datetime.c(633): warning C4244: '=': conversion from '__int64' to 'npy_int32', possible loss of data\n",
            "  pandas/_libs/tslibs/src/datetime/np_datetime.c(651): warning C4244: '=': conversion from '__int64' to 'npy_int32', possible loss of data\n",
            "  pandas/_libs/tslibs/src/datetime/np_datetime.c(661): warning C4244: '=': conversion from '__int64' to 'npy_int32', possible loss of data\n",
            "  pandas/_libs/tslibs/src/datetime/np_datetime.c(677): warning C4244: 'function': conversion from 'npy_datetime' to 'int', possible loss of data\n",
            "  pandas/_libs/tslibs/src/datetime/np_datetime.c(702): warning C4244: 'function': conversion from 'npy_datetime' to 'int', possible loss of data\n",
            "  pandas/_libs/tslibs/src/datetime/np_datetime.c(764): warning C4244: '=': conversion from '__int64' to 'npy_int32', possible loss of data\n",
            "  pandas/_libs/tslibs/src/datetime/np_datetime.c(771): warning C4244: '=': conversion from '__int64' to 'npy_int32', possible loss of data\n",
            "  pandas/_libs/tslibs/src/datetime/np_datetime.c(778): warning C4244: '=': conversion from 'npy_int64' to 'npy_int32', possible loss of data\n",
            "  pandas/_libs/tslibs/src/datetime/np_datetime.c(793): warning C4244: '=': conversion from '__int64' to 'npy_int32', possible loss of data\n",
            "  pandas/_libs/tslibs/src/datetime/np_datetime.c(795): warning C4244: '=': conversion from '__int64' to 'npy_int32', possible loss of data\n",
            "  pandas/_libs/tslibs/src/datetime/np_datetime.c(797): warning C4244: '=': conversion from 'npy_int64' to 'npy_int32', possible loss of data\n",
            "  \"C:\\Program Files (x86)\\Microsoft Visual Studio\\2022\\BuildTools\\VC\\Tools\\MSVC\\14.33.31629\\bin\\HostX86\\x64\\cl.exe\" /c /nologo /O2 /W3 /GL /DNDEBUG /MD -I.\\pandas\\_libs -I.\\pandas\\_libs\\tslibs -Ipandas/_libs/src/klib -Ipandas/_libs/src -Ipandas/_libs/tslibs/src -Ipandas/_libs/tslibs -Ic:\\Users\\jsbreite\\Anaconda3\\lib\\site-packages\\numpy\\core\\include -Ic:\\Users\\jsbreite\\Anaconda3\\include -Ic:\\Users\\jsbreite\\Anaconda3\\Include \"-IC:\\Program Files (x86)\\Microsoft Visual Studio\\2022\\BuildTools\\VC\\Tools\\MSVC\\14.33.31629\\include\" \"-IC:\\Program Files (x86)\\Microsoft Visual Studio\\2022\\BuildTools\\VC\\Auxiliary\\VS\\include\" \"-IC:\\Program Files (x86)\\Windows Kits\\10\\include\\10.0.19041.0\\ucrt\" \"-IC:\\Program Files (x86)\\Windows Kits\\10\\\\include\\10.0.19041.0\\\\um\" \"-IC:\\Program Files (x86)\\Windows Kits\\10\\\\include\\10.0.19041.0\\\\shared\" \"-IC:\\Program Files (x86)\\Windows Kits\\10\\\\include\\10.0.19041.0\\\\winrt\" \"-IC:\\Program Files (x86)\\Windows Kits\\10\\\\include\\10.0.19041.0\\\\cppwinrt\" \"-IC:\\Program Files (x86)\\Windows Kits\\NETFXSDK\\4.8\\include\\um\" /Tcpandas/_libs/tslibs/src/datetime/np_datetime_strings.c /Fobuild\\temp.win-amd64-cpython-39\\Release\\pandas/_libs/tslibs/src/datetime/np_datetime_strings.obj\n",
            "  np_datetime_strings.c\n",
            "  \"C:\\Program Files (x86)\\Microsoft Visual Studio\\2022\\BuildTools\\VC\\Tools\\MSVC\\14.33.31629\\bin\\HostX86\\x64\\cl.exe\" /c /nologo /O2 /W3 /GL /DNDEBUG /MD -I.\\pandas\\_libs -I.\\pandas\\_libs\\tslibs -Ipandas/_libs/src/klib -Ipandas/_libs/src -Ipandas/_libs/tslibs/src -Ipandas/_libs/tslibs -Ic:\\Users\\jsbreite\\Anaconda3\\lib\\site-packages\\numpy\\core\\include -Ic:\\Users\\jsbreite\\Anaconda3\\include -Ic:\\Users\\jsbreite\\Anaconda3\\Include \"-IC:\\Program Files (x86)\\Microsoft Visual Studio\\2022\\BuildTools\\VC\\Tools\\MSVC\\14.33.31629\\include\" \"-IC:\\Program Files (x86)\\Microsoft Visual Studio\\2022\\BuildTools\\VC\\Auxiliary\\VS\\include\" \"-IC:\\Program Files (x86)\\Windows Kits\\10\\include\\10.0.19041.0\\ucrt\" \"-IC:\\Program Files (x86)\\Windows Kits\\10\\\\include\\10.0.19041.0\\\\um\" \"-IC:\\Program Files (x86)\\Windows Kits\\10\\\\include\\10.0.19041.0\\\\shared\" \"-IC:\\Program Files (x86)\\Windows Kits\\10\\\\include\\10.0.19041.0\\\\winrt\" \"-IC:\\Program Files (x86)\\Windows Kits\\10\\\\include\\10.0.19041.0\\\\cppwinrt\" \"-IC:\\Program Files (x86)\\Windows Kits\\NETFXSDK\\4.8\\include\\um\" /Tcpandas\\_libs/index.c /Fobuild\\temp.win-amd64-cpython-39\\Release\\pandas\\_libs/index.obj\n",
            "  index.c\n",
            "  c:\\Users\\jsbreite\\Anaconda3\\lib\\site-packages\\numpy\\core\\include\\numpy\\npy_1_7_deprecated_api.h(14) : Warning Msg: Using deprecated NumPy API, disable it with #define NPY_NO_DEPRECATED_API NPY_1_7_API_VERSION\n",
            "  pandas/_libs/src/klib\\khash_python.h(75): warning C4244: '=': conversion from 'Py_hash_t' to 'khint_t', possible loss of data\n",
            "  pandas/_libs/src/klib\\khash_python.h(81): warning C4244: '=': conversion from 'Py_hash_t' to 'khint_t', possible loss of data\n",
            "  pandas\\_libs/index.c(6523): warning C4244: '=': conversion from 'Py_ssize_t' to 'int', possible loss of data\n",
            "  pandas\\_libs/index.c(19244): warning C4244: '=': conversion from 'Py_ssize_t' to 'int', possible loss of data\n",
            "  pandas\\_libs/index.c(20264): warning C4244: '=': conversion from 'Py_ssize_t' to 'int', possible loss of data\n",
            "  pandas\\_libs/index.c(21387): warning C4244: '=': conversion from 'Py_ssize_t' to 'int', possible loss of data\n",
            "  pandas\\_libs/index.c(22510): warning C4244: '=': conversion from 'Py_ssize_t' to 'int', possible loss of data\n",
            "  pandas\\_libs/index.c(23633): warning C4244: '=': conversion from 'Py_ssize_t' to 'int', possible loss of data\n",
            "  pandas\\_libs/index.c(24756): warning C4244: '=': conversion from 'Py_ssize_t' to 'int', possible loss of data\n",
            "  pandas\\_libs/index.c(25879): warning C4244: '=': conversion from 'Py_ssize_t' to 'int', possible loss of data\n",
            "  pandas\\_libs/index.c(27002): warning C4244: '=': conversion from 'Py_ssize_t' to 'int', possible loss of data\n",
            "  pandas\\_libs/index.c(28125): warning C4244: '=': conversion from 'Py_ssize_t' to 'int', possible loss of data\n",
            "  pandas\\_libs/index.c(29248): warning C4244: '=': conversion from 'Py_ssize_t' to 'int', possible loss of data\n",
            "  \"C:\\Program Files (x86)\\Microsoft Visual Studio\\2022\\BuildTools\\VC\\Tools\\MSVC\\14.33.31629\\bin\\HostX86\\x64\\link.exe\" /nologo /INCREMENTAL:NO /LTCG /DLL /MANIFEST:EMBED,ID=2 /MANIFESTUAC:NO /LIBPATH:c:\\Users\\jsbreite\\Anaconda3\\libs /LIBPATH:c:\\Users\\jsbreite\\Anaconda3 /LIBPATH:c:\\Users\\jsbreite\\Anaconda3\\PCbuild\\amd64 \"/LIBPATH:C:\\Program Files (x86)\\Microsoft Visual Studio\\2022\\BuildTools\\VC\\Tools\\MSVC\\14.33.31629\\lib\\x64\" \"/LIBPATH:C:\\Program Files (x86)\\Windows Kits\\NETFXSDK\\4.8\\lib\\um\\x64\" \"/LIBPATH:C:\\Program Files (x86)\\Windows Kits\\10\\lib\\10.0.19041.0\\ucrt\\x64\" \"/LIBPATH:C:\\Program Files (x86)\\Windows Kits\\10\\\\lib\\10.0.19041.0\\\\um\\x64\" /EXPORT:PyInit_index build\\temp.win-amd64-cpython-39\\Release\\pandas/_libs/tslibs/src/datetime/np_datetime.obj build\\temp.win-amd64-cpython-39\\Release\\pandas/_libs/tslibs/src/datetime/np_datetime_strings.obj build\\temp.win-amd64-cpython-39\\Release\\pandas\\_libs/index.obj /OUT:build\\lib.win-amd64-cpython-39\\pandas\\_libs\\index.cp39-win_amd64.pyd /IMPLIB:build\\temp.win-amd64-cpython-39\\Release\\pandas/_libs/tslibs/src/datetime\\index.cp39-win_amd64.lib\n",
            "     Creating library build\\temp.win-amd64-cpython-39\\Release\\pandas/_libs/tslibs/src/datetime\\index.cp39-win_amd64.lib and object build\\temp.win-amd64-cpython-39\\Release\\pandas/_libs/tslibs/src/datetime\\index.cp39-win_amd64.exp\n",
            "  Generating code\n",
            "  Finished generating code\n",
            "  building 'pandas._libs.indexing' extension\n",
            "  \"C:\\Program Files (x86)\\Microsoft Visual Studio\\2022\\BuildTools\\VC\\Tools\\MSVC\\14.33.31629\\bin\\HostX86\\x64\\cl.exe\" /c /nologo /O2 /W3 /GL /DNDEBUG /MD -Ipandas/_libs/src/klib -Ipandas/_libs/src -Ic:\\Users\\jsbreite\\Anaconda3\\lib\\site-packages\\numpy\\core\\include -Ic:\\Users\\jsbreite\\Anaconda3\\include -Ic:\\Users\\jsbreite\\Anaconda3\\Include \"-IC:\\Program Files (x86)\\Microsoft Visual Studio\\2022\\BuildTools\\VC\\Tools\\MSVC\\14.33.31629\\include\" \"-IC:\\Program Files (x86)\\Microsoft Visual Studio\\2022\\BuildTools\\VC\\Auxiliary\\VS\\include\" \"-IC:\\Program Files (x86)\\Windows Kits\\10\\include\\10.0.19041.0\\ucrt\" \"-IC:\\Program Files (x86)\\Windows Kits\\10\\\\include\\10.0.19041.0\\\\um\" \"-IC:\\Program Files (x86)\\Windows Kits\\10\\\\include\\10.0.19041.0\\\\shared\" \"-IC:\\Program Files (x86)\\Windows Kits\\10\\\\include\\10.0.19041.0\\\\winrt\" \"-IC:\\Program Files (x86)\\Windows Kits\\10\\\\include\\10.0.19041.0\\\\cppwinrt\" \"-IC:\\Program Files (x86)\\Windows Kits\\NETFXSDK\\4.8\\include\\um\" /Tcpandas\\_libs/indexing.c /Fobuild\\temp.win-amd64-cpython-39\\Release\\pandas\\_libs/indexing.obj\n",
            "  indexing.c\n",
            "  pandas\\_libs/indexing.c(2812): error C2039: 'tp_print': is not a member of '_typeobject'\n",
            "  c:\\Users\\jsbreite\\Anaconda3\\include\\cpython/object.h(193): note: see declaration of '_typeobject'\n",
            "  pandas\\_libs/indexing.c(3199): warning C4996: '_PyUnicode_get_wstr_length': deprecated in 3.3\n",
            "  pandas\\_libs/indexing.c(3215): warning C4996: '_PyUnicode_get_wstr_length': deprecated in 3.3\n",
            "  error: command 'C:\\\\Program Files (x86)\\\\Microsoft Visual Studio\\\\2022\\\\BuildTools\\\\VC\\\\Tools\\\\MSVC\\\\14.33.31629\\\\bin\\\\HostX86\\\\x64\\\\cl.exe' failed with exit code 2\n",
            "  ----------------------------------------\n",
            "  ERROR: Failed building wheel for pandas\n",
            "ERROR: Could not install packages due to an OSError: [WinError 5] Access is denied: 'C:\\\\Users\\\\jsbreite\\\\Anaconda3\\\\Lib\\\\site-packages\\\\~ornado\\\\speedups.cp39-win_amd64.pyd'\n",
            "Consider using the `--user` option or check the permissions.\n",
            "\n"
          ]
        }
      ],
      "source": [
        "# Install  Packets\n",
        "\n",
        "import sys\n",
        "!{sys.executable} -m pip install lightfm\n",
        "!{sys.executable} -m pip install pandas\n",
        "!{sys.executable} -m pip install surprise\n",
        "!{sys.executable} -m pip install keras\n",
        "!{sys.executable} -m pip install scikit-surprise \n",
        "!{sys.executable} -m pip install tensorflow\n",
        "!{sys.executable} -m pip install pandas\n",
        "!{sys.executable} -m pip install google.colab\n",
        "\n",
        "#Only Once\n"
      ]
    },
    {
      "cell_type": "code",
      "execution_count": null,
      "metadata": {},
      "outputs": [],
      "source": [
        "## Clear all Variables\n",
        "del movie_titles,df, df_raw, df_raw_1, df_raw_2, df_raw_3, df_raw_4, frames,  df_raw, tmp_movies, tmp_df, shifted_movie_indices, movie_indices, df_id_1, movie_id, df_id_2, next_movie_id"
      ]
    },
    {
      "cell_type": "code",
      "execution_count": 10,
      "metadata": {
        "_cell_guid": "b1076dfc-b9ad-4769-8c92-a6c4dae69d19",
        "_kg_hide-input": true,
        "_uuid": "8f2839f25d086af736a60e9eeb907d3b93b6e0e5",
        "id": "W_EeQcoCLTb1",
        "trusted": true
      },
      "outputs": [
        {
          "data": {
            "text/html": [
              "        <script type=\"text/javascript\">\n",
              "        window.PlotlyConfig = {MathJaxConfig: 'local'};\n",
              "        if (window.MathJax) {MathJax.Hub.Config({SVG: {font: \"STIX-Web\"}});}\n",
              "        if (typeof require !== 'undefined') {\n",
              "        require.undef(\"plotly\");\n",
              "        requirejs.config({\n",
              "            paths: {\n",
              "                'plotly': ['https://cdn.plot.ly/plotly-2.9.0.min']\n",
              "            }\n",
              "        });\n",
              "        require(['plotly'], function(Plotly) {\n",
              "            window._Plotly = Plotly;\n",
              "        });\n",
              "        }\n",
              "        </script>\n",
              "        "
            ]
          },
          "metadata": {},
          "output_type": "display_data"
        }
      ],
      "source": [
        "# To store the data\n",
        "import pandas as pd\n",
        "\n",
        "# To do linear algebra\n",
        "import numpy as np\n",
        "\n",
        "# To create plots\n",
        "import matplotlib.pyplot as plt\n",
        "\n",
        "# To create interactive plots\n",
        "from plotly.offline import init_notebook_mode, plot, iplot\n",
        "import plotly.graph_objs as go\n",
        "init_notebook_mode(connected=True)\n",
        "\n",
        "# To shift lists\n",
        "from collections import deque\n",
        "\n",
        "# To compute similarities between vectors\n",
        "from sklearn.metrics import mean_squared_error\n",
        "from sklearn.metrics.pairwise import cosine_similarity\n",
        "from sklearn.feature_extraction.text import TfidfVectorizer\n",
        "\n",
        "# To use recommender systems\n",
        "import surprise as sp\n",
        "from surprise.model_selection import cross_validate\n",
        "\n",
        "# To create deep learning models\n",
        "from keras.layers import Input, Embedding, Reshape, Dot, Concatenate, Dense, Dropout\n",
        "from keras.models import Model\n",
        "\n",
        "# To create sparse matrices\n",
        "from scipy.sparse import coo_matrix\n",
        "\n",
        "# To light fm\n",
        "from lightfm import LightFM\n",
        "from lightfm.evaluation import precision_at_k\n",
        "\n",
        "# To stack sparse matrices\n",
        "from scipy.sparse import vstack"
      ]
    },
    {
      "cell_type": "markdown",
      "metadata": {
        "_uuid": "81ecc38ecc2650b81c042a385599a3af31b4e1e6",
        "id": "QEBcqPJ_LTb4"
      },
      "source": [
        "***\n",
        "## <a id=2>2. Load Movie-Data</a>"
      ]
    },
    {
      "cell_type": "markdown",
      "metadata": {},
      "source": [
        "***\n",
        "## <a id=2.1 >2.1 Cobine Data</a>"
      ]
    },
    {
      "cell_type": "code",
      "execution_count": 24,
      "metadata": {},
      "outputs": [],
      "source": [
        "#Als Nächstes sollen alle Pfade mit variablen belegt werden, dass macht das austauschen einfacher.\n",
        "\n",
        "movie_tile_File = 'C:/Users/jsbreite/OneDrive - Jannis Breitenstein IT/Hochschule_Studium/5_Semester/Programmierprojekt/Netflix_Daten/movie_titles.csv'\n",
        "movie_tile_File_new = 'C:/Users/jsbreite/OneDrive - Jannis Breitenstein IT/Hochschule_Studium/5_Semester/Programmierprojekt/Netflix_Daten/movie_titles_new.csv'\n",
        "combined_data_1 = 'C:/Users/jsbreite/OneDrive - Jannis Breitenstein IT/Hochschule_Studium/5_Semester/Programmierprojekt/Netflix_Daten/combined_data_1.txt'\n",
        "combined_data_2 = 'C:/Users/jsbreite/OneDrive - Jannis Breitenstein IT/Hochschule_Studium/5_Semester/Programmierprojekt/Netflix_Daten/combined_data_2.txt'\n",
        "combined_data_3 = 'C:/Users/jsbreite/OneDrive - Jannis Breitenstein IT/Hochschule_Studium/5_Semester/Programmierprojekt/Netflix_Daten/combined_data_3.txt'\n",
        "combined_data_4 = 'C:/Users/jsbreite/OneDrive - Jannis Breitenstein IT/Hochschule_Studium/5_Semester/Programmierprojekt/Netflix_Daten/combined_data_4.txt'\n",
        "new_Combined = 'C:/Users/jsbreite/OneDrive - Jannis Breitenstein IT/Hochschule_Studium/5_Semester/Programmierprojekt/Netflix_Daten/Cobined_data_new.csv'\n",
        "netflix_rating_Combined = 'C:/Users/jsbreite\\OneDrive - Jannis Breitenstein IT/Hochschule_Studium/5_Semester/Programmierprojekt/Netflix_Daten/netflix_data.csv'"
      ]
    },
    {
      "cell_type": "code",
      "execution_count": 25,
      "metadata": {},
      "outputs": [],
      "source": [
        "#Load Data into viables\n",
        "\n",
        "combined_data_1_raw = pd.read_csv(combined_data_1, header=None, names=['Cust_Id', 'Rating', 'Date'], usecols=[0, 1, 2])\n",
        "combined_data_2_raw = pd.read_csv(combined_data_2, header=None, names=['Cust_Id', 'Rating', 'Date'], usecols=[0, 1, 2])\n",
        "combined_data_3_raw = pd.read_csv(combined_data_3, header=None, names=['Cust_Id', 'Rating', 'Date'], usecols=[0, 1, 2])\n",
        "combined_data_4_raw = pd.read_csv(combined_data_4, header=None, names=['Cust_Id', 'Rating', 'Date'], usecols=[0, 1, 2])"
      ]
    },
    {
      "cell_type": "code",
      "execution_count": null,
      "metadata": {},
      "outputs": [],
      "source": [
        "## Combined_DATA_1\n",
        "# Find empty rows to slice dataframe for each movie\n",
        "tmp_movies = combined_data_1_raw[combined_data_1_raw['Rating'].isna()]['Cust_Id'].reset_index()  \n",
        "movie_indices = [[index, int(movie[:-1])] for index, movie in tmp_movies.values]\n",
        "\n",
        "# Shift the movie_indices by one to get start and endpoints of all movies\n",
        "shifted_movie_indices = deque(movie_indices)\n",
        "shifted_movie_indices.rotate(-1)\n",
        "\n",
        "\n",
        "# Gather all dataframes\n",
        "user_data = []\n",
        "\n",
        "# Iterate over all movies\n",
        "for [df_id_1, movie_id], [df_id_2, next_movie_id] in zip(movie_indices, shifted_movie_indices):\n",
        "    \n",
        "    # Check if it is the last movie in the file\n",
        "    if df_id_1<df_id_2:\n",
        "        tmp_df = combined_data_3_raw.loc[df_id_1+1:df_id_2-1].copy()\n",
        "    else:\n",
        "        tmp_df = combined_data_3_raw.loc[df_id_1+1:].copy()\n",
        "        \n",
        "    # Create movie_id column\n",
        "    tmp_df['Movie_Id'] = movie_id\n",
        "    \n",
        "    # Append dataframe to list\n",
        "    user_data.append(tmp_df)\n",
        "\n",
        "# Combine all dataframes\n",
        "df_1 = pd.concat(user_data)\n",
        "del user_data, combined_data_1_raw, tmp_movies, tmp_df, shifted_movie_indices, movie_indices, df_id_1, movie_id, df_id_2, next_movie_id\n",
        "print('Shape User-Ratings:\\t{}'.format(df_1.shape))\n"
      ]
    },
    {
      "cell_type": "code",
      "execution_count": null,
      "metadata": {},
      "outputs": [],
      "source": [
        "## Combined_DATA_2\n",
        "# Find empty rows to slice dataframe for each movie\n",
        "tmp_movies = combined_data_2_raw[combined_data_2_raw['Rating'].isna()]['Cust_Id'].reset_index()  ##---> Nachvollziehen\n",
        "movie_indices = [[index, int(movie[:-1])] for index, movie in tmp_movies.values]\n",
        "\n",
        "# Shift the movie_indices by one to get start and endpoints of all movies\n",
        "shifted_movie_indices = deque(movie_indices)\n",
        "shifted_movie_indices.rotate(-1)\n",
        "\n",
        "\n",
        "# Gather all dataframes\n",
        "user_data = []\n",
        "\n",
        "# Iterate over all movies\n",
        "for [df_id_1, movie_id], [df_id_2, next_movie_id] in zip(movie_indices, shifted_movie_indices):\n",
        "    \n",
        "    # Check if it is the last movie in the file\n",
        "    if df_id_1<df_id_2:\n",
        "        tmp_df = combined_data_2_raw.loc[df_id_1+1:df_id_2-1].copy()\n",
        "    else:\n",
        "        tmp_df = combined_data_2_raw.loc[df_id_1+1:].copy()\n",
        "        \n",
        "    # Create movie_id column\n",
        "    tmp_df['Movie_Id'] = movie_id\n",
        "    \n",
        "    # Append dataframe to list\n",
        "    user_data.append(tmp_df)\n",
        "\n",
        "# Combine all dataframes\n",
        "df_2 = pd.concat(user_data)\n",
        "del user_data, combined_data_2_raw, tmp_movies, tmp_df, shifted_movie_indices, movie_indices, df_id_1, movie_id, df_id_2, next_movie_id\n",
        "print('Shape User-Ratings:\\t{}'.format(df_2.shape))\n"
      ]
    },
    {
      "cell_type": "code",
      "execution_count": null,
      "metadata": {},
      "outputs": [],
      "source": [
        "## Combined_DATA_3\n",
        "# Find empty rows to slice dataframe for each movie\n",
        "tmp_movies = combined_data_3_raw[combined_data_3_raw['Rating'].isna()]['Cust_Id'].reset_index()  ##---> Nachvollziehen\n",
        "movie_indices = [[index, int(movie[:-1])] for index, movie in tmp_movies.values]\n",
        "\n",
        "# Shift the movie_indices by one to get start and endpoints of all movies\n",
        "shifted_movie_indices = deque(movie_indices)\n",
        "shifted_movie_indices.rotate(-1)\n",
        "\n",
        "\n",
        "# Gather all dataframes\n",
        "user_data = []\n",
        "\n",
        "# Iterate over all movies\n",
        "for [df_id_1, movie_id], [df_id_2, next_movie_id] in zip(movie_indices, shifted_movie_indices):\n",
        "    \n",
        "    # Check if it is the last movie in the file\n",
        "    if df_id_1<df_id_2:\n",
        "        tmp_df = combined_data_3_raw.loc[df_id_1+1:df_id_2-1].copy()\n",
        "    else:\n",
        "        tmp_df = combined_data_3_raw.loc[df_id_1+1:].copy()\n",
        "        \n",
        "    # Create movie_id column\n",
        "    tmp_df['Movie_Id'] = movie_id\n",
        "    \n",
        "    # Append dataframe to list\n",
        "    user_data.append(tmp_df)\n",
        "\n",
        "# Combine all dataframes\n",
        "df_3 = pd.concat(user_data)\n",
        "del user_data, combined_data_3_raw, tmp_movies, tmp_df, shifted_movie_indices, movie_indices, df_id_1, movie_id, df_id_2, next_movie_id\n",
        "print('Shape User-Ratings:\\t{}'.format(df_3.shape))\n"
      ]
    },
    {
      "cell_type": "code",
      "execution_count": null,
      "metadata": {},
      "outputs": [],
      "source": [
        "## Combined_DATA_4\n",
        "# Find empty rows to slice dataframe for each movie\n",
        "tmp_movies = combined_data_4_raw[combined_data_4_raw['Rating'].isna()]['Cust_Id'].reset_index()  ##---> Nachvollziehen\n",
        "movie_indices = [[index, int(movie[:-1])] for index, movie in tmp_movies.values]\n",
        "\n",
        "# Shift the movie_indices by one to get start and endpoints of all movies\n",
        "shifted_movie_indices = deque(movie_indices)\n",
        "shifted_movie_indices.rotate(-1)\n",
        "\n",
        "\n",
        "# Gather all dataframes\n",
        "user_data = []\n",
        "\n",
        "# Iterate over all movies\n",
        "for [df_id_1, movie_id], [df_id_2, next_movie_id] in zip(movie_indices, shifted_movie_indices):\n",
        "    \n",
        "    # Check if it is the last movie in the file\n",
        "    if df_id_1<df_id_2:\n",
        "        tmp_df = combined_data_4_raw.loc[df_id_1+1:df_id_2-1].copy()\n",
        "    else:\n",
        "        tmp_df = combined_data_4_raw.loc[df_id_1+1:].copy()\n",
        "        \n",
        "    # Create movie_id column\n",
        "    tmp_df['Movie_Id'] = movie_id\n",
        "    \n",
        "    # Append dataframe to list\n",
        "    user_data.append(tmp_df)\n",
        "\n",
        "# Combine all dataframes\n",
        "df_4 = pd.concat(user_data)\n",
        "del user_data, combined_data_4_raw, tmp_movies, tmp_df, shifted_movie_indices, movie_indices, df_id_1, movie_id, df_id_2, next_movie_id\n",
        "print('Shape User-Ratings:\\t{}'.format(df_4.shape))\n"
      ]
    },
    {
      "cell_type": "code",
      "execution_count": null,
      "metadata": {},
      "outputs": [],
      "source": [
        "#Zusammenfügen der aller Daten in einer Variable\n",
        "data = [df_1, df_2,df_3,df_4]\n",
        "df = pd.concat(data)\n",
        "print(df)"
      ]
    },
    {
      "cell_type": "code",
      "execution_count": 40,
      "metadata": {},
      "outputs": [],
      "source": [
        "#Sichern aller Combined-Data in eine Datei\n",
        "df.to_csv(new_Combined, sep='\\t', encoding='utf-8', header= True , index=False)"
      ]
    },
    {
      "cell_type": "code",
      "execution_count": null,
      "metadata": {},
      "outputs": [],
      "source": [
        "###Show my Data \n",
        "\n",
        "print(df.tail(5))\n",
        "print(df.head(5))\n",
        "print(df.sample(5))"
      ]
    },
    {
      "cell_type": "markdown",
      "metadata": {
        "_uuid": "81ecc38ecc2650b81c042a385599a3af31b4e1e6",
        "id": "QEBcqPJ_LTb4"
      },
      "source": [
        "***\n",
        "## <a id=2.2>2.2 Process Data </a>"
      ]
    },
    {
      "cell_type": "code",
      "execution_count": null,
      "metadata": {
        "id": "hH1hKECSMUMM"
      },
      "outputs": [],
      "source": [
        "#Mit OneDrive verbinden, falls mit Colabs gearbeitet wird\n",
        "from google.colab import drive\n",
        "drive.mount('/content/drive')\n"
      ]
    },
    {
      "cell_type": "code",
      "execution_count": null,
      "metadata": {
        "_kg_hide-input": true,
        "_uuid": "a698fdfcf9ac8ef2193c3b40503b92283c5bec8c",
        "id": "UprlGtOSLTb4",
        "trusted": true
      },
      "outputs": [],
      "source": [
        "# Load data for all movies\n",
        "from multiprocessing import dummy\n",
        "\n",
        "\n",
        "movie_titles = pd.read_csv(movie_tile_File, \n",
        "                           encoding = 'ISO-8859-1', \n",
        "                           engine = 'python',\n",
        "                           delimiter =',',\n",
        "                           header = None, \n",
        "                           on_bad_lines= 'skip', #Wird gebraucht um Fehlerhafte Title zu behen.\n",
        "\n",
        "                           names = ['Id', 'Year', 'Name']).set_index('Id')\n",
        "                           \n",
        "\n",
        "print('Shape Movie-Titles:\\t{}'.format(movie_titles.shape))\n",
        "\n",
        "#Zwischenspeichern der Movies, um fehlerhafte Liste zu bearbeiten\n",
        "movie_titles.to_csv(movie_tile_File_new,encoding = 'ISO-8859-1',sep='\\t')"
      ]
    },
    {
      "cell_type": "markdown",
      "metadata": {
        "_uuid": "c0612cd9da11d6c8a984db24f2befec720f8cdbc",
        "id": "e7WV6VdgLTb5"
      },
      "source": [
        "There are roughly **18.000 movies** in the ratings dataset and the metadata for the movies contains only the **release date and the movie title.**"
      ]
    },
    {
      "cell_type": "code",
      "execution_count": null,
      "metadata": {
        "_kg_hide-input": true,
        "_uuid": "42c7f5621f216b7300b5143a8e68d9e6d495e89f",
        "id": "M-0iwkKoLTb6",
        "trusted": true
      },
      "outputs": [],
      "source": [
        "## Wird nicht mehr benötigt... \n",
        "\n",
        "# Load a movie metadata dataset\n",
        "movie_metadata = pd.read_csv('../input/the-movies-dataset/movies_metadata.csv', low_memory=False)[['original_title', 'overview', 'vote_count']].set_index('original_title').dropna()\n",
        "# Remove the long tail of rarly rated moves\n",
        "movie_metadata = movie_metadata[movie_metadata['vote_count']>10].drop('vote_count', axis=1)\n",
        "\n",
        "print('Shape Movie-Metadata:\\t{}'.format(movie_metadata.shape))\n",
        "movie_metadata.sample(5)"
      ]
    },
    {
      "cell_type": "markdown",
      "metadata": {
        "_uuid": "3e5992741a799555bb326b04cdbb85fda14598ee",
        "id": "pBxS5ZWYLTb7"
      },
      "source": [
        "\n",
        "\n",
        "***\n",
        "## <a id=3>3. Load User-Data And Preprocess Data-Structure</a>\n",
        "\n",
        "The user-data structure has to be preprocessed to extract all ratings and form a matrix, since the file-structure is a messy mixture of json and csv."
      ]
    },
    {
      "cell_type": "code",
      "execution_count": null,
      "metadata": {
        "_kg_hide-input": true,
        "_uuid": "15c1f8a5c248b23d92401fb8af54d7bb34ff6642",
        "id": "Yq-XyxWWLTb_",
        "trusted": true
      },
      "outputs": [],
      "source": [
        "# Get data\n",
        "data = movie_titles['Year'].value_counts().sort_index()\n",
        "\n",
        "# Create trace\n",
        "trace = go.Scatter(x = data.index,\n",
        "                   y = data.values,\n",
        "                   marker = dict(color = '#db0000'))\n",
        "# Create layout\n",
        "layout = dict(title = '{} Movies Grouped By Year Of Release'.format(movie_titles.shape[0]),\n",
        "              xaxis = dict(title = 'Release Year'),\n",
        "              yaxis = dict(title = 'Movies'))\n",
        "\n",
        "# Create plot\n",
        "fig = go.Figure(data=[trace], layout=layout)\n",
        "iplot(fig)"
      ]
    },
    {
      "cell_type": "markdown",
      "metadata": {
        "_uuid": "528a2b1eef9acd52c91f059d3fe5916e05166051",
        "id": "DlmUnAR0LTcA"
      },
      "source": [
        "Many movies on Netflix have been released in this millennial. Whether Netflix prefers young movies or there are no old movies left can not be deduced from this plot.<br>\n",
        "The decline for the rightmost point is probably caused by an **incomplete last year.**\n",
        "\n",
        "***\n",
        "## <a id=5>5. How Are The Ratings Distributed?</a>"
      ]
    },
    {
      "cell_type": "code",
      "execution_count": 43,
      "metadata": {
        "_kg_hide-input": true,
        "_uuid": "933d9c27532fbe761386c64a0a3f57be103bcc29",
        "id": "LAEY3MAVLTcA",
        "trusted": true
      },
      "outputs": [
        {
          "data": {
            "application/vnd.plotly.v1+json": {
              "config": {
                "linkText": "Export to plot.ly",
                "plotlyServerURL": "https://plot.ly",
                "showLink": false
              },
              "data": [
                {
                  "marker": {
                    "color": "#db0000"
                  },
                  "text": [
                    "23.1 %",
                    "33.6 %",
                    "28.7 %",
                    "10.1 %",
                    "4.6 %"
                  ],
                  "textfont": {
                    "color": "#000000"
                  },
                  "textposition": "auto",
                  "type": "bar",
                  "x": [
                    5,
                    4,
                    3,
                    2,
                    1
                  ],
                  "y": [
                    23168232,
                    33750958,
                    28811247,
                    10132080,
                    4617990
                  ]
                }
              ],
              "layout": {
                "template": {
                  "data": {
                    "bar": [
                      {
                        "error_x": {
                          "color": "#2a3f5f"
                        },
                        "error_y": {
                          "color": "#2a3f5f"
                        },
                        "marker": {
                          "line": {
                            "color": "#E5ECF6",
                            "width": 0.5
                          },
                          "pattern": {
                            "fillmode": "overlay",
                            "size": 10,
                            "solidity": 0.2
                          }
                        },
                        "type": "bar"
                      }
                    ],
                    "barpolar": [
                      {
                        "marker": {
                          "line": {
                            "color": "#E5ECF6",
                            "width": 0.5
                          },
                          "pattern": {
                            "fillmode": "overlay",
                            "size": 10,
                            "solidity": 0.2
                          }
                        },
                        "type": "barpolar"
                      }
                    ],
                    "carpet": [
                      {
                        "aaxis": {
                          "endlinecolor": "#2a3f5f",
                          "gridcolor": "white",
                          "linecolor": "white",
                          "minorgridcolor": "white",
                          "startlinecolor": "#2a3f5f"
                        },
                        "baxis": {
                          "endlinecolor": "#2a3f5f",
                          "gridcolor": "white",
                          "linecolor": "white",
                          "minorgridcolor": "white",
                          "startlinecolor": "#2a3f5f"
                        },
                        "type": "carpet"
                      }
                    ],
                    "choropleth": [
                      {
                        "colorbar": {
                          "outlinewidth": 0,
                          "ticks": ""
                        },
                        "type": "choropleth"
                      }
                    ],
                    "contour": [
                      {
                        "colorbar": {
                          "outlinewidth": 0,
                          "ticks": ""
                        },
                        "colorscale": [
                          [
                            0,
                            "#0d0887"
                          ],
                          [
                            0.1111111111111111,
                            "#46039f"
                          ],
                          [
                            0.2222222222222222,
                            "#7201a8"
                          ],
                          [
                            0.3333333333333333,
                            "#9c179e"
                          ],
                          [
                            0.4444444444444444,
                            "#bd3786"
                          ],
                          [
                            0.5555555555555556,
                            "#d8576b"
                          ],
                          [
                            0.6666666666666666,
                            "#ed7953"
                          ],
                          [
                            0.7777777777777778,
                            "#fb9f3a"
                          ],
                          [
                            0.8888888888888888,
                            "#fdca26"
                          ],
                          [
                            1,
                            "#f0f921"
                          ]
                        ],
                        "type": "contour"
                      }
                    ],
                    "contourcarpet": [
                      {
                        "colorbar": {
                          "outlinewidth": 0,
                          "ticks": ""
                        },
                        "type": "contourcarpet"
                      }
                    ],
                    "heatmap": [
                      {
                        "colorbar": {
                          "outlinewidth": 0,
                          "ticks": ""
                        },
                        "colorscale": [
                          [
                            0,
                            "#0d0887"
                          ],
                          [
                            0.1111111111111111,
                            "#46039f"
                          ],
                          [
                            0.2222222222222222,
                            "#7201a8"
                          ],
                          [
                            0.3333333333333333,
                            "#9c179e"
                          ],
                          [
                            0.4444444444444444,
                            "#bd3786"
                          ],
                          [
                            0.5555555555555556,
                            "#d8576b"
                          ],
                          [
                            0.6666666666666666,
                            "#ed7953"
                          ],
                          [
                            0.7777777777777778,
                            "#fb9f3a"
                          ],
                          [
                            0.8888888888888888,
                            "#fdca26"
                          ],
                          [
                            1,
                            "#f0f921"
                          ]
                        ],
                        "type": "heatmap"
                      }
                    ],
                    "heatmapgl": [
                      {
                        "colorbar": {
                          "outlinewidth": 0,
                          "ticks": ""
                        },
                        "colorscale": [
                          [
                            0,
                            "#0d0887"
                          ],
                          [
                            0.1111111111111111,
                            "#46039f"
                          ],
                          [
                            0.2222222222222222,
                            "#7201a8"
                          ],
                          [
                            0.3333333333333333,
                            "#9c179e"
                          ],
                          [
                            0.4444444444444444,
                            "#bd3786"
                          ],
                          [
                            0.5555555555555556,
                            "#d8576b"
                          ],
                          [
                            0.6666666666666666,
                            "#ed7953"
                          ],
                          [
                            0.7777777777777778,
                            "#fb9f3a"
                          ],
                          [
                            0.8888888888888888,
                            "#fdca26"
                          ],
                          [
                            1,
                            "#f0f921"
                          ]
                        ],
                        "type": "heatmapgl"
                      }
                    ],
                    "histogram": [
                      {
                        "marker": {
                          "pattern": {
                            "fillmode": "overlay",
                            "size": 10,
                            "solidity": 0.2
                          }
                        },
                        "type": "histogram"
                      }
                    ],
                    "histogram2d": [
                      {
                        "colorbar": {
                          "outlinewidth": 0,
                          "ticks": ""
                        },
                        "colorscale": [
                          [
                            0,
                            "#0d0887"
                          ],
                          [
                            0.1111111111111111,
                            "#46039f"
                          ],
                          [
                            0.2222222222222222,
                            "#7201a8"
                          ],
                          [
                            0.3333333333333333,
                            "#9c179e"
                          ],
                          [
                            0.4444444444444444,
                            "#bd3786"
                          ],
                          [
                            0.5555555555555556,
                            "#d8576b"
                          ],
                          [
                            0.6666666666666666,
                            "#ed7953"
                          ],
                          [
                            0.7777777777777778,
                            "#fb9f3a"
                          ],
                          [
                            0.8888888888888888,
                            "#fdca26"
                          ],
                          [
                            1,
                            "#f0f921"
                          ]
                        ],
                        "type": "histogram2d"
                      }
                    ],
                    "histogram2dcontour": [
                      {
                        "colorbar": {
                          "outlinewidth": 0,
                          "ticks": ""
                        },
                        "colorscale": [
                          [
                            0,
                            "#0d0887"
                          ],
                          [
                            0.1111111111111111,
                            "#46039f"
                          ],
                          [
                            0.2222222222222222,
                            "#7201a8"
                          ],
                          [
                            0.3333333333333333,
                            "#9c179e"
                          ],
                          [
                            0.4444444444444444,
                            "#bd3786"
                          ],
                          [
                            0.5555555555555556,
                            "#d8576b"
                          ],
                          [
                            0.6666666666666666,
                            "#ed7953"
                          ],
                          [
                            0.7777777777777778,
                            "#fb9f3a"
                          ],
                          [
                            0.8888888888888888,
                            "#fdca26"
                          ],
                          [
                            1,
                            "#f0f921"
                          ]
                        ],
                        "type": "histogram2dcontour"
                      }
                    ],
                    "mesh3d": [
                      {
                        "colorbar": {
                          "outlinewidth": 0,
                          "ticks": ""
                        },
                        "type": "mesh3d"
                      }
                    ],
                    "parcoords": [
                      {
                        "line": {
                          "colorbar": {
                            "outlinewidth": 0,
                            "ticks": ""
                          }
                        },
                        "type": "parcoords"
                      }
                    ],
                    "pie": [
                      {
                        "automargin": true,
                        "type": "pie"
                      }
                    ],
                    "scatter": [
                      {
                        "marker": {
                          "colorbar": {
                            "outlinewidth": 0,
                            "ticks": ""
                          }
                        },
                        "type": "scatter"
                      }
                    ],
                    "scatter3d": [
                      {
                        "line": {
                          "colorbar": {
                            "outlinewidth": 0,
                            "ticks": ""
                          }
                        },
                        "marker": {
                          "colorbar": {
                            "outlinewidth": 0,
                            "ticks": ""
                          }
                        },
                        "type": "scatter3d"
                      }
                    ],
                    "scattercarpet": [
                      {
                        "marker": {
                          "colorbar": {
                            "outlinewidth": 0,
                            "ticks": ""
                          }
                        },
                        "type": "scattercarpet"
                      }
                    ],
                    "scattergeo": [
                      {
                        "marker": {
                          "colorbar": {
                            "outlinewidth": 0,
                            "ticks": ""
                          }
                        },
                        "type": "scattergeo"
                      }
                    ],
                    "scattergl": [
                      {
                        "marker": {
                          "colorbar": {
                            "outlinewidth": 0,
                            "ticks": ""
                          }
                        },
                        "type": "scattergl"
                      }
                    ],
                    "scattermapbox": [
                      {
                        "marker": {
                          "colorbar": {
                            "outlinewidth": 0,
                            "ticks": ""
                          }
                        },
                        "type": "scattermapbox"
                      }
                    ],
                    "scatterpolar": [
                      {
                        "marker": {
                          "colorbar": {
                            "outlinewidth": 0,
                            "ticks": ""
                          }
                        },
                        "type": "scatterpolar"
                      }
                    ],
                    "scatterpolargl": [
                      {
                        "marker": {
                          "colorbar": {
                            "outlinewidth": 0,
                            "ticks": ""
                          }
                        },
                        "type": "scatterpolargl"
                      }
                    ],
                    "scatterternary": [
                      {
                        "marker": {
                          "colorbar": {
                            "outlinewidth": 0,
                            "ticks": ""
                          }
                        },
                        "type": "scatterternary"
                      }
                    ],
                    "surface": [
                      {
                        "colorbar": {
                          "outlinewidth": 0,
                          "ticks": ""
                        },
                        "colorscale": [
                          [
                            0,
                            "#0d0887"
                          ],
                          [
                            0.1111111111111111,
                            "#46039f"
                          ],
                          [
                            0.2222222222222222,
                            "#7201a8"
                          ],
                          [
                            0.3333333333333333,
                            "#9c179e"
                          ],
                          [
                            0.4444444444444444,
                            "#bd3786"
                          ],
                          [
                            0.5555555555555556,
                            "#d8576b"
                          ],
                          [
                            0.6666666666666666,
                            "#ed7953"
                          ],
                          [
                            0.7777777777777778,
                            "#fb9f3a"
                          ],
                          [
                            0.8888888888888888,
                            "#fdca26"
                          ],
                          [
                            1,
                            "#f0f921"
                          ]
                        ],
                        "type": "surface"
                      }
                    ],
                    "table": [
                      {
                        "cells": {
                          "fill": {
                            "color": "#EBF0F8"
                          },
                          "line": {
                            "color": "white"
                          }
                        },
                        "header": {
                          "fill": {
                            "color": "#C8D4E3"
                          },
                          "line": {
                            "color": "white"
                          }
                        },
                        "type": "table"
                      }
                    ]
                  },
                  "layout": {
                    "annotationdefaults": {
                      "arrowcolor": "#2a3f5f",
                      "arrowhead": 0,
                      "arrowwidth": 1
                    },
                    "autotypenumbers": "strict",
                    "coloraxis": {
                      "colorbar": {
                        "outlinewidth": 0,
                        "ticks": ""
                      }
                    },
                    "colorscale": {
                      "diverging": [
                        [
                          0,
                          "#8e0152"
                        ],
                        [
                          0.1,
                          "#c51b7d"
                        ],
                        [
                          0.2,
                          "#de77ae"
                        ],
                        [
                          0.3,
                          "#f1b6da"
                        ],
                        [
                          0.4,
                          "#fde0ef"
                        ],
                        [
                          0.5,
                          "#f7f7f7"
                        ],
                        [
                          0.6,
                          "#e6f5d0"
                        ],
                        [
                          0.7,
                          "#b8e186"
                        ],
                        [
                          0.8,
                          "#7fbc41"
                        ],
                        [
                          0.9,
                          "#4d9221"
                        ],
                        [
                          1,
                          "#276419"
                        ]
                      ],
                      "sequential": [
                        [
                          0,
                          "#0d0887"
                        ],
                        [
                          0.1111111111111111,
                          "#46039f"
                        ],
                        [
                          0.2222222222222222,
                          "#7201a8"
                        ],
                        [
                          0.3333333333333333,
                          "#9c179e"
                        ],
                        [
                          0.4444444444444444,
                          "#bd3786"
                        ],
                        [
                          0.5555555555555556,
                          "#d8576b"
                        ],
                        [
                          0.6666666666666666,
                          "#ed7953"
                        ],
                        [
                          0.7777777777777778,
                          "#fb9f3a"
                        ],
                        [
                          0.8888888888888888,
                          "#fdca26"
                        ],
                        [
                          1,
                          "#f0f921"
                        ]
                      ],
                      "sequentialminus": [
                        [
                          0,
                          "#0d0887"
                        ],
                        [
                          0.1111111111111111,
                          "#46039f"
                        ],
                        [
                          0.2222222222222222,
                          "#7201a8"
                        ],
                        [
                          0.3333333333333333,
                          "#9c179e"
                        ],
                        [
                          0.4444444444444444,
                          "#bd3786"
                        ],
                        [
                          0.5555555555555556,
                          "#d8576b"
                        ],
                        [
                          0.6666666666666666,
                          "#ed7953"
                        ],
                        [
                          0.7777777777777778,
                          "#fb9f3a"
                        ],
                        [
                          0.8888888888888888,
                          "#fdca26"
                        ],
                        [
                          1,
                          "#f0f921"
                        ]
                      ]
                    },
                    "colorway": [
                      "#636efa",
                      "#EF553B",
                      "#00cc96",
                      "#ab63fa",
                      "#FFA15A",
                      "#19d3f3",
                      "#FF6692",
                      "#B6E880",
                      "#FF97FF",
                      "#FECB52"
                    ],
                    "font": {
                      "color": "#2a3f5f"
                    },
                    "geo": {
                      "bgcolor": "white",
                      "lakecolor": "white",
                      "landcolor": "#E5ECF6",
                      "showlakes": true,
                      "showland": true,
                      "subunitcolor": "white"
                    },
                    "hoverlabel": {
                      "align": "left"
                    },
                    "hovermode": "closest",
                    "mapbox": {
                      "style": "light"
                    },
                    "paper_bgcolor": "white",
                    "plot_bgcolor": "#E5ECF6",
                    "polar": {
                      "angularaxis": {
                        "gridcolor": "white",
                        "linecolor": "white",
                        "ticks": ""
                      },
                      "bgcolor": "#E5ECF6",
                      "radialaxis": {
                        "gridcolor": "white",
                        "linecolor": "white",
                        "ticks": ""
                      }
                    },
                    "scene": {
                      "xaxis": {
                        "backgroundcolor": "#E5ECF6",
                        "gridcolor": "white",
                        "gridwidth": 2,
                        "linecolor": "white",
                        "showbackground": true,
                        "ticks": "",
                        "zerolinecolor": "white"
                      },
                      "yaxis": {
                        "backgroundcolor": "#E5ECF6",
                        "gridcolor": "white",
                        "gridwidth": 2,
                        "linecolor": "white",
                        "showbackground": true,
                        "ticks": "",
                        "zerolinecolor": "white"
                      },
                      "zaxis": {
                        "backgroundcolor": "#E5ECF6",
                        "gridcolor": "white",
                        "gridwidth": 2,
                        "linecolor": "white",
                        "showbackground": true,
                        "ticks": "",
                        "zerolinecolor": "white"
                      }
                    },
                    "shapedefaults": {
                      "line": {
                        "color": "#2a3f5f"
                      }
                    },
                    "ternary": {
                      "aaxis": {
                        "gridcolor": "white",
                        "linecolor": "white",
                        "ticks": ""
                      },
                      "baxis": {
                        "gridcolor": "white",
                        "linecolor": "white",
                        "ticks": ""
                      },
                      "bgcolor": "#E5ECF6",
                      "caxis": {
                        "gridcolor": "white",
                        "linecolor": "white",
                        "ticks": ""
                      }
                    },
                    "title": {
                      "x": 0.05
                    },
                    "xaxis": {
                      "automargin": true,
                      "gridcolor": "white",
                      "linecolor": "white",
                      "ticks": "",
                      "title": {
                        "standoff": 15
                      },
                      "zerolinecolor": "white",
                      "zerolinewidth": 2
                    },
                    "yaxis": {
                      "automargin": true,
                      "gridcolor": "white",
                      "linecolor": "white",
                      "ticks": "",
                      "title": {
                        "standoff": 15
                      },
                      "zerolinecolor": "white",
                      "zerolinewidth": 2
                    }
                  }
                },
                "title": {
                  "text": "Distribution Of 100480507 Netflix-Ratings"
                },
                "xaxis": {
                  "title": {
                    "text": "Rating"
                  }
                },
                "yaxis": {
                  "title": {
                    "text": "Count"
                  }
                }
              }
            },
            "text/html": [
              "<div>                            <div id=\"53c36ecc-1f6b-4464-ae6c-841c51b6e801\" class=\"plotly-graph-div\" style=\"height:525px; width:100%;\"></div>            <script type=\"text/javascript\">                require([\"plotly\"], function(Plotly) {                    window.PLOTLYENV=window.PLOTLYENV || {};                                    if (document.getElementById(\"53c36ecc-1f6b-4464-ae6c-841c51b6e801\")) {                    Plotly.newPlot(                        \"53c36ecc-1f6b-4464-ae6c-841c51b6e801\",                        [{\"marker\":{\"color\":\"#db0000\"},\"text\":[\"23.1 %\",\"33.6 %\",\"28.7 %\",\"10.1 %\",\"4.6 %\"],\"textfont\":{\"color\":\"#000000\"},\"textposition\":\"auto\",\"x\":[5.0,4.0,3.0,2.0,1.0],\"y\":[23168232,33750958,28811247,10132080,4617990],\"type\":\"bar\"}],                        {\"template\":{\"data\":{\"barpolar\":[{\"marker\":{\"line\":{\"color\":\"#E5ECF6\",\"width\":0.5},\"pattern\":{\"fillmode\":\"overlay\",\"size\":10,\"solidity\":0.2}},\"type\":\"barpolar\"}],\"bar\":[{\"error_x\":{\"color\":\"#2a3f5f\"},\"error_y\":{\"color\":\"#2a3f5f\"},\"marker\":{\"line\":{\"color\":\"#E5ECF6\",\"width\":0.5},\"pattern\":{\"fillmode\":\"overlay\",\"size\":10,\"solidity\":0.2}},\"type\":\"bar\"}],\"carpet\":[{\"aaxis\":{\"endlinecolor\":\"#2a3f5f\",\"gridcolor\":\"white\",\"linecolor\":\"white\",\"minorgridcolor\":\"white\",\"startlinecolor\":\"#2a3f5f\"},\"baxis\":{\"endlinecolor\":\"#2a3f5f\",\"gridcolor\":\"white\",\"linecolor\":\"white\",\"minorgridcolor\":\"white\",\"startlinecolor\":\"#2a3f5f\"},\"type\":\"carpet\"}],\"choropleth\":[{\"colorbar\":{\"outlinewidth\":0,\"ticks\":\"\"},\"type\":\"choropleth\"}],\"contourcarpet\":[{\"colorbar\":{\"outlinewidth\":0,\"ticks\":\"\"},\"type\":\"contourcarpet\"}],\"contour\":[{\"colorbar\":{\"outlinewidth\":0,\"ticks\":\"\"},\"colorscale\":[[0.0,\"#0d0887\"],[0.1111111111111111,\"#46039f\"],[0.2222222222222222,\"#7201a8\"],[0.3333333333333333,\"#9c179e\"],[0.4444444444444444,\"#bd3786\"],[0.5555555555555556,\"#d8576b\"],[0.6666666666666666,\"#ed7953\"],[0.7777777777777778,\"#fb9f3a\"],[0.8888888888888888,\"#fdca26\"],[1.0,\"#f0f921\"]],\"type\":\"contour\"}],\"heatmapgl\":[{\"colorbar\":{\"outlinewidth\":0,\"ticks\":\"\"},\"colorscale\":[[0.0,\"#0d0887\"],[0.1111111111111111,\"#46039f\"],[0.2222222222222222,\"#7201a8\"],[0.3333333333333333,\"#9c179e\"],[0.4444444444444444,\"#bd3786\"],[0.5555555555555556,\"#d8576b\"],[0.6666666666666666,\"#ed7953\"],[0.7777777777777778,\"#fb9f3a\"],[0.8888888888888888,\"#fdca26\"],[1.0,\"#f0f921\"]],\"type\":\"heatmapgl\"}],\"heatmap\":[{\"colorbar\":{\"outlinewidth\":0,\"ticks\":\"\"},\"colorscale\":[[0.0,\"#0d0887\"],[0.1111111111111111,\"#46039f\"],[0.2222222222222222,\"#7201a8\"],[0.3333333333333333,\"#9c179e\"],[0.4444444444444444,\"#bd3786\"],[0.5555555555555556,\"#d8576b\"],[0.6666666666666666,\"#ed7953\"],[0.7777777777777778,\"#fb9f3a\"],[0.8888888888888888,\"#fdca26\"],[1.0,\"#f0f921\"]],\"type\":\"heatmap\"}],\"histogram2dcontour\":[{\"colorbar\":{\"outlinewidth\":0,\"ticks\":\"\"},\"colorscale\":[[0.0,\"#0d0887\"],[0.1111111111111111,\"#46039f\"],[0.2222222222222222,\"#7201a8\"],[0.3333333333333333,\"#9c179e\"],[0.4444444444444444,\"#bd3786\"],[0.5555555555555556,\"#d8576b\"],[0.6666666666666666,\"#ed7953\"],[0.7777777777777778,\"#fb9f3a\"],[0.8888888888888888,\"#fdca26\"],[1.0,\"#f0f921\"]],\"type\":\"histogram2dcontour\"}],\"histogram2d\":[{\"colorbar\":{\"outlinewidth\":0,\"ticks\":\"\"},\"colorscale\":[[0.0,\"#0d0887\"],[0.1111111111111111,\"#46039f\"],[0.2222222222222222,\"#7201a8\"],[0.3333333333333333,\"#9c179e\"],[0.4444444444444444,\"#bd3786\"],[0.5555555555555556,\"#d8576b\"],[0.6666666666666666,\"#ed7953\"],[0.7777777777777778,\"#fb9f3a\"],[0.8888888888888888,\"#fdca26\"],[1.0,\"#f0f921\"]],\"type\":\"histogram2d\"}],\"histogram\":[{\"marker\":{\"pattern\":{\"fillmode\":\"overlay\",\"size\":10,\"solidity\":0.2}},\"type\":\"histogram\"}],\"mesh3d\":[{\"colorbar\":{\"outlinewidth\":0,\"ticks\":\"\"},\"type\":\"mesh3d\"}],\"parcoords\":[{\"line\":{\"colorbar\":{\"outlinewidth\":0,\"ticks\":\"\"}},\"type\":\"parcoords\"}],\"pie\":[{\"automargin\":true,\"type\":\"pie\"}],\"scatter3d\":[{\"line\":{\"colorbar\":{\"outlinewidth\":0,\"ticks\":\"\"}},\"marker\":{\"colorbar\":{\"outlinewidth\":0,\"ticks\":\"\"}},\"type\":\"scatter3d\"}],\"scattercarpet\":[{\"marker\":{\"colorbar\":{\"outlinewidth\":0,\"ticks\":\"\"}},\"type\":\"scattercarpet\"}],\"scattergeo\":[{\"marker\":{\"colorbar\":{\"outlinewidth\":0,\"ticks\":\"\"}},\"type\":\"scattergeo\"}],\"scattergl\":[{\"marker\":{\"colorbar\":{\"outlinewidth\":0,\"ticks\":\"\"}},\"type\":\"scattergl\"}],\"scattermapbox\":[{\"marker\":{\"colorbar\":{\"outlinewidth\":0,\"ticks\":\"\"}},\"type\":\"scattermapbox\"}],\"scatterpolargl\":[{\"marker\":{\"colorbar\":{\"outlinewidth\":0,\"ticks\":\"\"}},\"type\":\"scatterpolargl\"}],\"scatterpolar\":[{\"marker\":{\"colorbar\":{\"outlinewidth\":0,\"ticks\":\"\"}},\"type\":\"scatterpolar\"}],\"scatter\":[{\"marker\":{\"colorbar\":{\"outlinewidth\":0,\"ticks\":\"\"}},\"type\":\"scatter\"}],\"scatterternary\":[{\"marker\":{\"colorbar\":{\"outlinewidth\":0,\"ticks\":\"\"}},\"type\":\"scatterternary\"}],\"surface\":[{\"colorbar\":{\"outlinewidth\":0,\"ticks\":\"\"},\"colorscale\":[[0.0,\"#0d0887\"],[0.1111111111111111,\"#46039f\"],[0.2222222222222222,\"#7201a8\"],[0.3333333333333333,\"#9c179e\"],[0.4444444444444444,\"#bd3786\"],[0.5555555555555556,\"#d8576b\"],[0.6666666666666666,\"#ed7953\"],[0.7777777777777778,\"#fb9f3a\"],[0.8888888888888888,\"#fdca26\"],[1.0,\"#f0f921\"]],\"type\":\"surface\"}],\"table\":[{\"cells\":{\"fill\":{\"color\":\"#EBF0F8\"},\"line\":{\"color\":\"white\"}},\"header\":{\"fill\":{\"color\":\"#C8D4E3\"},\"line\":{\"color\":\"white\"}},\"type\":\"table\"}]},\"layout\":{\"annotationdefaults\":{\"arrowcolor\":\"#2a3f5f\",\"arrowhead\":0,\"arrowwidth\":1},\"autotypenumbers\":\"strict\",\"coloraxis\":{\"colorbar\":{\"outlinewidth\":0,\"ticks\":\"\"}},\"colorscale\":{\"diverging\":[[0,\"#8e0152\"],[0.1,\"#c51b7d\"],[0.2,\"#de77ae\"],[0.3,\"#f1b6da\"],[0.4,\"#fde0ef\"],[0.5,\"#f7f7f7\"],[0.6,\"#e6f5d0\"],[0.7,\"#b8e186\"],[0.8,\"#7fbc41\"],[0.9,\"#4d9221\"],[1,\"#276419\"]],\"sequential\":[[0.0,\"#0d0887\"],[0.1111111111111111,\"#46039f\"],[0.2222222222222222,\"#7201a8\"],[0.3333333333333333,\"#9c179e\"],[0.4444444444444444,\"#bd3786\"],[0.5555555555555556,\"#d8576b\"],[0.6666666666666666,\"#ed7953\"],[0.7777777777777778,\"#fb9f3a\"],[0.8888888888888888,\"#fdca26\"],[1.0,\"#f0f921\"]],\"sequentialminus\":[[0.0,\"#0d0887\"],[0.1111111111111111,\"#46039f\"],[0.2222222222222222,\"#7201a8\"],[0.3333333333333333,\"#9c179e\"],[0.4444444444444444,\"#bd3786\"],[0.5555555555555556,\"#d8576b\"],[0.6666666666666666,\"#ed7953\"],[0.7777777777777778,\"#fb9f3a\"],[0.8888888888888888,\"#fdca26\"],[1.0,\"#f0f921\"]]},\"colorway\":[\"#636efa\",\"#EF553B\",\"#00cc96\",\"#ab63fa\",\"#FFA15A\",\"#19d3f3\",\"#FF6692\",\"#B6E880\",\"#FF97FF\",\"#FECB52\"],\"font\":{\"color\":\"#2a3f5f\"},\"geo\":{\"bgcolor\":\"white\",\"lakecolor\":\"white\",\"landcolor\":\"#E5ECF6\",\"showlakes\":true,\"showland\":true,\"subunitcolor\":\"white\"},\"hoverlabel\":{\"align\":\"left\"},\"hovermode\":\"closest\",\"mapbox\":{\"style\":\"light\"},\"paper_bgcolor\":\"white\",\"plot_bgcolor\":\"#E5ECF6\",\"polar\":{\"angularaxis\":{\"gridcolor\":\"white\",\"linecolor\":\"white\",\"ticks\":\"\"},\"bgcolor\":\"#E5ECF6\",\"radialaxis\":{\"gridcolor\":\"white\",\"linecolor\":\"white\",\"ticks\":\"\"}},\"scene\":{\"xaxis\":{\"backgroundcolor\":\"#E5ECF6\",\"gridcolor\":\"white\",\"gridwidth\":2,\"linecolor\":\"white\",\"showbackground\":true,\"ticks\":\"\",\"zerolinecolor\":\"white\"},\"yaxis\":{\"backgroundcolor\":\"#E5ECF6\",\"gridcolor\":\"white\",\"gridwidth\":2,\"linecolor\":\"white\",\"showbackground\":true,\"ticks\":\"\",\"zerolinecolor\":\"white\"},\"zaxis\":{\"backgroundcolor\":\"#E5ECF6\",\"gridcolor\":\"white\",\"gridwidth\":2,\"linecolor\":\"white\",\"showbackground\":true,\"ticks\":\"\",\"zerolinecolor\":\"white\"}},\"shapedefaults\":{\"line\":{\"color\":\"#2a3f5f\"}},\"ternary\":{\"aaxis\":{\"gridcolor\":\"white\",\"linecolor\":\"white\",\"ticks\":\"\"},\"baxis\":{\"gridcolor\":\"white\",\"linecolor\":\"white\",\"ticks\":\"\"},\"bgcolor\":\"#E5ECF6\",\"caxis\":{\"gridcolor\":\"white\",\"linecolor\":\"white\",\"ticks\":\"\"}},\"title\":{\"x\":0.05},\"xaxis\":{\"automargin\":true,\"gridcolor\":\"white\",\"linecolor\":\"white\",\"ticks\":\"\",\"title\":{\"standoff\":15},\"zerolinecolor\":\"white\",\"zerolinewidth\":2},\"yaxis\":{\"automargin\":true,\"gridcolor\":\"white\",\"linecolor\":\"white\",\"ticks\":\"\",\"title\":{\"standoff\":15},\"zerolinecolor\":\"white\",\"zerolinewidth\":2}}},\"title\":{\"text\":\"Distribution Of 100480507 Netflix-Ratings\"},\"xaxis\":{\"title\":{\"text\":\"Rating\"}},\"yaxis\":{\"title\":{\"text\":\"Count\"}}},                        {\"responsive\": true}                    ).then(function(){\n",
              "                            \n",
              "var gd = document.getElementById('53c36ecc-1f6b-4464-ae6c-841c51b6e801');\n",
              "var x = new MutationObserver(function (mutations, observer) {{\n",
              "        var display = window.getComputedStyle(gd).display;\n",
              "        if (!display || display === 'none') {{\n",
              "            console.log([gd, 'removed!']);\n",
              "            Plotly.purge(gd);\n",
              "            observer.disconnect();\n",
              "        }}\n",
              "}});\n",
              "\n",
              "// Listen for the removal of the full notebook cells\n",
              "var notebookContainer = gd.closest('#notebook-container');\n",
              "if (notebookContainer) {{\n",
              "    x.observe(notebookContainer, {childList: true});\n",
              "}}\n",
              "\n",
              "// Listen for the clearing of the current output cell\n",
              "var outputEl = gd.closest('.output');\n",
              "if (outputEl) {{\n",
              "    x.observe(outputEl, {childList: true});\n",
              "}}\n",
              "\n",
              "                        })                };                });            </script>        </div>"
            ]
          },
          "metadata": {},
          "output_type": "display_data"
        }
      ],
      "source": [
        "# Get data\n",
        "data = df['Rating'].value_counts().sort_index(ascending=False)\n",
        "\n",
        "# Create trace\n",
        "trace = go.Bar(x = data.index,\n",
        "               text = ['{:.1f} %'.format(val) for val in (data.values / df.shape[0] * 100)],\n",
        "               textposition = 'auto',\n",
        "               textfont = dict(color = '#000000'),\n",
        "               y = data.values,\n",
        "               marker = dict(color = '#db0000'))\n",
        "# Create layout\n",
        "layout = dict(title = 'Distribution Of {} Netflix-Ratings'.format(df.shape[0]),\n",
        "              xaxis = dict(title = 'Rating'),\n",
        "              yaxis = dict(title = 'Count'))\n",
        "# Create plot\n",
        "fig = go.Figure(data=[trace], layout=layout)\n",
        "iplot(fig)"
      ]
    },
    {
      "cell_type": "markdown",
      "metadata": {
        "_uuid": "e267ef1d8da173d09a58d608abb10464fbdaebd8",
        "id": "IjRPnoDPLTcB"
      },
      "source": [
        "Netflix movies rarely have a rating lower than three. **Most ratings have between three and four stars.**<br>\n",
        "The distribution is probably biased, since only people liking the movies proceed to be customers and others presumably will leave the platform.\n",
        "\n",
        "***\n",
        "## <a id=6>6. When Have The Movies Been Rated?</a>"
      ]
    },
    {
      "cell_type": "code",
      "execution_count": null,
      "metadata": {
        "_kg_hide-input": true,
        "_uuid": "01715aac6dcf41bb1f7710d11a3b2fe6fa23452a",
        "id": "LkcpXCXcLTcC",
        "trusted": true
      },
      "outputs": [],
      "source": [
        "# Get data\n",
        "data = df['Date'].value_counts()\n",
        "data.index = pd.to_datetime(data.index)\n",
        "data.sort_index(inplace=True)\n",
        "\n",
        "# Create trace\n",
        "trace = go.Scatter(x = data.index,\n",
        "                   y = data.values,\n",
        "                   marker = dict(color = '#db0000'))\n",
        "# Create layout\n",
        "layout = dict(title = '{} Movie-Ratings Grouped By Day'.format(df.shape[0]),\n",
        "              xaxis = dict(title = 'Date'),\n",
        "              yaxis = dict(title = 'Ratings'))\n",
        "\n",
        "# Create plot\n",
        "fig = go.Figure(data=[trace], layout=layout)\n",
        "iplot(fig)"
      ]
    },
    {
      "cell_type": "markdown",
      "metadata": {
        "_uuid": "bf62da3fdcd4dd0f3a86195304cad7e49584cf04",
        "id": "-9k9LX8LLTcC"
      },
      "source": [
        "With beginning of november 2005  a strange decline in ratings can be observed. Furthermore two unnormal peaks are in january and april 2005.\n",
        "\n",
        "***\n",
        "## <a id=7>7. How Are The Number Of Ratings Distributed For The Movies And The Users?</a>\n",
        "\n"
      ]
    },
    {
      "cell_type": "code",
      "execution_count": null,
      "metadata": {
        "_kg_hide-input": true,
        "_uuid": "dd565fcb447b8a68d9e6874858ed2d942da85ca2",
        "id": "KosmVo39LTcC",
        "trusted": true
      },
      "outputs": [],
      "source": [
        "##### Ratings Per Movie #####\n",
        "# Get data\n",
        "data = df.groupby('Movie')['Rating'].count().clip(upper=9999)\n",
        "\n",
        "# Create trace\n",
        "trace = go.Histogram(x = data.values,\n",
        "                     name = 'Ratings',\n",
        "                     xbins = dict(start = 0,\n",
        "                                  end = 10000,\n",
        "                                  size = 100),\n",
        "                     marker = dict(color = '#db0000'))\n",
        "# Create layout\n",
        "layout = go.Layout(title = 'Distribution Of Ratings Per Movie (Clipped at 9999)',\n",
        "                   xaxis = dict(title = 'Ratings Per Movie'),\n",
        "                   yaxis = dict(title = 'Count'),\n",
        "                   bargap = 0.2)\n",
        "\n",
        "# Create plot\n",
        "fig = go.Figure(data=[trace], layout=layout)\n",
        "iplot(fig)\n",
        "\n",
        "\n",
        "\n",
        "##### Ratings Per User #####\n",
        "# Get data\n",
        "data = df.groupby('User')['Rating'].count().clip(upper=199)\n",
        "\n",
        "# Create trace\n",
        "trace = go.Histogram(x = data.values,\n",
        "                     name = 'Ratings',\n",
        "                     xbins = dict(start = 0,\n",
        "                                  end = 200,\n",
        "                                  size = 2),\n",
        "                     marker = dict(color = '#db0000'))\n",
        "# Create layout\n",
        "layout = go.Layout(title = 'Distribution Of Ratings Per User (Clipped at 199)',\n",
        "                   xaxis = dict(title = 'Ratings Per User'),\n",
        "                   yaxis = dict(title = 'Count'),\n",
        "                   bargap = 0.2)\n",
        "\n",
        "# Create plot\n",
        "fig = go.Figure(data=[trace], layout=layout)\n",
        "iplot(fig)"
      ]
    },
    {
      "cell_type": "markdown",
      "metadata": {
        "_uuid": "794bdbd7ce4aae6b3a6f6c00fdfe2d77a25a2c21",
        "id": "not1IYciLTcD"
      },
      "source": [
        "The ratings per movie as well as the ratings per user both have nearly a perfect **exponential decay**. Only very few \n",
        "movies/users have many ratings. \n",
        "\n",
        "***\n",
        "## <a id=8>8. Filter Sparse Movies And Users</a>\n",
        "\n",
        "To reduce the dimensionality of the dataset I am filtering rarely rated movies and rarely rating users out."
      ]
    },
    {
      "cell_type": "code",
      "execution_count": null,
      "metadata": {
        "_kg_hide-input": true,
        "_uuid": "6823a75ca1ef06ad4ecc24538f50094493cf5444",
        "id": "y7MFpdyVLTcE",
        "trusted": true
      },
      "outputs": [],
      "source": [
        "# Filter sparse movies\n",
        "min_movie_ratings = 10000\n",
        "filter_movies = (df['Movie'].value_counts()>min_movie_ratings)\n",
        "filter_movies = filter_movies[filter_movies].index.tolist()\n",
        "\n",
        "# Filter sparse users\n",
        "min_user_ratings = 200\n",
        "filter_users = (df['User'].value_counts()>min_user_ratings)\n",
        "filter_users = filter_users[filter_users].index.tolist()\n",
        "\n",
        "# Actual filtering\n",
        "df_filterd = df[(df['Movie'].isin(filter_movies)) & (df['User'].isin(filter_users))]\n",
        "del filter_movies, filter_users, min_movie_ratings, min_user_ratings\n",
        "print('Shape User-Ratings unfiltered:\\t{}'.format(df.shape))\n",
        "print('Shape User-Ratings filtered:\\t{}'.format(df_filterd.shape))"
      ]
    },
    {
      "cell_type": "markdown",
      "metadata": {
        "_uuid": "2e41a6237e811e7ff9f1052f49ddac0e8a782145",
        "id": "h6z7K_WRLTcE"
      },
      "source": [
        "After filtering sparse movies and users about **4.200.000 ratings** are left.\n",
        "\n",
        "***\n",
        "## <a id=9>9. Create Train- And Testset</a>"
      ]
    },
    {
      "cell_type": "code",
      "execution_count": null,
      "metadata": {
        "_kg_hide-input": true,
        "_uuid": "5d286e3c457b425123827ccd8ab50eb62cf83530",
        "id": "1KD6fg-_LTcF",
        "trusted": true
      },
      "outputs": [],
      "source": [
        "# Shuffle DataFrame\n",
        "df_filterd = df_filterd.drop('Date', axis=1).sample(frac=1).reset_index(drop=True)\n",
        "\n",
        "# Testingsize\n",
        "n = 100000\n",
        "\n",
        "# Split train- & testset\n",
        "df_train = df_filterd[:-n]\n",
        "df_test = df_filterd[-n:]"
      ]
    },
    {
      "cell_type": "markdown",
      "metadata": {
        "_uuid": "b574d9a5f28c6ef9e3fb5f016d3a32aa0d0f8c8a",
        "id": "43r0TqA6LTcF"
      },
      "source": [
        "The trainset will be used to train all models and the **testset ensures comparibility** between all models with the **RMSE metric.**\n",
        "\n",
        "***\n",
        "## <a id=10>10. Transform The User-Ratings To User-Movie-Matrix</a>\n",
        "\n",
        "A **large, sparse matrix** will be created in this step. Each **row will represent a user** and its ratings and the **columns are the movies.**<br>\n",
        "The interesting entries are the empty values in the matrix. \n",
        "\n",
        "**Empty values are unrated movies and could contain high values** and therefore should be good recommendations for the respective user.<br>\n",
        "The objective is to **estimate the empty values** to help our users."
      ]
    },
    {
      "cell_type": "code",
      "execution_count": null,
      "metadata": {
        "_kg_hide-input": true,
        "_uuid": "a3a71c8f19e9f09ad07965cf2ee59a47b472b278",
        "id": "2rIoAKG-LTcG",
        "trusted": true
      },
      "outputs": [],
      "source": [
        "# Create a user-movie matrix with empty values\n",
        "df_p = df_train.pivot_table(index='User', columns='Movie', values='Rating')\n",
        "print('Shape User-Movie-Matrix:\\t{}'.format(df_p.shape))\n",
        "df_p.sample(3)"
      ]
    },
    {
      "cell_type": "markdown",
      "metadata": {
        "_uuid": "ce83987af321fe8482d8ce49096caa8027dd2dcd",
        "id": "v0KU7PFQLTcG"
      },
      "source": [
        "***\n",
        "## <a id=11>11. Recommendation Engines</a>\n",
        "### <a id=11.1>11.1. Mean Rating</a>\n",
        "\n",
        "Computing the **mean rating for all movies** creates a ranking. The recommendation will be the same for all users and can be **used if there is no information on the user.**<br>\n",
        "Variations of this approach can be separate rankings for each country/year/gender/... and to use them individually to recommend movies/items to the user.\n",
        "\n",
        "It has to be noted that this approach is **biased and favours movies with fewer ratings**, since large numbers of ratings tend to be less extreme in its mean ratings."
      ]
    },
    {
      "cell_type": "code",
      "execution_count": null,
      "metadata": {
        "_kg_hide-input": true,
        "_uuid": "eb48a9898724f5c3237fd6fd2f897057f4a325a4",
        "id": "FGxyPFjnLTcG",
        "trusted": true
      },
      "outputs": [],
      "source": [
        "# Top n movies\n",
        "n = 10\n",
        "\n",
        "# Compute mean rating for all movies\n",
        "ratings_mean = df_p.mean(axis=0).sort_values(ascending=False).rename('Rating-Mean').to_frame()\n",
        "\n",
        "# Count ratings for all movies\n",
        "ratings_count = df_p.count(axis=0).rename('Rating-Count').to_frame()\n",
        "\n",
        "# Combine ratings_mean, ratings_count and movie_titles\n",
        "ranking_mean_rating = ratings_mean.head(n).join(ratings_count).join(movie_titles.drop('Year', axis=1))\n",
        "\n",
        "\n",
        "# Join labels and predictions\n",
        "df_prediction = df_test.set_index('Movie').join(ratings_mean)[['Rating', 'Rating-Mean']]\n",
        "y_true = df_prediction['Rating']\n",
        "y_pred = df_prediction['Rating-Mean']\n",
        "\n",
        "# Compute RMSE\n",
        "rmse = np.sqrt(mean_squared_error(y_true=y_true, y_pred=y_pred))\n",
        "\n",
        "\n",
        "# Create trace\n",
        "trace = go.Bar(x = ranking_mean_rating['Rating-Mean'],\n",
        "               text = ranking_mean_rating['Name'].astype(str) +': '+ ranking_mean_rating['Rating-Count'].astype(str) + ' Ratings',\n",
        "               textposition = 'outside',\n",
        "               textfont = dict(color = '#000000'),\n",
        "               orientation = 'h',\n",
        "               y = list(range(1, n+1)),\n",
        "               marker = dict(color = '#db0000'))\n",
        "# Create layout\n",
        "layout = dict(title = 'Ranking Of Top {} Mean-Movie-Ratings: {:.4f} RMSE'.format(n, rmse),\n",
        "              xaxis = dict(title = 'Mean-Rating',\n",
        "                          range = (4.3, 4.55)),\n",
        "              yaxis = dict(title = 'Movie'))\n",
        "# Create plot\n",
        "fig = go.Figure(data=[trace], layout=layout)\n",
        "iplot(fig)"
      ]
    },
    {
      "cell_type": "markdown",
      "metadata": {
        "_uuid": "ebd575a6899487e35c72c96b11b63e3370ad11a9",
        "id": "Scvwd7obLTcH",
        "trusted": true
      },
      "source": [
        "### <a id=11.2>11..2. Weighted Mean Rating</a>\n",
        "\n",
        "To tackle the problem of the unstable mean with few ratings **e.g. IDMb uses a weighted rating.** Many good ratings outweigh few in this algorithm. \n"
      ]
    },
    {
      "cell_type": "code",
      "execution_count": null,
      "metadata": {
        "_kg_hide-input": true,
        "_uuid": "cbb3cba67ddc0afba3d8472671386a722f6b0ac6",
        "id": "eAb_4gGfLTcH",
        "trusted": true
      },
      "outputs": [],
      "source": [
        "# Number of minimum votes to be considered\n",
        "m = 1000\n",
        "\n",
        "# Mean rating for all movies\n",
        "C = df_p.stack().mean()\n",
        "\n",
        "# Mean rating for all movies separatly\n",
        "R = df_p.mean(axis=0).values\n",
        "\n",
        "# Rating count for all movies separatly\n",
        "v = df_p.count().values\n",
        "\n",
        "\n",
        "# Weighted formula to compute the weighted rating\n",
        "weighted_score = (v/ (v+m) *R) + (m/ (v+m) *C)\n",
        "# Sort ids to ranking\n",
        "weighted_ranking = np.argsort(weighted_score)[::-1]\n",
        "# Sort scores to ranking\n",
        "weighted_score = np.sort(weighted_score)[::-1]\n",
        "# Get movie ids\n",
        "weighted_movie_ids = df_p.columns[weighted_ranking]\n",
        "\n",
        "\n",
        "# Join labels and predictions\n",
        "df_prediction = df_test.set_index('Movie').join(pd.DataFrame(weighted_score, index=weighted_movie_ids, columns=['Prediction']))[['Rating', 'Prediction']]\n",
        "y_true = df_prediction['Rating']\n",
        "y_pred = df_prediction['Prediction']\n",
        "\n",
        "# Compute RMSE\n",
        "rmse = np.sqrt(mean_squared_error(y_true=y_true, y_pred=y_pred))\n",
        "\n",
        "\n",
        "# Create DataFrame for plotting\n",
        "df_plot = pd.DataFrame(weighted_score[:n], columns=['Rating'])\n",
        "df_plot.index = weighted_movie_ids[:10]\n",
        "ranking_weighted_rating = df_plot.join(ratings_count).join(movie_titles)\n",
        "del df_plot\n",
        "\n",
        "\n",
        "# Create trace\n",
        "trace = go.Bar(x = ranking_weighted_rating['Rating'],\n",
        "               text = ranking_weighted_rating['Name'].astype(str) +': '+ ranking_weighted_rating['Rating-Count'].astype(str) + ' Ratings',\n",
        "               textposition = 'outside',\n",
        "               textfont = dict(color = '#000000'),\n",
        "               orientation = 'h',\n",
        "               y = list(range(1, n+1)),\n",
        "               marker = dict(color = '#db0000'))\n",
        "# Create layout\n",
        "layout = dict(title = 'Ranking Of Top {} Weighted-Movie-Ratings: {:.4f} RMSE'.format(n, rmse),\n",
        "              xaxis = dict(title = 'Weighted Rating',\n",
        "                          range = (4.15, 4.6)),\n",
        "              yaxis = dict(title = 'Movie'))\n",
        "# Create plot\n",
        "fig = go.Figure(data=[trace], layout=layout)\n",
        "iplot(fig)"
      ]
    },
    {
      "cell_type": "markdown",
      "metadata": {
        "_uuid": "1ab47c8afa6b5273fbb7e5eeb7a7020d024d8f72",
        "id": "RWD19ZRRLTcH"
      },
      "source": [
        "The variable **\"m\" can be seen as regularizing parameter.** Changing it determines how  much weight is put onto the movies with many ratings.<br>\n",
        "Even if there is a better ranking the RMSE decreased slightly. There is a **trade-off between interpretability and predictive power.**\n",
        "\n",
        "### <a id=11.3>11.3. Cosine User-User Similarity</a>\n",
        "\n",
        "Interpreting each row of the matrix as a vector, a similarity between all user-vectors can be computed. This enables us to find all similar users and to work on user-specific recommendations. **Recommending high rated movies of similar users** to a specific user seems reasonable.<br>\n",
        "Since there are still empty values left in the matrix, we have to use a reliable way to impute a decent value. A simple first approach is to **fill in the mean of each user into the empty values.**<br>\n",
        "Afterwards the **ratings of all similar users will be weighted with their similarity score and the mean will be computed.** Filtering for the unrated movies of a user reveals the best recommendations.<br>\n",
        "You can easily adapt this process to find similar items by computing the item-item similarity the same way. Since the matrix is mostly sparse and there are more users than items, this could be better for the RMSE score."
      ]
    },
    {
      "cell_type": "code",
      "execution_count": null,
      "metadata": {
        "_kg_hide-input": true,
        "_uuid": "b7a0087073ffa35b4913894c13ab7878dda53ecb",
        "id": "WFAWNI8dLTcH",
        "trusted": true
      },
      "outputs": [],
      "source": [
        "# User index for recommendation\n",
        "user_index = 0\n",
        "\n",
        "# Number of similar users for recommendation\n",
        "n_recommendation = 100\n",
        "\n",
        "# Plot top n recommendations\n",
        "n_plot = 10\n",
        "\n",
        "\n",
        "# Fill in missing values\n",
        "df_p_imputed = df_p.T.fillna(df_p.mean(axis=1)).T\n",
        "\n",
        "# Compute similarity between all users\n",
        "similarity = cosine_similarity(df_p_imputed.values)\n",
        "\n",
        "# Remove self-similarity from similarity-matrix\n",
        "similarity -= np.eye(similarity.shape[0])\n",
        "\n",
        "\n",
        "# Sort similar users by index\n",
        "similar_user_index = np.argsort(similarity[user_index])[::-1]\n",
        "# Sort similar users by score\n",
        "similar_user_score = np.sort(similarity[user_index])[::-1]\n",
        "\n",
        "\n",
        "# Get unrated movies\n",
        "unrated_movies = df_p.iloc[user_index][df_p.iloc[user_index].isna()].index\n",
        "\n",
        "# Weight ratings of the top n most similar users with their rating and compute the mean for each movie\n",
        "mean_movie_recommendations = (df_p_imputed.iloc[similar_user_index[:n_recommendation]].T * similar_user_score[:n_recommendation]).T.mean(axis=0)\n",
        "\n",
        "# Filter for unrated movies and sort results\n",
        "best_movie_recommendations = mean_movie_recommendations[unrated_movies].sort_values(ascending=False).to_frame().join(movie_titles)\n",
        "\n",
        "\n",
        "# Create user-id mapping\n",
        "user_id_mapping = {id:i for i, id in enumerate(df_p_imputed.index)}\n",
        "\n",
        "prediction = []\n",
        "# Iterate over all testset items\n",
        "for user_id in df_test['User'].unique():\n",
        "    \n",
        "    # Sort similar users by index\n",
        "    similar_user_index = np.argsort(similarity[user_id_mapping[user_id]])[::-1]\n",
        "    # Sort similar users by score\n",
        "    similar_user_score = np.sort(similarity[user_id_mapping[user_id]])[::-1]\n",
        "    \n",
        "    for movie_id in df_test[df_test['User']==user_id]['Movie'].values:\n",
        "\n",
        "        # Compute predicted score\n",
        "        score = (df_p_imputed.iloc[similar_user_index[:n_recommendation]][movie_id] * similar_user_score[:n_recommendation]).values.sum() / similar_user_score[:n_recommendation].sum()\n",
        "        prediction.append([user_id, movie_id, score])\n",
        "        \n",
        "\n",
        "# Create prediction DataFrame\n",
        "df_pred = pd.DataFrame(prediction, columns=['User', 'Movie', 'Prediction']).set_index(['User', 'Movie'])\n",
        "df_pred = df_test.set_index(['User', 'Movie']).join(df_pred)\n",
        "\n",
        "\n",
        "# Get labels and predictions\n",
        "y_true = df_pred['Rating'].values\n",
        "y_pred = df_pred['Prediction'].values\n",
        "\n",
        "# Compute RMSE\n",
        "rmse = np.sqrt(mean_squared_error(y_true=y_true, y_pred=y_pred))\n",
        "\n",
        "\n",
        "# Create trace\n",
        "trace = go.Bar(x = best_movie_recommendations.iloc[:n_plot, 0],\n",
        "               text = best_movie_recommendations['Name'],\n",
        "               textposition = 'inside',\n",
        "               textfont = dict(color = '#000000'),\n",
        "               orientation = 'h',\n",
        "               y = list(range(1, n_plot+1)),\n",
        "               marker = dict(color = '#db0000'))\n",
        "# Create layout\n",
        "layout = dict(title = 'Ranking Of Top {} Recommended Movies For A User Based On Similarity: {:.4f} RMSE'.format(n_plot, rmse),\n",
        "              xaxis = dict(title = 'Recommendation-Rating',\n",
        "                           range = (4.1, 4.5)),\n",
        "              yaxis = dict(title = 'Movie'))\n",
        "# Create plot\n",
        "fig = go.Figure(data=[trace], layout=layout)\n",
        "iplot(fig)"
      ]
    },
    {
      "cell_type": "markdown",
      "metadata": {
        "_uuid": "e1333c807ceb1956681e31c4f4202a8ca5cda4f3",
        "id": "EljjBF1RLTcI"
      },
      "source": [
        "### <a id=11.4>11.4. Cosine TFIDF Movie Description Similarity</a>\n",
        "\n",
        "If there is no historical data for a user or there is reliable metadata for each movie, it can be useful to **compare the metadata of the movies to find similar ones.**<br>\n",
        "In this approch I will use the **movie description to create a TFIDF-matrix**, which counts and weights words in all descriptions, and compute a cosine similarity between all of those sparse text-vectors. This can easily be extended to more or different features if you like.<br>\n",
        "Unfortunately it is impossible for this model to compute a RMSE score, since the model does not recommend the movies directly.<br>\n",
        "In this way it is possible to **find movies closly related to each other**, but it is **hard to find movies of different genres/categories.**"
      ]
    },
    {
      "cell_type": "code",
      "execution_count": null,
      "metadata": {
        "_kg_hide-input": true,
        "_uuid": "514ce2c714e374fcc4d34127f7834c8207d9ca84",
        "id": "pQI8ebB_LTcI",
        "trusted": true
      },
      "outputs": [],
      "source": [
        "# Create tf-idf matrix for text comparison\n",
        "tfidf = TfidfVectorizer(stop_words='english')\n",
        "tfidf_matrix = tfidf.fit_transform(movie_metadata['overview'].dropna())\n",
        "\n",
        "\n",
        "# Compute cosine similarity between all movie-descriptions\n",
        "similarity = cosine_similarity(tfidf_matrix)\n",
        "# Remove self-similarity from matrix\n",
        "similarity -= np.eye(similarity.shape[0])\n",
        "\n",
        "\n",
        "# Get index of movie to find similar movies\n",
        "movie = 'Batman Begins'\n",
        "n_plot = 10\n",
        "index = movie_metadata.reset_index(drop=True)[movie_metadata.index==movie].index[0]\n",
        "\n",
        "# Get indices and scores of similar movies\n",
        "similar_movies_index = np.argsort(similarity[index])[::-1][:n_plot]\n",
        "similar_movies_score = np.sort(similarity[index])[::-1][:n_plot]\n",
        "\n",
        "# Get titles of similar movies\n",
        "similar_movie_titles = movie_metadata.iloc[similar_movies_index].index\n",
        "\n",
        "\n",
        "# Create trace\n",
        "trace = go.Bar(x = similar_movies_score,\n",
        "               text = similar_movie_titles,\n",
        "               textposition = 'inside',\n",
        "               textfont = dict(color = '#000000'),\n",
        "               orientation = 'h',\n",
        "               y = list(range(1, n_plot+1)),\n",
        "               marker = dict(color = '#db0000'))\n",
        "# Create layout\n",
        "layout = dict(title = 'Ranking Of Top {} Most Similar Movie Descriptions For \"{}\"'.format(n_plot, movie),\n",
        "              xaxis = dict(title = 'Cosine TFIDF Description Similarity',\n",
        "                           range = (0, 0.4)),\n",
        "              yaxis = dict(title = 'Movie'))\n",
        "# Create plot\n",
        "fig = go.Figure(data=[trace], layout=layout)\n",
        "iplot(fig)"
      ]
    },
    {
      "cell_type": "markdown",
      "metadata": {
        "_uuid": "fea679ee86b2eda4e76f26343dfb2b32ec86ff7f",
        "id": "iHQ2mPv_LTcI"
      },
      "source": [
        "### <a id=11.5>11.5. Matrix Factorisation With Keras And Gradient Descent</a>\n",
        "\n",
        "The **user-movie rating matrix is high dimensional and sparse**, therefore I am going to reduce the dimensionality to represent the data in a dense form.<br>\n",
        "**Using matrix factorisation a large matrix can be estimated/decomposed into two long but slim matrices.** With gradient descent it is possible to adjust these matrices to represent the given ratings. The **gradient descent algorithm finds latent variables which represent the underlying structure** of the dataset. Afterwards these latent variables can be used to reconstruct the original matrix and to predict the missing ratings for each user.<br>\n",
        "In this case the model has not been trained to convergence and is not hyperparameter optimized."
      ]
    },
    {
      "cell_type": "code",
      "execution_count": null,
      "metadata": {
        "_kg_hide-input": true,
        "_uuid": "c60ee524b6fac87155f7e136dc47b3f6313a4d4f",
        "id": "q1jHjsmlLTcJ",
        "trusted": true
      },
      "outputs": [],
      "source": [
        "# Create user- & movie-id mapping\n",
        "user_id_mapping = {id:i for i, id in enumerate(df_filterd['User'].unique())}\n",
        "movie_id_mapping = {id:i for i, id in enumerate(df_filterd['Movie'].unique())}\n",
        "\n",
        "\n",
        "# Create correctly mapped train- & testset\n",
        "train_user_data = df_train['User'].map(user_id_mapping)\n",
        "train_movie_data = df_train['Movie'].map(movie_id_mapping)\n",
        "\n",
        "test_user_data = df_test['User'].map(user_id_mapping)\n",
        "test_movie_data = df_test['Movie'].map(movie_id_mapping)\n",
        "\n",
        "\n",
        "# Get input variable-sizes\n",
        "users = len(user_id_mapping)\n",
        "movies = len(movie_id_mapping)\n",
        "embedding_size = 10\n",
        "\n",
        "\n",
        "##### Create model\n",
        "# Set input layers\n",
        "user_id_input = Input(shape=[1], name='user')\n",
        "movie_id_input = Input(shape=[1], name='movie')\n",
        "\n",
        "# Create embedding layers for users and movies\n",
        "user_embedding = Embedding(output_dim=embedding_size, \n",
        "                           input_dim=users,\n",
        "                           input_length=1, \n",
        "                           name='user_embedding')(user_id_input)\n",
        "movie_embedding = Embedding(output_dim=embedding_size, \n",
        "                            input_dim=movies,\n",
        "                            input_length=1, \n",
        "                            name='item_embedding')(movie_id_input)\n",
        "\n",
        "# Reshape the embedding layers\n",
        "user_vector = Reshape([embedding_size])(user_embedding)\n",
        "movie_vector = Reshape([embedding_size])(movie_embedding)\n",
        "\n",
        "# Compute dot-product of reshaped embedding layers as prediction\n",
        "y = Dot(1, normalize=False)([user_vector, movie_vector])\n",
        "\n",
        "# Setup model\n",
        "model = Model(inputs=[user_id_input, movie_id_input], outputs=y)\n",
        "model.compile(loss='mse', optimizer='adam')\n",
        "\n",
        "\n",
        "# Fit model\n",
        "model.fit([train_user_data, train_movie_data],\n",
        "          df_train['Rating'],\n",
        "          batch_size=256, \n",
        "          epochs=1,\n",
        "          validation_split=0.1,\n",
        "          shuffle=True)\n",
        "\n",
        "# Test model\n",
        "y_pred = model.predict([test_user_data, test_movie_data])\n",
        "y_true = df_test['Rating'].values\n",
        "\n",
        "#  Compute RMSE\n",
        "rmse = np.sqrt(mean_squared_error(y_pred=y_pred, y_true=y_true))\n",
        "print('\\n\\nTesting Result With Keras Matrix-Factorization: {:.4f} RMSE'.format(rmse))"
      ]
    },
    {
      "cell_type": "markdown",
      "metadata": {
        "_uuid": "96357ff4ac54e1032d1ba753679efe5aec4b6c51",
        "id": "zvHoS0CBLTcJ"
      },
      "source": [
        "### <a id=11.6>11.6. Deep Learning With Keras</a>\n",
        "\n",
        "With its embedding layers this is similar to the matrix factorization approach above, but instead of using a fixed dot-product as recommendation we will utilize some **dense layers so the network can find better combinations.**"
      ]
    },
    {
      "cell_type": "code",
      "execution_count": null,
      "metadata": {
        "_kg_hide-input": true,
        "_uuid": "f6c1cc0b3358aab82de6ab77f01fef6e059bd67b",
        "id": "tV1RwMk_LTcJ",
        "trusted": true
      },
      "outputs": [],
      "source": [
        "# Setup variables\n",
        "user_embedding_size = 20\n",
        "movie_embedding_size = 10\n",
        "\n",
        "\n",
        "##### Create model\n",
        "# Set input layers\n",
        "user_id_input = Input(shape=[1], name='user')\n",
        "movie_id_input = Input(shape=[1], name='movie')\n",
        "\n",
        "# Create embedding layers for users and movies\n",
        "user_embedding = Embedding(output_dim=user_embedding_size, \n",
        "                           input_dim=users,\n",
        "                           input_length=1, \n",
        "                           name='user_embedding')(user_id_input)\n",
        "movie_embedding = Embedding(output_dim=movie_embedding_size, \n",
        "                            input_dim=movies,\n",
        "                            input_length=1, \n",
        "                            name='item_embedding')(movie_id_input)\n",
        "\n",
        "# Reshape the embedding layers\n",
        "user_vector = Reshape([user_embedding_size])(user_embedding)\n",
        "movie_vector = Reshape([movie_embedding_size])(movie_embedding)\n",
        "\n",
        "# Concatenate the reshaped embedding layers\n",
        "concat = Concatenate()([user_vector, movie_vector])\n",
        "\n",
        "# Combine with dense layers\n",
        "dense = Dense(256)(concat)\n",
        "y = Dense(1)(dense)\n",
        "\n",
        "# Setup model\n",
        "model = Model(inputs=[user_id_input, movie_id_input], outputs=y)\n",
        "model.compile(loss='mse', optimizer='adam')\n",
        "\n",
        "\n",
        "# Fit model\n",
        "model.fit([train_user_data, train_movie_data],\n",
        "          df_train['Rating'],\n",
        "          batch_size=256, \n",
        "          epochs=1,\n",
        "          validation_split=0.1,\n",
        "          shuffle=True)\n",
        "\n",
        "# Test model\n",
        "y_pred = model.predict([test_user_data, test_movie_data])\n",
        "y_true = df_test['Rating'].values\n",
        "\n",
        "#  Compute RMSE\n",
        "rmse = np.sqrt(mean_squared_error(y_pred=y_pred, y_true=y_true))\n",
        "print('\\n\\nTesting Result With Keras Deep Learning: {:.4f} RMSE'.format(rmse))"
      ]
    },
    {
      "cell_type": "markdown",
      "metadata": {
        "_uuid": "fcb4c3d8f4a5e0113b2bd5ab4d6793ec0f33ad22",
        "id": "9VKooDr5LTcK"
      },
      "source": [
        "### <a id=11.7>11.7. Deep Hybrid System With Metadata And Keras</a>\n",
        "\n",
        "One advantage of deep learning models is, that **movie-metadata can easily be added to the model.**<br>\n",
        "I will **tf-idf transform the short description** of all movies to a sparse vector. The model will learn to reduce the dimensionality of this vector and how to **combine metadata with the embedding of the user-id and the movie-id.** In this way you can add any additional metadata to your own recommender.<br>\n",
        "These kind of hybrid systems can learn how to reduce the impact of the cold start problem."
      ]
    },
    {
      "cell_type": "code",
      "execution_count": null,
      "metadata": {
        "_kg_hide-input": true,
        "_uuid": "d76c61694dfd9b6592b2e68765d55b63cfbd41e7",
        "id": "Bs3ScSz3LTcK",
        "trusted": true
      },
      "outputs": [],
      "source": [
        "# Create user- & movie-id mapping\n",
        "user_id_mapping = {id:i for i, id in enumerate(df['User'].unique())}\n",
        "movie_id_mapping = {id:i for i, id in enumerate(df['Movie'].unique())}\n",
        "\n",
        "# Use mapping to get better ids\n",
        "df['User'] = df['User'].map(user_id_mapping)\n",
        "df['Movie'] = df['Movie'].map(movie_id_mapping)\n",
        "\n",
        "\n",
        "##### Combine both datasets to get movies with metadata\n",
        "# Preprocess metadata\n",
        "tmp_metadata = movie_metadata.copy()\n",
        "tmp_metadata.index = tmp_metadata.index.str.lower()\n",
        "\n",
        "# Preprocess titles\n",
        "tmp_titles = movie_titles.drop('Year', axis=1).copy()\n",
        "tmp_titles = tmp_titles.reset_index().set_index('Name')\n",
        "tmp_titles.index = tmp_titles.index.str.lower()\n",
        "\n",
        "# Combine titles and metadata\n",
        "df_id_descriptions = tmp_titles.join(tmp_metadata).dropna().set_index('Id')\n",
        "df_id_descriptions['overview'] = df_id_descriptions['overview'].str.lower()\n",
        "del tmp_metadata,tmp_titles\n",
        "\n",
        "\n",
        "# Filter all ratings with metadata\n",
        "df_hybrid = df.drop('Date', axis=1).set_index('Movie').join(df_id_descriptions).dropna().drop('overview', axis=1).reset_index().rename({'index':'Movie'}, axis=1)\n",
        "\n",
        "\n",
        "# Split train- & testset\n",
        "n = 100000\n",
        "df_hybrid = df_hybrid.sample(frac=1).reset_index(drop=True)\n",
        "df_hybrid_train = df_hybrid[:1500000]\n",
        "df_hybrid_test = df_hybrid[-n:]\n",
        "\n",
        "\n",
        "# Create tf-idf matrix for text comparison\n",
        "tfidf = TfidfVectorizer(stop_words='english')\n",
        "tfidf_hybrid = tfidf.fit_transform(df_id_descriptions['overview'])\n",
        "\n",
        "\n",
        "# Get mapping from movie-ids to indices in tfidf-matrix\n",
        "mapping = {id:i for i, id in enumerate(df_id_descriptions.index)}\n",
        "\n",
        "train_tfidf = []\n",
        "# Iterate over all movie-ids and save the tfidf-vector\n",
        "for id in df_hybrid_train['Movie'].values:\n",
        "    index = mapping[id]\n",
        "    train_tfidf.append(tfidf_hybrid[index])\n",
        "    \n",
        "test_tfidf = []\n",
        "# Iterate over all movie-ids and save the tfidf-vector\n",
        "for id in df_hybrid_test['Movie'].values:\n",
        "    index = mapping[id]\n",
        "    test_tfidf.append(tfidf_hybrid[index])\n",
        "\n",
        "\n",
        "# Stack the sparse matrices\n",
        "train_tfidf = vstack(train_tfidf)\n",
        "test_tfidf = vstack(test_tfidf)\n",
        "\n",
        "\n",
        "##### Setup the network\n",
        "# Network variables\n",
        "user_embed = 10\n",
        "movie_embed = 10\n",
        "\n",
        "\n",
        "# Create two input layers\n",
        "user_id_input = Input(shape=[1], name='user')\n",
        "movie_id_input = Input(shape=[1], name='movie')\n",
        "tfidf_input = Input(shape=[24144], name='tfidf', sparse=True)\n",
        "\n",
        "# Create separate embeddings for users and movies\n",
        "user_embedding = Embedding(output_dim=user_embed,\n",
        "                           input_dim=len(user_id_mapping),\n",
        "                           input_length=1,\n",
        "                           name='user_embedding')(user_id_input)\n",
        "movie_embedding = Embedding(output_dim=movie_embed,\n",
        "                            input_dim=len(movie_id_mapping),\n",
        "                            input_length=1,\n",
        "                            name='movie_embedding')(movie_id_input)\n",
        "\n",
        "# Dimensionality reduction with Dense layers\n",
        "tfidf_vectors = Dense(128, activation='relu')(tfidf_input)\n",
        "tfidf_vectors = Dense(32, activation='relu')(tfidf_vectors)\n",
        "\n",
        "# Reshape both embedding layers\n",
        "user_vectors = Reshape([user_embed])(user_embedding)\n",
        "movie_vectors = Reshape([movie_embed])(movie_embedding)\n",
        "\n",
        "# Concatenate all layers into one vector\n",
        "both = Concatenate()([user_vectors, movie_vectors, tfidf_vectors])\n",
        "\n",
        "# Add dense layers for combinations and scalar output\n",
        "dense = Dense(512, activation='relu')(both)\n",
        "dense = Dropout(0.2)(dense)\n",
        "output = Dense(1)(dense)\n",
        "\n",
        "\n",
        "# Create and compile model\n",
        "model = Model(inputs=[user_id_input, movie_id_input, tfidf_input], outputs=output)\n",
        "model.compile(loss='mse', optimizer='adam')\n",
        "\n",
        "\n",
        "# Train and test the network\n",
        "model.fit([df_hybrid_train['User'], df_hybrid_train['Movie'], train_tfidf],\n",
        "          df_hybrid_train['Rating'],\n",
        "          batch_size=1024, \n",
        "          epochs=2,\n",
        "          validation_split=0.1,\n",
        "          shuffle=True)\n",
        "\n",
        "y_pred = model.predict([df_hybrid_test['User'], df_hybrid_test['Movie'], test_tfidf])\n",
        "y_true = df_hybrid_test['Rating'].values\n",
        "\n",
        "rmse = np.sqrt(mean_squared_error(y_pred=y_pred, y_true=y_true))\n",
        "print('\\n\\nTesting Result With Keras Hybrid Deep Learning: {:.4f} RMSE'.format(rmse))"
      ]
    },
    {
      "cell_type": "markdown",
      "metadata": {
        "_uuid": "0d9a03d54a7e6f5d315a27a2d53e33ec30d2ddaa",
        "id": "jsGKYQtNLTcK"
      },
      "source": [
        "***\n",
        "## <a id=12>12. Exploring Python Libraries</a>\n",
        "### <a id=12.1>12.1. Surprise Library</a>\n",
        "\n",
        "The [surprise library](http://surpriselib.com/) was built for **creating and analyzing recommender systems.**<br>\n",
        "It has to be mentioned that most of the built-in algorithms use some kind of the above approches.\n",
        "I am going to **compare these algorithms to each other** in this section using **3-fold crossvalidation.** Since the algorithms and the dataset have a large memoryfootprint the comparison will be executed on a **subsampled dataset which is not comparable to the above models.**"
      ]
    },
    {
      "cell_type": "code",
      "execution_count": null,
      "metadata": {
        "_kg_hide-input": true,
        "_kg_hide-output": true,
        "_uuid": "62de0e92d9b77cea4e80aab70d13025644ae5136",
        "id": "Jus1kz9MLTcL",
        "trusted": true
      },
      "outputs": [],
      "source": [
        "# Load dataset into surprise specific data-structure\n",
        "data = sp.Dataset.load_from_df(df_filterd[['User', 'Movie', 'Rating']].sample(20000), sp.Reader())\n",
        "\n",
        "benchmark = []\n",
        "# Iterate over all algorithms\n",
        "for algorithm in [sp.SVD(), sp.SVDpp(), sp.SlopeOne(), sp.NMF(), sp.NormalPredictor(), sp.KNNBaseline(), sp.KNNBasic(), sp.KNNWithMeans(), sp.KNNWithZScore(), sp.BaselineOnly(), sp.CoClustering()]:\n",
        "    # Perform cross validation\n",
        "    results = cross_validate(algorithm, data, measures=['RMSE', 'MAE'], cv=3, verbose=False)\n",
        "    \n",
        "    # Get results & append algorithm name\n",
        "    tmp = pd.DataFrame.from_dict(results).mean(axis=0)\n",
        "    tmp = tmp.append(pd.Series([str(algorithm).split(' ')[0].split('.')[-1]], index=['Algorithm']))\n",
        "    \n",
        "    # Store data\n",
        "    benchmark.append(tmp)"
      ]
    },
    {
      "cell_type": "code",
      "execution_count": null,
      "metadata": {
        "_kg_hide-input": true,
        "_uuid": "74796365ffdb7e4bcf66f24dc8d19c17c6258752",
        "id": "rIOrVIqNLTcL",
        "trusted": true
      },
      "outputs": [],
      "source": [
        "# Store results\n",
        "surprise_results = pd.DataFrame(benchmark).set_index('Algorithm').sort_values('test_rmse', ascending=False)\n",
        "\n",
        "# Get data\n",
        "data = surprise_results[['test_rmse', 'test_mae']]\n",
        "grid = data.values\n",
        "\n",
        "# Create axis labels\n",
        "x_axis = [label.split('_')[1].upper() for label in data.columns.tolist()]\n",
        "y_axis = data.index.tolist()\n",
        "\n",
        "x_label = 'Function'\n",
        "y_label = 'Algorithm'\n",
        "\n",
        "\n",
        "# Get annotations and hovertext\n",
        "hovertexts = []\n",
        "annotations = []\n",
        "for i, y_value in enumerate(y_axis):\n",
        "    row = []\n",
        "    for j, x_value in enumerate(x_axis):\n",
        "        annotation = grid[i, j]\n",
        "        row.append('Error: {:.3f}<br>{}: {}<br>{}: {}<br>Fit Time: {:.3f}s<br>Test Time: {:.3f}s'.format(annotation, y_label, y_value ,x_label, x_value, surprise_results.loc[y_value]['fit_time'], surprise_results.loc[y_value]['test_time']))\n",
        "        annotations.append(dict(x=x_value, y=y_value, text='{:.3f}'.format(annotation), ax=0, ay=0, font=dict(color='#000000')))\n",
        "    hovertexts.append(row)\n",
        "\n",
        "# Create trace\n",
        "trace = go.Heatmap(x = x_axis,\n",
        "                   y = y_axis,\n",
        "                   z = data.values,\n",
        "                   text = hovertexts,\n",
        "                   hoverinfo = 'text',\n",
        "                   colorscale = 'Picnic',\n",
        "                   colorbar = dict(title = 'Error'))\n",
        "\n",
        "# Create layout\n",
        "layout = go.Layout(title = 'Crossvalidated Comparison Of Surprise Algorithms',\n",
        "                   xaxis = dict(title = x_label),\n",
        "                   yaxis = dict(title = y_label,\n",
        "                                tickangle = -40),\n",
        "                   annotations = annotations)\n",
        "\n",
        "# Create plot\n",
        "fig = go.Figure(data=[trace], layout=layout)\n",
        "iplot(fig)"
      ]
    },
    {
      "cell_type": "markdown",
      "metadata": {
        "_uuid": "3b7479d289f96bf71869cf0abc4b07a6773cdf2b",
        "id": "iIzQAJonLTcM"
      },
      "source": [
        "### <a id=12.2>12.2. Lightfm Library</a>\n",
        "\n",
        "The [lightfm librariy](https://github.com/lyst/lightfm) focuses on **matrix factorization with explicit and implicit feedback.** Furthermore additional information like movie-metadata can be used to form a **hybrid model between content-based and collaborative recommendation** which reduces the cold-start problem."
      ]
    },
    {
      "cell_type": "code",
      "execution_count": null,
      "metadata": {
        "_kg_hide-input": true,
        "_uuid": "8eb12581dacde85ded13bbe365327a6a97ece91b",
        "id": "spmolJmPLTcM",
        "trusted": true
      },
      "outputs": [],
      "source": [
        "# Create user- & movie-id mapping\n",
        "user_id_mapping = {id:i for i, id in enumerate(df_filterd['User'].unique())}\n",
        "movie_id_mapping = {id:i for i, id in enumerate(df_filterd['Movie'].unique())}\n",
        "\n",
        "\n",
        "# Create correctly mapped train- & testset\n",
        "train_user_data = df_train['User'].map(user_id_mapping)\n",
        "train_movie_data = df_train['Movie'].map(movie_id_mapping)\n",
        "\n",
        "test_user_data = df_test['User'].map(user_id_mapping)\n",
        "test_movie_data = df_test['Movie'].map(movie_id_mapping)\n",
        "\n",
        "\n",
        "# Create sparse matrix from ratings\n",
        "shape = (len(user_id_mapping), len(movie_id_mapping))\n",
        "train_matrix = coo_matrix((df_train['Rating'].values, (train_user_data.astype(int), train_movie_data.astype(int))), shape=shape)\n",
        "test_matrix = coo_matrix((df_test['Rating'].values, (test_user_data.astype(int), test_movie_data.astype(int))), shape=shape)\n",
        "\n",
        "\n",
        "# Instantiate and train the model\n",
        "model = LightFM(loss='warp', no_components=20)\n",
        "model.fit(train_matrix, epochs=20, num_threads=2)\n",
        "\n",
        "\n",
        "# Evaluate the trained model\n",
        "k = 20\n",
        "print('Train precision at k={}:\\t{:.4f}'.format(k, precision_at_k(model, train_matrix, k=k).mean()))\n",
        "print('Test precision at k={}:\\t\\t{:.4f}'.format(k, precision_at_k(model, test_matrix, k=k).mean()))"
      ]
    },
    {
      "cell_type": "markdown",
      "metadata": {
        "_uuid": "ef74632b861afd028442f4a3f44e84297eff03f3",
        "id": "x4cHTAXwLTcM",
        "trusted": true
      },
      "source": [
        "***\n",
        "## <a id=13>13. Conclusion</a>\n",
        "\n",
        "There are many different ways to set up a recommender system and just like other machine learning algorithms it is very important to know which objective has to be optimized and therefore which layout should be choosen.<br>\n",
        "\n",
        "**Here you can find more in-depth content: [Pinterest](https://www.pinterest.de/dataliftoff/recommender-systems/)**\n",
        "\n",
        "***\n",
        "\n",
        "Other **python recommender libraries** are:\n",
        "+ [implicit](https://github.com/benfred/implicit)\n",
        "+ [spotlight](https://github.com/maciejkula/spotlight)\n",
        "+ [turicreate](https://github.com/apple/turicreate/blob/master/README.md)\n",
        "+ [mrec](https://github.com/Mendeley/mrec)\n",
        "+ [recsys](https://github.com/ocelma/python-recsys)\n",
        "+ [crab](http://muricoca.github.io/crab/)\n",
        "\n",
        "***\n",
        "***"
      ]
    }
  ],
  "metadata": {
    "accelerator": "GPU",
    "colab": {
      "collapsed_sections": [],
      "private_outputs": true,
      "provenance": []
    },
    "kernelspec": {
      "display_name": "Python 3.9.12 ('base')",
      "language": "python",
      "name": "python3"
    },
    "language_info": {
      "codemirror_mode": {
        "name": "ipython",
        "version": 3
      },
      "file_extension": ".py",
      "mimetype": "text/x-python",
      "name": "python",
      "nbconvert_exporter": "python",
      "pygments_lexer": "ipython3",
      "version": "3.9.12"
    },
    "vscode": {
      "interpreter": {
        "hash": "1acf06c8fd8bc80800f08a72a7dc06ca6ff72dd3d390f63a44d70f4da57fac27"
      }
    }
  },
  "nbformat": 4,
  "nbformat_minor": 0
}
