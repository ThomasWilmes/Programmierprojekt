{
 "cells": [
  {
   "cell_type": "code",
   "execution_count": null,
   "metadata": {},
   "outputs": [],
   "source": [
    "# Install  Packets\n",
    "\n",
    "\n",
    "pip install lightfm -r requirements.txt\n",
    "pip install pandas -r requirements.txt\n",
    "pip install surprise -r requirements.txt\n",
    "pip install keras -r requirements.txt\n",
    "pip install scikit-surprise -r requirements.txt\n",
    "pip install tensorflow -r requirements.txt\n",
    "pip install pandas -r requirements.txt\n",
    "pip install google.colab -r requirements.txt\n",
    "pip install matplotlib -r requirements.txt\n",
    "pip install plotly -r requirements.txt\n",
    "pip install fastparquet -r requirements.txt\n",
    "pip install seaborn -r requirements.txt\n"
   ]
  }
 ],
 "metadata": {
  "kernelspec": {
   "display_name": "Python 3.10.7 64-bit",
   "language": "python",
   "name": "python3"
  },
  "language_info": {
   "name": "python",
   "version": "3.10.7"
  },
  "orig_nbformat": 4,
  "vscode": {
   "interpreter": {
    "hash": "b892d5bc208288d3a9437e40deb2124c0c46d46030c7774bd6d0ccd02de5a06f"
   }
  }
 },
 "nbformat": 4,
 "nbformat_minor": 2
}
